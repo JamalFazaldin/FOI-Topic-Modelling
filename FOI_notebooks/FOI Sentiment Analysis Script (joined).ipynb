{
 "cells": [
  {
   "cell_type": "markdown",
   "metadata": {},
   "source": [
    "Imported Libaries"
   ]
  },
  {
   "cell_type": "code",
   "execution_count": 2,
   "metadata": {},
   "outputs": [],
   "source": [
    "import os\n",
    "from sqlalchemy import create_engine, inspect\n",
    "\n",
    "import inspect\n",
    "from IPython.display import display as original_display\n",
    "\n",
    "import pandas as pd\n",
    "pd.set_option('display.max_columns', None)\n",
    "pd.options.mode.chained_assignment = None\n",
    "\n",
    "# import geopandas as gpd\n",
    "# from geopy.geocoders import Nominatim\n",
    "\n",
    "import numpy as np\n",
    "# import seaborn as sns\n",
    "\n",
    "# import matplotlib.pyplot as plt\n",
    "# import matplotlib.ticker as mtick\n",
    "# import matplotlib.colors as mcolors\n",
    "\n",
    "import re\n",
    "# import string\n",
    "\n",
    "import warnings\n",
    "warnings.filterwarnings('ignore')"
   ]
  },
  {
   "cell_type": "markdown",
   "metadata": {},
   "source": [
    "Script Specifc Imported Libaries"
   ]
  },
  {
   "cell_type": "code",
   "execution_count": 3,
   "metadata": {},
   "outputs": [
    {
     "name": "stderr",
     "output_type": "stream",
     "text": [
      "[nltk_data] Downloading package punkt_tab to\n",
      "[nltk_data]     C:\\Users\\jf79\\AppData\\Roaming\\nltk_data...\n",
      "[nltk_data]   Package punkt_tab is already up-to-date!\n",
      "[nltk_data] Downloading package stopwords to\n",
      "[nltk_data]     C:\\Users\\jf79\\AppData\\Roaming\\nltk_data...\n",
      "[nltk_data]   Package stopwords is already up-to-date!\n",
      "[nltk_data] Downloading package wordnet to\n",
      "[nltk_data]     C:\\Users\\jf79\\AppData\\Roaming\\nltk_data...\n",
      "[nltk_data]   Package wordnet is already up-to-date!\n"
     ]
    }
   ],
   "source": [
    "from tqdm import tqdm\n",
    "import itertools\n",
    "\n",
    "import threading\n",
    "from concurrent.futures import ThreadPoolExecutor\n",
    "\n",
    "from queue import Queue\n",
    "results_queue = Queue()\n",
    "\n",
    "\n",
    "\n",
    "import nltk\n",
    "nltk_data_path = os.getenv('', 'default/path')\n",
    "nltk.download('punkt_tab')\n",
    "nltk.download('stopwords')\n",
    "nltk.download('wordnet')\n",
    "\n",
    "# from nltk.probability import FreqDist\n",
    "from nltk.corpus import stopwords\n",
    "from nltk.tokenize import word_tokenize\n",
    "from nltk.stem import WordNetLemmatizer\n",
    "\n",
    "import spacy\n",
    "from spellchecker import SpellChecker\n",
    "# from wordsegment import load, segment\n",
    "from wordsegment import Segmenter\n",
    "from collections import Counter\n",
    "# from wordcloud import WordCloud\n",
    "\n",
    "# Initialize external tools\n",
    "spell = SpellChecker()\n",
    "custom_segmenter = Segmenter()\n",
    "custom_segmenter.load()  # Load data for wordsegment\n",
    "lemmatizer = WordNetLemmatizer()\n",
    "nlp = spacy.load('en_core_web_sm')\n",
    "\n",
    "vocabulary = [\n",
    "    'FOI','vapes','vape','riley'\n",
    "]\n",
    "custom_stopwords = {\n",
    "    'freedom','information','act','following','report',\n",
    "    'please','dear','yes','request','provide',\n",
    "    'hammersmith','fulham','like','email','requesting',\n",
    "    'see','attach','foi','attached','service','would','many',\n",
    "    'faithfully','number','council','authority','local','year',\n",
    "    'borough','name','could','data','within','question','including',\n",
    "    'copy','also','made','regarding','since','relating','requested',\n",
    "    'thank','confirm','sent','make','date','much','kind','regard',\n",
    "    'good','afternoon','evening','sir','madam','hello','per','correspondence',\n",
    "    'address','total','contact','look','forward','hearing','way','day','apologise',\n",
    "    'responding','grateful','necessary','period','list','time','related','detail',\n",
    "    'use','end','last'\n",
    "}\n",
    "month_stopwords = {\n",
    "    'january','february','march','april',\n",
    "    'may','june','july','august','september',\n",
    "    'october','november','december','jan','feb',\n",
    "    'mar','apr','may','jun','jul','aug','sep',\n",
    "    'oct','nov','dec','sept'\n",
    "}\n",
    "\n",
    "spell.word_frequency.load_words(vocabulary)\n",
    "for word in vocabulary:\n",
    "    custom_segmenter.unigrams[word] = 1e9\n",
    "stop_words = set(stopwords.words('english'))\n",
    "stop_words.update(custom_stopwords)\n",
    "stop_words.update(month_stopwords)\n",
    "\n",
    "import gensim\n",
    "from gensim.models import CoherenceModel#, LdaModel\n",
    "from gensim.corpora import Dictionary\n",
    "\n",
    "import pyLDAvis.gensim_models as gensimvis\n",
    "import pickle\n",
    "import pyLDAvis\n",
    "\n",
    "# from sklearn.feature_extraction.text import CountVectorizer\n",
    "# from sklearn.decomposition import LatentDirichletAllocation"
   ]
  },
  {
   "cell_type": "markdown",
   "metadata": {},
   "source": [
    "Standard Functions"
   ]
  },
  {
   "cell_type": "code",
   "execution_count": 4,
   "metadata": {},
   "outputs": [],
   "source": [
    "# Standard Functions #\n",
    "\n",
    "# Function to clean labels in any plot functions\n",
    "def clean_label(label):\n",
    "    return label.replace('_', ' ').title()\n",
    " \n",
    "# Function for getting the name of a Dataframe\n",
    "def get_var_name(var):\n",
    "    for name, value in globals().items():\n",
    "        if value is var:\n",
    "            return name\n",
    " \n",
    "# Function to validate the data in a Dataframe\n",
    "def validate_data(df, show_counts=True):\n",
    "    df_name = get_var_name(df)\n",
    "    print(f'#########################################################################################################################################################################################\\nDataFrame: {df_name}')\n",
    "    #snapshot the dataset\n",
    "    display(df)\n",
    "    #check for unique values\n",
    "    unique_counts = pd.DataFrame(df.nunique())\n",
    "    unique_counts = unique_counts.reset_index().rename(columns={0:'No. of Unique Values', 'index':'Field Name'})\n",
    "    print(\"Unique values per field:\")\n",
    "    pd.set_option('display.max_rows', None)\n",
    "    display(unique_counts)\n",
    "    pd.reset_option('display.max_rows')\n",
    "    #checking for duplicates\n",
    "    duplicate_count = df.duplicated().sum()\n",
    "    print(\"\\nNumber of duplicate rows:\")\n",
    "    print(duplicate_count,'\\n')\n",
    "    info = df.info(show_counts=show_counts)\n",
    "    display(info)\n",
    "    #summary stats\n",
    "    print(\"\\nSummary statistics:\")\n",
    "    display(df.describe())\n",
    "    print('End of data validation\\n#########################################################################################################################################################################################\\n')\n",
    " \n",
    "# Function to provide list for data sources as a dataframe when conducting analysis\n",
    "def header_list(df):\n",
    "    df_list_ = df.copy()\n",
    "    df_list = df_list_.columns.tolist()\n",
    "    df_list = pd.DataFrame(df_list)\n",
    "    new_header = df_list.iloc[0]  # Get the first row for the header\n",
    "    df_list = df_list[1:]  # Take the data less the header row\n",
    "    df_list.columns = new_header  # Set the header row as the df header\n",
    "    df_list.reset_index(drop=True, inplace=True)  # Reset index\n",
    "   \n",
    "    return df_list\n",
    " \n",
    "def query_data(schema, data):\n",
    "    # Define the SQL query\n",
    "    query = f'SELECT * FROM [{schema}].[{data}]'\n",
    " \n",
    "    # Load data into DataFrame\n",
    "    df = pd.read_sql(query, engine)\n",
    " \n",
    "    print(f'Successfully imported {data}')\n",
    "    # Display the DataFrame\n",
    "    return df\n",
    "\n",
    "def display(df):\n",
    "    # Attempt to get the name of the DataFrame from the caller's local variables\n",
    "    frame = inspect.currentframe().f_back\n",
    "    # Attempt to find the variable name corresponding to the DataFrame\n",
    "    name = \"Unnamed DataFrame\"\n",
    "    for var_name, var_value in frame.f_locals.items():\n",
    "        if var_value is df:\n",
    "            name = var_name\n",
    "            break\n",
    " \n",
    "    # If the name is not in the list to be excluded, print it\n",
    "    if name not in {'df', 'Unnamed DataFrame', 'unique_counts'}:\n",
    "        print(f\"DataFrame: {name}\")\n",
    "    # Always display the DataFrame regardless of the name\n",
    "    original_display(df)\n",
    "\n",
    "def unique_values(df, display_df=True):\n",
    "    # Extract unique values for each field and store them in a dictionary\n",
    "    unique_values = {col: df[col].unique() for col in df.columns}\n",
    "    # Find the maximum number of unique values\n",
    "    max_length = max(len(values) for values in unique_values.values())\n",
    "    # Create a dictionary for the new DataFrame with padded None values\n",
    "    unique_df_data = {}\n",
    "    for col, values in unique_values.items():\n",
    "        unique_df_data[col] = list(values) + [None] * (max_length - len(values))\n",
    "    # Create the new DataFrame\n",
    "    unique_df = pd.DataFrame(unique_df_data)\n",
    "    if display_df == True:\n",
    "        # Set display options to show all rows and display the DataFrame\n",
    "        pd.set_option('display.max_rows', None)\n",
    "        display(unique_df.head(100))\n",
    "        # Reset display options back to default\n",
    "        pd.reset_option('display.max_rows')\n",
    "\n",
    "def read_directory():\n",
    "    directory = os.getcwd()\n",
    "    files = os.listdir(os.getcwd())\n",
    "    print(f\"Your Current Directory is: {directory}\")\n",
    "    print(\"Files in: %s\" % (files))\n",
    "\n",
    "def export_to_csv(df):\n",
    "    df_name = get_var_name(df)\n",
    "    # Specify the directory and filename\n",
    "    directory = r\"C:\\Users\\jf79\\OneDrive - Office Shared Service\\Documents\\H&F Analysis\\Python CSV Repositry\"\n",
    "    file_path = f'{directory}\\\\{df_name}.csv'\n",
    "    # Export the DataFrame to the specified directory\n",
    "    df.to_csv(file_path, index=False)\n",
    "    print(f'Successfully exported {df_name} to CSV')"
   ]
  },
  {
   "cell_type": "markdown",
   "metadata": {},
   "source": [
    "Script Specific Functions"
   ]
  },
  {
   "cell_type": "code",
   "execution_count": 5,
   "metadata": {},
   "outputs": [],
   "source": [
    "# Script Specific Functions #\n",
    "def get_pos_tags(text):\n",
    "    doc = nlp(text)\n",
    "    return {token.text: token.tag_ for token in doc}\n",
    "\n",
    "def is_valid_correction(original, pos_tags):\n",
    "    # Skip correction if the original word matches these patterns\n",
    "    if re.match(r\"\\d+(st|nd|rd|th)\", original):  # Ordinal numbers\n",
    "        return False\n",
    "    if pos_tags and pos_tags.get(original) == 'NNP' or pos_tags.get(original) == 'PROPN':\n",
    "        return False\n",
    "    return True\n",
    "\n",
    "def is_valid_token(word):\n",
    "    if len(word) > 2:\n",
    "        return True\n",
    "    if any(char.isdigit() for char in word):\n",
    "        return False\n",
    "    return False\n",
    "\n",
    "# Tokenization function\n",
    "def safe_tokenize(text):\n",
    "    if isinstance(text, str):\n",
    "        return word_tokenize(text)\n",
    "    return []\n",
    "\n",
    "def segementing_and_spelling(tokens):\n",
    "    # Step 3: Spelling correction and word segmentation\n",
    "    corrected_tokens = []\n",
    "    for word in tokens:\n",
    "        split_words = custom_segmenter.segment(word)  # Split merged words\n",
    "        for subword in split_words:\n",
    "            corrected_word = spell.correction(subword) or word # Correct spelling\n",
    "            pos_tags = get_pos_tags(subword)\n",
    "            if not is_valid_correction(subword, pos_tags):  # Skip invalid corrections\n",
    "                corrected_word = subword\n",
    "            corrected_tokens.append(corrected_word)\n",
    "        \n",
    "    filtered_tokens = [word for word in corrected_tokens if is_valid_token(word)]\n",
    "\n",
    "    \n",
    "    return filtered_tokens\n",
    "\n",
    "def process_text(row,details):\n",
    "    text = row[f'{details}']\n",
    "    if not isinstance(text, str):  # Convert non-string types to string\n",
    "        text = str(text)\n",
    "    if not text.strip():  # Skip empty or whitespace strings\n",
    "        return \"\"\n",
    " \n",
    "    try:\n",
    "        # Step 1: Text cleaning\n",
    "        text = text.lower()  # Lowercase\n",
    "        text = re.sub(r\"https?://\\S+|www\\.\\S+\", \"\", text)  # Remove URLs\n",
    "        text = re.sub(r\"\\b[A-Za-z0-9._%+-]+@[A-Za-z0-9.-]+\\b\", \"\", text)  # Remove email addresses\n",
    "        text = re.sub(r\"\\d+\", \"\", text)  # Remove numbers\n",
    "        text = re.sub(r\"[^\\w\\s]\", \"\", text)  # Remove punctuation\n",
    "        text = re.sub(r\"\\s+\", \" \", text).strip()  # Normalize spaces\n",
    " \n",
    "        # Step 2: Tokenization\n",
    "        tokens = text.split()\n",
    "        \n",
    "        # Step 3 & 4: Word segmenting and spelling\n",
    "        corrected_tokens = segementing_and_spelling(tokens=tokens)\n",
    " \n",
    "        # Step 5: Lemmatization and stop word removal\n",
    "        lemmatized_tokens = [lemmatizer.lemmatize(word) for word in corrected_tokens if word not in stop_words]\n",
    "\n",
    "        lemmatized_tokens = [word for word in lemmatized_tokens if word not in stop_words]\n",
    "\n",
    "        # Step 6: Word segmenting and spelling (again)\n",
    "        final_tokens = segementing_and_spelling(tokens=lemmatized_tokens)\n",
    "\n",
    "        final_tokens = [word for word in final_tokens if word not in stop_words]\n",
    "\n",
    "        # Step 7: Join processed tokens into a string\n",
    "        return \" \".join(final_tokens)\n",
    " \n",
    "    except Exception as e:\n",
    "        print(f\"Error processing text: {repr(text)}\")\n",
    "        raise e\n",
    " \n",
    " \n",
    "def process_text_with_progress(df,details):\n",
    "    # Initialize tqdm progress bar\n",
    "    pbar = tqdm.tqdm(total=len(df), desc=\"Processing rows\", unit=\"row\", dynamic_ncols=True)\n",
    "    def process_row(row):\n",
    "        try:\n",
    "            return process_text(row,details=details)\n",
    "        finally:\n",
    "            # Update the progress bar for every row processed\n",
    "            pbar.update(1)\n",
    "    \n",
    "    df['processed_details'] = df.apply(process_row, axis=1)\n",
    "    df['processed_tokens'] = df['processed_details'].apply(safe_tokenize)\n",
    "\n",
    "    pbar.close()\n",
    "    \n",
    "    return df\n",
    "\n",
    "def prepare_corpus(tokens, threshold=100, allowed_postags=['NOUN', 'ADJ', 'VERB', 'ADV']):\n",
    "    # Generate bigrams and trigrams\n",
    "    bigram = gensim.models.Phrases(tokens, min_count=5, threshold=threshold)\n",
    "    trigram = gensim.models.Phrases(bigram[tokens], threshold=threshold)\n",
    "    bigram_mod = gensim.models.phrases.Phraser(bigram)\n",
    "    trigram_mod = gensim.models.phrases.Phraser(trigram)\n",
    "\n",
    "    bigram_texts = (bigram_mod[doc] for doc in tokens)\n",
    "    trigram_texts = (trigram_mod[bigram_mod[doc]] for doc in bigram_texts)\n",
    "\n",
    "    # Verify POS of each word\n",
    "    texts_out = []\n",
    "    for text in trigram_texts:\n",
    "        # Use SpaCy to process the text\n",
    "        doc = nlp(\" \".join(text))  # Join tokens into a string and process with SpaCy\n",
    "        filtered_tokens = [token.text for token in doc if token.pos_ in allowed_postags]\n",
    "        texts_out.append(filtered_tokens)\n",
    "    return texts_out\n",
    "\n",
    "def count_words(tokens):\n",
    "    # Flatten the tokenized details\n",
    "    all_tokens = [token for sublist in tokens for token in sublist]\n",
    "    # Count word frequencies\n",
    "    word_counts = Counter(all_tokens)\n",
    "    # Print the top 10 most common words\n",
    "    word_counts = pd.DataFrame([word_counts])\n",
    "    word_counts.reset_index(inplace=True)\n",
    "    word_counts = word_counts.melt(id_vars='index',var_name='Word',value_name='Count')\n",
    "    word_counts.sort_values(by='Count',ascending=False,inplace=True)\n",
    "    word_counts.reset_index(inplace=True,drop=['index'])\n",
    "    word_counts.drop(columns='index',inplace=True)\n",
    "    display(word_counts.head(25))\n",
    "    display(word_counts)\n",
    "\n",
    "# Model Evaluation Function\n",
    "def compute_coherence_values(corpus, dictionary, k, a, b):\n",
    "    lda_model = gensim.models.LdaMulticore(\n",
    "        corpus=corpus,\n",
    "        id2word=dictionary,\n",
    "        num_topics=k,\n",
    "        random_state=42,\n",
    "        chunksize=100,\n",
    "        passes=10,\n",
    "        alpha=a,\n",
    "        eta=b,\n",
    "        workers=4\n",
    "    )\n",
    "    coherence_model_lda = CoherenceModel(model=lda_model, texts=FOI_corpus, dictionary=id2words, coherence='c_v')\n",
    "\n",
    "    return coherence_model_lda.get_coherence()\n",
    "\n",
    "# Define the function for computing coherence for parameter sets\n",
    "def compute_for_params(corpus_set, k, a, b, corpus_title):\n",
    "    try:\n",
    "        # Thread-local coherence value computation\n",
    "        cv = compute_coherence_values(corpus=corpus_sets[corpus_set], dictionary=id2words, k=k, a=a, b=b)\n",
    "        # The result is created with thread-local variables\n",
    "        result = {\n",
    "            'Validation_Set': corpus_title,\n",
    "            'Topics': k,\n",
    "            'Alpha': a,\n",
    "            'Beta': b,\n",
    "            'Coherence': cv\n",
    "        }\n",
    "        results_queue.put(result)\n",
    "    except Exception as e:\n",
    "        print(f\"Error processing (k={k}, a={a}, b={b}, corpus_title={corpus_title}): {str(e)}\")\n",
    "\n",
    "def run_io_task_in_parallel(tasks):\n",
    "    with ThreadPoolExecutor(max_workers=4) as executor:\n",
    "        futures = [executor.submit(task) for task in tasks]\n",
    "        for future in futures:\n",
    "            future.result()\n",
    "\n",
    "def find_element(corpus_title):\n",
    "    if corpus_title == '75% Corpus':\n",
    "        return 0\n",
    "    return 1\n",
    "\n",
    "def sankey_plot(df, source, target, value, name='Value'):\n",
    "    # # Count the occurrences of each unique pair\n",
    "    # counts = df.groupby([f'{source}',f'{target}']).size().reset_index(name='Value')\n",
    "    \n",
    "    # # Create a mapping of unique labels to indices\n",
    "    # unique_labels = list(set(counts[f'{source}'].tolist() + counts[f'{target}'].tolist()))\n",
    "    # label_to_index = {label: i for i, label in enumerate(unique_labels)}\n",
    "    \n",
    "    # # Map source and target to their indices\n",
    "    # counts['sourceIndex'] = counts[f'{source}'].map(label_to_index)\n",
    "    # counts['targetIndex'] = counts[f'{target}'].map(label_to_index)\n",
    "    \n",
    "    # # Prepare data for Sankey diagram\n",
    "    # source = counts['sourceIndex'].tolist()\n",
    "    # target = counts['targetIndex'].tolist()\n",
    "    # value = counts['Value'].tolist()\n",
    "    \n",
    "    # Step 1: Aggregate the data by summing the 'value' for each (source, target) pair\n",
    "    agg_df = df.groupby([f'{source}', f'{target}'])[f'{value}'].sum().reset_index()\n",
    "    display(agg_df)\n",
    "    # Step 2: Create a list of unique sources and targets\n",
    "    all_nodes = list(set(agg_df[f'{source}']).union(set(agg_df[f'{target}'])))\n",
    "    \n",
    "    # Step 3: Create dictionaries to map nodes to indices\n",
    "    source_indices = {node: i for i, node in enumerate(all_nodes)}\n",
    "    target_indices = {node: i for i, node in enumerate(all_nodes)}\n",
    "\n",
    "    # Step 4: Prepare data for the Sankey diagram\n",
    "    # We need to convert the sources and targets to their corresponding indices\n",
    "    sankey_data = {\n",
    "        'source': agg_df[f'{source}'].map(source_indices),\n",
    "        'target': agg_df[f'{target}'].map(target_indices),\n",
    "        'value': agg_df[f'{value}']\n",
    "    }\n",
    "\n",
    "    # Create Sankey diagram\n",
    "    fig = go.Figure(data=[go.Sankey(\n",
    "        node=dict(\n",
    "            pad=7,\n",
    "            thickness=20,\n",
    "            line=dict(color=\"black\", width=0.01),\n",
    "            label=all_nodes\n",
    "        ),\n",
    "        link=dict(\n",
    "            source=sankey_data['source'],\n",
    "            target=sankey_data['target'],\n",
    "            value=sankey_data['value']\n",
    "        )\n",
    "    )])\n",
    "    \n",
    "    fig.update_layout(\n",
    "        title_text=\"Sankey Diagram\", font_size=10,\n",
    "        width=1000,\n",
    "        height=800    \n",
    "    )\n",
    "    fig.show()\n",
    "\n",
    "    fig.write_html(f'sankey_diagram {name}.html')\n",
    "\n",
    "def sankey3_diagram(df, source, intermediate, target, value, name='Value'):\n",
    "    # Step 1: Group the data to aggregate the values for the flows\n",
    "    df_grouped = df.groupby([source, intermediate, target], as_index=False)[value].sum()\n",
    " \n",
    "    # Step 2: Create a list of unique nodes for all three stages (source, intermediate, target)\n",
    "    all_nodes = list(set(df_grouped[source]).union(set(df_grouped[intermediate])).union(set(df_grouped[target])))\n",
    "    # Step 3: Create dictionaries to map nodes to indices\n",
    "    node_indices = {node: i for i, node in enumerate(all_nodes)}\n",
    "    # Step 4: Prepare data for the Sankey diagram\n",
    "    # Map the 'source', 'intermediate', and 'target' fields to their corresponding indices\n",
    "    df_grouped['source_idx'] = df_grouped[source].map(node_indices)\n",
    "    df_grouped['intermediate_idx'] = df_grouped[intermediate].map(node_indices)\n",
    "    df_grouped['target_idx'] = df_grouped[target].map(node_indices)\n",
    "    # Step 5: Prepare the flow data for the Sankey diagram\n",
    "    # First, create the flows from source to intermediate\n",
    "    links_source_intermediate = pd.DataFrame({\n",
    "        'source': df_grouped['source_idx'],\n",
    "        'target': df_grouped['intermediate_idx'],\n",
    "        'value': df_grouped[value]\n",
    "    })\n",
    "    # Then, create the flows from intermediate to target\n",
    "    links_intermediate_target = pd.DataFrame({\n",
    "        'source': df_grouped['intermediate_idx'],\n",
    "        'target': df_grouped['target_idx'],\n",
    "        'value': df_grouped[value]\n",
    "    })\n",
    "    # Combine the two sets of links\n",
    "    all_links = pd.concat([links_source_intermediate, links_intermediate_target], ignore_index=True)\n",
    "    # Step 6: Create the Sankey diagram using plotly\n",
    "    fig = go.Figure(go.Sankey(\n",
    "        node=dict(\n",
    "            pad=15,\n",
    "            thickness=20,\n",
    "            line=dict(color=\"black\", width=0.01),\n",
    "            label=all_nodes\n",
    "        ),\n",
    "        link=dict(\n",
    "            source=all_links['source'],\n",
    "            target=all_links['target'],\n",
    "            value=all_links['value']\n",
    "        )\n",
    "    ))\n",
    "    fig.update_layout(\n",
    "        title_text=\"Sankey Diagram\", font_size=10,\n",
    "        width=1200,\n",
    "        height=1000    \n",
    "    )\n",
    "    # Show the plot\n",
    "    fig.show()\n",
    "\n",
    "    fig.write_html(f'sankey_diagram {name}.html')"
   ]
  },
  {
   "cell_type": "code",
   "execution_count": null,
   "metadata": {},
   "outputs": [],
   "source": [
    "cd"
   ]
  },
  {
   "cell_type": "markdown",
   "metadata": {},
   "source": [
    "Database and CWD setup and connection"
   ]
  },
  {
   "cell_type": "code",
   "execution_count": 6,
   "metadata": {},
   "outputs": [
    {
     "name": "stdout",
     "output_type": "stream",
     "text": [
      "Files in 'C:\\\\Users\\\\jf79\\\\OneDrive - Office Shared Service\\\\Documents\\\\H&F Analysis\\\\Fuel Poverty Analysis\\\\Fuel Poverty General\\\\Fuel Bible': ['certificates.csv', 'columns.csv', 'LICENCE.txt', 'recommendations.csv', 'schema.json', 'UPRN_to_LSOA_HF.csv']\n"
     ]
    }
   ],
   "source": [
    "# Database credentials\n",
    "db_host = get_env('DB_HOST')\n",
    "db_port = '1433'\n",
    "db_name = 'IA_ODS'\n",
    " \n",
    "# Create the connection string for SQL Server using pyodbc with Windows Authentication\n",
    "connection_string = f'mssql+pyodbc://@{db_host}:{db_port}/{db_name}?driver=ODBC+Driver+17+for+SQL+Server&Trusted_Connection=yes'\n",
    "\n",
    "# Create the database engine\n",
    "engine = create_engine(connection_string)\n",
    "\n",
    "# Define the current working directory\n",
    "cwd = r'C:\\Users\\jf79\\OneDrive - Office Shared Service\\Documents\\H&F Analysis\\Fuel Poverty Analysis\\Fuel Poverty General\\Fuel Bible'\n",
    "os.chdir(cwd)\n",
    "files = os.listdir(os.getcwd())\n",
    "print(\"Files in %r: %s\" % (cwd, files))"
   ]
  },
  {
   "cell_type": "code",
   "execution_count": 7,
   "metadata": {},
   "outputs": [
    {
     "name": "stdout",
     "output_type": "stream",
     "text": [
      "Your Current Directory is: C:\\Users\\jf79\\OneDrive - Office Shared Service\\Documents\\H&F Analysis\\FOI Sentiment Analysis\\Data\n",
      "Files in: ['Coherence Values.csv', 'FOI Details Data (2024).csv', 'FOI Details Data (2024).xlsx', 'FOI Details Data.csv', 'FOI Email Data.xlsx', 'FOI_export.csv', 'lda_tuning_results.csv', 'sankey_diagram DIRECTORATE.html', 'sankey_diagram Value.html', 'sankey_diagram.html']\n"
     ]
    }
   ],
   "source": [
    "# Read the CSV file into a DataFrame\n",
    "cwd = r'C:\\Users\\jf79\\OneDrive - Office Shared Service\\Documents\\H&F Analysis\\FOI Sentiment Analysis\\Data'\n",
    "os.chdir(cwd)\n",
    "read_directory()\n",
    "\n",
    "FOI_export = pd.read_csv('FOI_export.csv')\n",
    "FOI_details_data = pd.read_excel('FOI Details Data (2024).xlsx')\n",
    "FOI_email_data = pd.read_excel('FOI Email Data.xlsx')"
   ]
  },
  {
   "cell_type": "code",
   "execution_count": 8,
   "metadata": {},
   "outputs": [],
   "source": [
    "FOI_final = FOI_export.copy()\n",
    "FOI_details = FOI_details_data.copy()\n",
    "FOI_email = FOI_email_data.copy()\n",
    "FOI_final.columns = FOI_final.columns.str.lower().str.strip().str.replace(' ','_')\n",
    "FOI_details.columns = FOI_details.columns.str.lower().str.strip().str.replace(' ','_')\n",
    "FOI_details.rename(columns={'caseid':'caseid_final'},inplace=True)\n",
    "# FOI_final = FOI_final[FOI_final['processed_details'] != '']\n",
    "FOI_final['processed_tokens'] = FOI_final['processed_details'].apply(safe_tokenize)\n",
    "FOI_final['new_tokens'] = FOI_final['processed_tokens'].apply(lambda x: [word for word in x if word not in stop_words])\n",
    "FOI_final = pd.merge(\n",
    "    FOI_final, FOI_details,\n",
    "    how='left', left_on='caseid', right_on='caseid_final',\n",
    "    suffixes=('', '_drop')\n",
    ")\n",
    "FOI_final.drop([col for col in FOI_final.columns if '_drop' in col], axis=1, inplace=True)\n",
    "# count_words(FOI_final['new_tokens'])\n",
    "FOI_final = FOI_final[FOI_final['caseid_final'].isna() == False]\n",
    "FOI_final['email'] = FOI_final['email'].fillna('')\n",
    "# Function to extract the domain part\n",
    "def extract_domain(email):\n",
    "    try:\n",
    "        email = email.lower()\n",
    "        match = re.search(r'@([\\w.-]+)', email)\n",
    "        if match:\n",
    "            return match.group(1)\n",
    "        return None\n",
    "    except Exception as e:\n",
    "        print(f\"Error extracting domain from email: {email}\")\n",
    "        raise e\n",
    "# Apply the function to the email column\n",
    "FOI_final['domain'] = FOI_final['email'].apply(extract_domain)\n",
    "FOI_final[['group','domain']] = FOI_final['domain'].str.split('.',n=1, expand=True)\n",
    "columns_to_drop = ['processed_tokens','new_tokens']\n",
    "columns = [x for x in FOI_final.columns.to_list() if x not in columns_to_drop]\n",
    "FOI_final = pd.merge(\n",
    "    FOI_final, FOI_email,\n",
    "    how='left', left_on='group', right_on='domain',\n",
    "    suffixes=('', '_drop')\n",
    ")\n",
    "FOI_final['category'] = FOI_final['category'].fillna('Unknown') \n",
    "# export_to_csv(FOI_final)"
   ]
  },
  {
   "cell_type": "code",
   "execution_count": 9,
   "metadata": {},
   "outputs": [
    {
     "data": {
      "application/vnd.plotly.v1+json": {
       "config": {
        "plotlyServerURL": "https://plot.ly"
       },
       "data": [
        {
         "link": {
          "source": [
           0,
           0,
           0,
           0,
           0,
           0,
           6,
           6,
           6,
           6,
           6,
           6,
           6,
           4,
           4,
           4,
           4,
           4,
           4,
           4,
           16,
           16,
           16,
           16,
           16,
           16,
           16,
           11,
           11,
           11,
           11,
           11,
           14,
           14,
           14,
           5,
           5,
           5,
           5,
           5,
           5,
           5,
           5,
           3,
           3,
           3,
           3,
           3,
           3,
           7,
           7,
           7,
           7
          ],
          "target": [
           2,
           8,
           9,
           1,
           15,
           13,
           2,
           8,
           9,
           1,
           15,
           13,
           10,
           2,
           8,
           9,
           1,
           15,
           13,
           10,
           2,
           8,
           9,
           1,
           15,
           13,
           10,
           8,
           9,
           1,
           15,
           10,
           1,
           15,
           10,
           2,
           8,
           9,
           1,
           15,
           13,
           10,
           12,
           2,
           8,
           9,
           1,
           15,
           10,
           2,
           1,
           15,
           10
          ],
          "value": [
           1,
           8,
           1,
           7,
           10,
           4,
           17,
           45,
           60,
           55,
           72,
           8,
           24,
           16,
           8,
           49,
           37,
           68,
           8,
           8,
           3,
           16,
           9,
           15,
           18,
           4,
           1,
           3,
           11,
           7,
           1,
           1,
           1,
           1,
           1,
           16,
           44,
           50,
           103,
           109,
           15,
           23,
           1,
           3,
           3,
           7,
           3,
           16,
           1,
           2,
           1,
           3,
           3
          ]
         },
         "node": {
          "label": [
           "Academic",
           "Economy",
           "Adult social care",
           "Public (Government)",
           "Company",
           "Public",
           "Charity",
           "Unknown",
           "Childrens Services",
           "Corporate Services",
           "Resident experience",
           "Law Firm",
           "Unallocated requests",
           "Finance",
           "Police",
           "Environment services",
           "Journalist"
          ],
          "line": {
           "color": "black",
           "width": 0.01
          },
          "pad": 7,
          "thickness": 20
         },
         "type": "sankey"
        }
       ],
       "layout": {
        "font": {
         "size": 10
        },
        "height": 800,
        "template": {
         "data": {
          "bar": [
           {
            "error_x": {
             "color": "#2a3f5f"
            },
            "error_y": {
             "color": "#2a3f5f"
            },
            "marker": {
             "line": {
              "color": "#E5ECF6",
              "width": 0.5
             },
             "pattern": {
              "fillmode": "overlay",
              "size": 10,
              "solidity": 0.2
             }
            },
            "type": "bar"
           }
          ],
          "barpolar": [
           {
            "marker": {
             "line": {
              "color": "#E5ECF6",
              "width": 0.5
             },
             "pattern": {
              "fillmode": "overlay",
              "size": 10,
              "solidity": 0.2
             }
            },
            "type": "barpolar"
           }
          ],
          "carpet": [
           {
            "aaxis": {
             "endlinecolor": "#2a3f5f",
             "gridcolor": "white",
             "linecolor": "white",
             "minorgridcolor": "white",
             "startlinecolor": "#2a3f5f"
            },
            "baxis": {
             "endlinecolor": "#2a3f5f",
             "gridcolor": "white",
             "linecolor": "white",
             "minorgridcolor": "white",
             "startlinecolor": "#2a3f5f"
            },
            "type": "carpet"
           }
          ],
          "choropleth": [
           {
            "colorbar": {
             "outlinewidth": 0,
             "ticks": ""
            },
            "type": "choropleth"
           }
          ],
          "contour": [
           {
            "colorbar": {
             "outlinewidth": 0,
             "ticks": ""
            },
            "colorscale": [
             [
              0,
              "#0d0887"
             ],
             [
              0.1111111111111111,
              "#46039f"
             ],
             [
              0.2222222222222222,
              "#7201a8"
             ],
             [
              0.3333333333333333,
              "#9c179e"
             ],
             [
              0.4444444444444444,
              "#bd3786"
             ],
             [
              0.5555555555555556,
              "#d8576b"
             ],
             [
              0.6666666666666666,
              "#ed7953"
             ],
             [
              0.7777777777777778,
              "#fb9f3a"
             ],
             [
              0.8888888888888888,
              "#fdca26"
             ],
             [
              1,
              "#f0f921"
             ]
            ],
            "type": "contour"
           }
          ],
          "contourcarpet": [
           {
            "colorbar": {
             "outlinewidth": 0,
             "ticks": ""
            },
            "type": "contourcarpet"
           }
          ],
          "heatmap": [
           {
            "colorbar": {
             "outlinewidth": 0,
             "ticks": ""
            },
            "colorscale": [
             [
              0,
              "#0d0887"
             ],
             [
              0.1111111111111111,
              "#46039f"
             ],
             [
              0.2222222222222222,
              "#7201a8"
             ],
             [
              0.3333333333333333,
              "#9c179e"
             ],
             [
              0.4444444444444444,
              "#bd3786"
             ],
             [
              0.5555555555555556,
              "#d8576b"
             ],
             [
              0.6666666666666666,
              "#ed7953"
             ],
             [
              0.7777777777777778,
              "#fb9f3a"
             ],
             [
              0.8888888888888888,
              "#fdca26"
             ],
             [
              1,
              "#f0f921"
             ]
            ],
            "type": "heatmap"
           }
          ],
          "heatmapgl": [
           {
            "colorbar": {
             "outlinewidth": 0,
             "ticks": ""
            },
            "colorscale": [
             [
              0,
              "#0d0887"
             ],
             [
              0.1111111111111111,
              "#46039f"
             ],
             [
              0.2222222222222222,
              "#7201a8"
             ],
             [
              0.3333333333333333,
              "#9c179e"
             ],
             [
              0.4444444444444444,
              "#bd3786"
             ],
             [
              0.5555555555555556,
              "#d8576b"
             ],
             [
              0.6666666666666666,
              "#ed7953"
             ],
             [
              0.7777777777777778,
              "#fb9f3a"
             ],
             [
              0.8888888888888888,
              "#fdca26"
             ],
             [
              1,
              "#f0f921"
             ]
            ],
            "type": "heatmapgl"
           }
          ],
          "histogram": [
           {
            "marker": {
             "pattern": {
              "fillmode": "overlay",
              "size": 10,
              "solidity": 0.2
             }
            },
            "type": "histogram"
           }
          ],
          "histogram2d": [
           {
            "colorbar": {
             "outlinewidth": 0,
             "ticks": ""
            },
            "colorscale": [
             [
              0,
              "#0d0887"
             ],
             [
              0.1111111111111111,
              "#46039f"
             ],
             [
              0.2222222222222222,
              "#7201a8"
             ],
             [
              0.3333333333333333,
              "#9c179e"
             ],
             [
              0.4444444444444444,
              "#bd3786"
             ],
             [
              0.5555555555555556,
              "#d8576b"
             ],
             [
              0.6666666666666666,
              "#ed7953"
             ],
             [
              0.7777777777777778,
              "#fb9f3a"
             ],
             [
              0.8888888888888888,
              "#fdca26"
             ],
             [
              1,
              "#f0f921"
             ]
            ],
            "type": "histogram2d"
           }
          ],
          "histogram2dcontour": [
           {
            "colorbar": {
             "outlinewidth": 0,
             "ticks": ""
            },
            "colorscale": [
             [
              0,
              "#0d0887"
             ],
             [
              0.1111111111111111,
              "#46039f"
             ],
             [
              0.2222222222222222,
              "#7201a8"
             ],
             [
              0.3333333333333333,
              "#9c179e"
             ],
             [
              0.4444444444444444,
              "#bd3786"
             ],
             [
              0.5555555555555556,
              "#d8576b"
             ],
             [
              0.6666666666666666,
              "#ed7953"
             ],
             [
              0.7777777777777778,
              "#fb9f3a"
             ],
             [
              0.8888888888888888,
              "#fdca26"
             ],
             [
              1,
              "#f0f921"
             ]
            ],
            "type": "histogram2dcontour"
           }
          ],
          "mesh3d": [
           {
            "colorbar": {
             "outlinewidth": 0,
             "ticks": ""
            },
            "type": "mesh3d"
           }
          ],
          "parcoords": [
           {
            "line": {
             "colorbar": {
              "outlinewidth": 0,
              "ticks": ""
             }
            },
            "type": "parcoords"
           }
          ],
          "pie": [
           {
            "automargin": true,
            "type": "pie"
           }
          ],
          "scatter": [
           {
            "fillpattern": {
             "fillmode": "overlay",
             "size": 10,
             "solidity": 0.2
            },
            "type": "scatter"
           }
          ],
          "scatter3d": [
           {
            "line": {
             "colorbar": {
              "outlinewidth": 0,
              "ticks": ""
             }
            },
            "marker": {
             "colorbar": {
              "outlinewidth": 0,
              "ticks": ""
             }
            },
            "type": "scatter3d"
           }
          ],
          "scattercarpet": [
           {
            "marker": {
             "colorbar": {
              "outlinewidth": 0,
              "ticks": ""
             }
            },
            "type": "scattercarpet"
           }
          ],
          "scattergeo": [
           {
            "marker": {
             "colorbar": {
              "outlinewidth": 0,
              "ticks": ""
             }
            },
            "type": "scattergeo"
           }
          ],
          "scattergl": [
           {
            "marker": {
             "colorbar": {
              "outlinewidth": 0,
              "ticks": ""
             }
            },
            "type": "scattergl"
           }
          ],
          "scattermapbox": [
           {
            "marker": {
             "colorbar": {
              "outlinewidth": 0,
              "ticks": ""
             }
            },
            "type": "scattermapbox"
           }
          ],
          "scatterpolar": [
           {
            "marker": {
             "colorbar": {
              "outlinewidth": 0,
              "ticks": ""
             }
            },
            "type": "scatterpolar"
           }
          ],
          "scatterpolargl": [
           {
            "marker": {
             "colorbar": {
              "outlinewidth": 0,
              "ticks": ""
             }
            },
            "type": "scatterpolargl"
           }
          ],
          "scatterternary": [
           {
            "marker": {
             "colorbar": {
              "outlinewidth": 0,
              "ticks": ""
             }
            },
            "type": "scatterternary"
           }
          ],
          "surface": [
           {
            "colorbar": {
             "outlinewidth": 0,
             "ticks": ""
            },
            "colorscale": [
             [
              0,
              "#0d0887"
             ],
             [
              0.1111111111111111,
              "#46039f"
             ],
             [
              0.2222222222222222,
              "#7201a8"
             ],
             [
              0.3333333333333333,
              "#9c179e"
             ],
             [
              0.4444444444444444,
              "#bd3786"
             ],
             [
              0.5555555555555556,
              "#d8576b"
             ],
             [
              0.6666666666666666,
              "#ed7953"
             ],
             [
              0.7777777777777778,
              "#fb9f3a"
             ],
             [
              0.8888888888888888,
              "#fdca26"
             ],
             [
              1,
              "#f0f921"
             ]
            ],
            "type": "surface"
           }
          ],
          "table": [
           {
            "cells": {
             "fill": {
              "color": "#EBF0F8"
             },
             "line": {
              "color": "white"
             }
            },
            "header": {
             "fill": {
              "color": "#C8D4E3"
             },
             "line": {
              "color": "white"
             }
            },
            "type": "table"
           }
          ]
         },
         "layout": {
          "annotationdefaults": {
           "arrowcolor": "#2a3f5f",
           "arrowhead": 0,
           "arrowwidth": 1
          },
          "autotypenumbers": "strict",
          "coloraxis": {
           "colorbar": {
            "outlinewidth": 0,
            "ticks": ""
           }
          },
          "colorscale": {
           "diverging": [
            [
             0,
             "#8e0152"
            ],
            [
             0.1,
             "#c51b7d"
            ],
            [
             0.2,
             "#de77ae"
            ],
            [
             0.3,
             "#f1b6da"
            ],
            [
             0.4,
             "#fde0ef"
            ],
            [
             0.5,
             "#f7f7f7"
            ],
            [
             0.6,
             "#e6f5d0"
            ],
            [
             0.7,
             "#b8e186"
            ],
            [
             0.8,
             "#7fbc41"
            ],
            [
             0.9,
             "#4d9221"
            ],
            [
             1,
             "#276419"
            ]
           ],
           "sequential": [
            [
             0,
             "#0d0887"
            ],
            [
             0.1111111111111111,
             "#46039f"
            ],
            [
             0.2222222222222222,
             "#7201a8"
            ],
            [
             0.3333333333333333,
             "#9c179e"
            ],
            [
             0.4444444444444444,
             "#bd3786"
            ],
            [
             0.5555555555555556,
             "#d8576b"
            ],
            [
             0.6666666666666666,
             "#ed7953"
            ],
            [
             0.7777777777777778,
             "#fb9f3a"
            ],
            [
             0.8888888888888888,
             "#fdca26"
            ],
            [
             1,
             "#f0f921"
            ]
           ],
           "sequentialminus": [
            [
             0,
             "#0d0887"
            ],
            [
             0.1111111111111111,
             "#46039f"
            ],
            [
             0.2222222222222222,
             "#7201a8"
            ],
            [
             0.3333333333333333,
             "#9c179e"
            ],
            [
             0.4444444444444444,
             "#bd3786"
            ],
            [
             0.5555555555555556,
             "#d8576b"
            ],
            [
             0.6666666666666666,
             "#ed7953"
            ],
            [
             0.7777777777777778,
             "#fb9f3a"
            ],
            [
             0.8888888888888888,
             "#fdca26"
            ],
            [
             1,
             "#f0f921"
            ]
           ]
          },
          "colorway": [
           "#636efa",
           "#EF553B",
           "#00cc96",
           "#ab63fa",
           "#FFA15A",
           "#19d3f3",
           "#FF6692",
           "#B6E880",
           "#FF97FF",
           "#FECB52"
          ],
          "font": {
           "color": "#2a3f5f"
          },
          "geo": {
           "bgcolor": "white",
           "lakecolor": "white",
           "landcolor": "#E5ECF6",
           "showlakes": true,
           "showland": true,
           "subunitcolor": "white"
          },
          "hoverlabel": {
           "align": "left"
          },
          "hovermode": "closest",
          "mapbox": {
           "style": "light"
          },
          "paper_bgcolor": "white",
          "plot_bgcolor": "#E5ECF6",
          "polar": {
           "angularaxis": {
            "gridcolor": "white",
            "linecolor": "white",
            "ticks": ""
           },
           "bgcolor": "#E5ECF6",
           "radialaxis": {
            "gridcolor": "white",
            "linecolor": "white",
            "ticks": ""
           }
          },
          "scene": {
           "xaxis": {
            "backgroundcolor": "#E5ECF6",
            "gridcolor": "white",
            "gridwidth": 2,
            "linecolor": "white",
            "showbackground": true,
            "ticks": "",
            "zerolinecolor": "white"
           },
           "yaxis": {
            "backgroundcolor": "#E5ECF6",
            "gridcolor": "white",
            "gridwidth": 2,
            "linecolor": "white",
            "showbackground": true,
            "ticks": "",
            "zerolinecolor": "white"
           },
           "zaxis": {
            "backgroundcolor": "#E5ECF6",
            "gridcolor": "white",
            "gridwidth": 2,
            "linecolor": "white",
            "showbackground": true,
            "ticks": "",
            "zerolinecolor": "white"
           }
          },
          "shapedefaults": {
           "line": {
            "color": "#2a3f5f"
           }
          },
          "ternary": {
           "aaxis": {
            "gridcolor": "white",
            "linecolor": "white",
            "ticks": ""
           },
           "baxis": {
            "gridcolor": "white",
            "linecolor": "white",
            "ticks": ""
           },
           "bgcolor": "#E5ECF6",
           "caxis": {
            "gridcolor": "white",
            "linecolor": "white",
            "ticks": ""
           }
          },
          "title": {
           "x": 0.05
          },
          "xaxis": {
           "automargin": true,
           "gridcolor": "white",
           "linecolor": "white",
           "ticks": "",
           "title": {
            "standoff": 15
           },
           "zerolinecolor": "white",
           "zerolinewidth": 2
          },
          "yaxis": {
           "automargin": true,
           "gridcolor": "white",
           "linecolor": "white",
           "ticks": "",
           "title": {
            "standoff": 15
           },
           "zerolinecolor": "white",
           "zerolinewidth": 2
          }
         }
        },
        "title": {
         "text": "Sankey Diagram"
        },
        "width": 1000
       }
      }
     },
     "metadata": {},
     "output_type": "display_data"
    }
   ],
   "source": [
    "import plotly.graph_objects as go\n",
    " \n",
    "# Count the occurrences of each unique pair\n",
    "counts = FOI_final.groupby(['category', 'directorate']).size().reset_index(name='Value')\n",
    " \n",
    "# Create a mapping of unique labels to indices\n",
    "unique_labels = list(set(counts['category'].tolist() + counts['directorate'].tolist()))\n",
    "label_to_index = {label: i for i, label in enumerate(unique_labels)}\n",
    " \n",
    "# Map category and directorate to their indices\n",
    "counts['categoryIndex'] = counts['category'].map(label_to_index)\n",
    "counts['directorateIndex'] = counts['directorate'].map(label_to_index)\n",
    " \n",
    "# Prepare data for Sankey diagram\n",
    "category = counts['categoryIndex'].tolist()\n",
    "directorate = counts['directorateIndex'].tolist()\n",
    "value = counts['Value'].tolist()\n",
    " \n",
    "# Create Sankey diagram\n",
    "fig = go.Figure(data=[go.Sankey(\n",
    "    node=dict(\n",
    "        pad=7,\n",
    "        thickness=20,\n",
    "        line=dict(color=\"black\", width=0.01),\n",
    "        label=unique_labels\n",
    "    ),\n",
    "    link=dict(\n",
    "        source=category,\n",
    "        target=directorate,\n",
    "        value=value\n",
    "    )\n",
    ")])\n",
    " \n",
    "fig.update_layout(\n",
    "    title_text=\"Sankey Diagram\", font_size=10,\n",
    "    width=1000,\n",
    "    height=800    \n",
    ")\n",
    "fig.show()\n",
    "\n",
    "fig.write_html('sankey_diagram.html')"
   ]
  },
  {
   "cell_type": "code",
   "execution_count": 10,
   "metadata": {},
   "outputs": [],
   "source": [
    "FOI_corpus = prepare_corpus(FOI_final['new_tokens'],threshold=50)\n",
    "\n",
    "# Create Dictionary\n",
    "id2words = Dictionary(FOI_corpus)\n",
    "\n",
    "# Term Document Frequency\n",
    "corpus = [id2words.doc2bow(text) for text in FOI_corpus]"
   ]
  },
  {
   "cell_type": "code",
   "execution_count": 11,
   "metadata": {},
   "outputs": [],
   "source": [
    "# # Initialize variables\n",
    "# results = pd.DataFrame(columns=['Validation_Set', 'Topics', 'Alpha', 'Beta', 'Coherence'])\n",
    "# lock = threading.Lock()  # Thread-safe lock\n",
    "\n",
    "# # Number of documents in the corpus\n",
    "# num_of_docs = len(corpus)\n",
    "\n",
    "# # Prepare corpus sets (75% and 100% corpus)\n",
    "# corpus_sets = [\n",
    "#     gensim.utils.ClippedCorpus(corpus, int(num_of_docs * 0.75)),\n",
    "#     corpus\n",
    "# ]\n",
    "\n",
    "# # Hyper-parameters\n",
    "# min_topics = 2\n",
    "# max_topics = 15\n",
    "# step_size = 1\n",
    "# topics_range = list(range(min_topics,max_topics+1,step_size))\n",
    "# alphas = np.round(np.linspace(0.01, 0.91, 5), 2).tolist() + ['symmetric', 'asymmetric']\n",
    "# betas = np.round(np.linspace(0.01, 0.91, 5), 2).tolist() + ['symmetric']\n",
    "# corpus_titles = ['75% Corpus', '100% Corpus']\n",
    "\n",
    "# # Define test combinations to run in parallel\n",
    "# test_combinations = [\n",
    "#     (find_element(corpus_title),topic,alpha,beta,corpus_title)\n",
    "#     for topic,alpha,beta,corpus_title, in itertools.product(topics_range,alphas,betas,corpus_titles)\n",
    "# ]\n",
    "\n",
    "# tasks = [lambda combination=combination: compute_for_params(*combination) for combination in test_combinations]\n",
    "# # Process tasks in parallel with a progress bar\n",
    "# with tqdm(total=len(test_combinations), desc='Processing combinations') as pbar:\n",
    "#     def task_with_progress(task):\n",
    "#         task()\n",
    "#         pbar.update(1)\n",
    "    \n",
    "#     run_io_task_in_parallel([lambda task=task: task_with_progress(task) for task in tasks])\n",
    "\n",
    "# while not results_queue.empty():\n",
    "#     result = results_queue.get()\n",
    "#     results = pd.concat([results, pd.DataFrame([result])], ignore_index=True)\n",
    "\n",
    "# display(results)\n",
    "# export_to_csv(results)"
   ]
  },
  {
   "cell_type": "code",
   "execution_count": 12,
   "metadata": {},
   "outputs": [
    {
     "name": "stdout",
     "output_type": "stream",
     "text": [
      "Coherence Score:  0.32146038579067077\n"
     ]
    }
   ],
   "source": [
    "num_topics = 6\n",
    "# Build LDA model\n",
    "lda_model = gensim.models.LdaMulticore(\n",
    "    corpus=corpus,\n",
    "    id2word=id2words,\n",
    "    num_topics=num_topics,\n",
    "    random_state=42,\n",
    "    chunksize=100,\n",
    "    passes=10,\n",
    "    alpha=0.24,\n",
    "    eta=0.91\n",
    ")\n",
    "\n",
    "# Compute Coherence Score\n",
    "coherence_model_lda = CoherenceModel(model=lda_model, texts=FOI_corpus, dictionary=id2words, coherence='c_v')\n",
    "coherence_lda = coherence_model_lda.get_coherence()\n",
    "print('Coherence Score: ', coherence_lda)\n",
    "# Assuming lda_model is your trained LdaModel\n",
    "lda_model.save(f\"C:/Users/jf79/OneDrive - Office Shared Service/Documents/H&F Analysis/FOI Sentiment Analysis/Models/lda_model ({num_topics})\")"
   ]
  },
  {
   "cell_type": "code",
   "execution_count": 14,
   "metadata": {},
   "outputs": [
    {
     "data": {
      "text/html": [
       "\n",
       "<link rel=\"stylesheet\" type=\"text/css\" href=\"https://cdn.jsdelivr.net/gh/bmabey/pyLDAvis@3.4.0/pyLDAvis/js/ldavis.v1.0.0.css\">\n",
       "\n",
       "\n",
       "<div id=\"ldavis_el3404818166017214247641469919\" style=\"background-color:white;\"></div>\n",
       "<script type=\"text/javascript\">\n",
       "\n",
       "var ldavis_el3404818166017214247641469919_data = {\"mdsDat\": {\"x\": [0.06359905264977102, -0.0019621468194883046, 0.02971299217093175, -0.03187473937612475, -0.01422306245768003, -0.04525209616740974], \"y\": [-0.01000983949694423, 0.06771508994501935, -0.01520294629093457, 0.0033316095584555003, -0.02406385613315028, -0.021770057582445785], \"topics\": [1, 2, 3, 4, 5, 6], \"cluster\": [1, 1, 1, 1, 1, 1], \"Freq\": [36.41868813019793, 17.462923096525472, 12.65911626557992, 12.532629182060278, 11.981696333443795, 8.944946992192605]}, \"tinfo\": {\"Term\": [\"contract\", \"property\", \"child\", \"placement\", \"school\", \"system\", \"account\", \"care\", \"empty\", \"complaint\", \"project\", \"fund\", \"home\", \"investment\", \"supplier\", \"software\", \"month\", \"value\", \"road\", \"rate\", \"record\", \"programmed\", \"looked_child\", \"temporary_accommodation\", \"bridge\", \"old\", \"development\", \"framework\", \"residential\", \"dog\", \"supported_living\", \"rabbit\", \"director\", \"welfare\", \"job\", \"notice_served\", \"temporary_accommodation\", \"establishment\", \"adult_social\", \"hotel\", \"register\", \"health\", \"allocated\", \"homelessness\", \"adult\", \"animal_welfare\", \"homeless\", \"adoption\", \"breeder\", \"bus_stop\", \"estimate_financial_saving\", \"band\", \"safeguarding\", \"applicant\", \"accommodation\", \"get\", \"household\", \"men\", \"salary\", \"life\", \"domiciliary_care\", \"home\", \"need\", \"office\", \"child\", \"care\", \"housing\", \"work\", \"people\", \"social\", \"business\", \"plan\", \"support\", \"school\", \"financial\", \"provider\", \"education\", \"working\", \"application\", \"currently\", \"new\", \"staff\", \"part\", \"received\", \"provided\", \"area\", \"property\", \"response\", \"possible\", \"available\", \"current\", \"contract\", \"big\", \"compliance_activity\", \"expiry\", \"month_stage\", \"cloud\", \"access_control\", \"supplier\", \"system\", \"hosting\", \"priority_need\", \"payroll\", \"era\", \"discrimination\", \"shelter_pound\", \"shed\", \"duration_extension\", \"building_wood\", \"invoice\", \"presently\", \"tool\", \"statutory_nuisance\", \"hardware\", \"claimed\", \"dog\", \"east_office_scale_space\", \"framework\", \"design\", \"management_system\", \"complaint\", \"software\", \"management\", \"window\", \"organization\", \"maintenance\", \"survey\", \"procurement\", \"annual\", \"responsible\", \"decision\", \"month\", \"current\", \"cost\", \"provider\", \"site\", \"space\", \"full\", \"used\", \"process\", \"start\", \"response\", \"application\", \"possible\", \"type\", \"company\", \"support\", \"include\", \"received\", \"currently\", \"housing\", \"person\", \"tutoring\", \"academic\", \"nursing\", \"older_person\", \"semi_independent\", \"looked_child\", \"hour_hour_hour_hour\", \"selective\", \"project\", \"placement\", \"vital_regeneration\", \"tree_planting\", \"pupil\", \"alternative_provision\", \"renewal_expiry_recently_reviewed\", \"looked\", \"unit_westmoreland\", \"deaf\", \"cut\", \"sign_language\", \"mainstream\", \"solar\", \"office_flr\", \"taxi\", \"intermediate\", \"partnership_trust\", \"campus\", \"enrolled\", \"placing\", \"gross_expenditure\", \"old\", \"development\", \"aged\", \"boarding\", \"device\", \"school\", \"unit\", \"residential\", \"child\", \"funded\", \"boundary\", \"available\", \"option\", \"spend\", \"agency\", \"rent\", \"fee\", \"breakdown\", \"financial\", \"provision\", \"care\", \"cost\", \"include\", \"team\", \"age\", \"home\", \"housing\", \"work\", \"social\", \"area\", \"support\", \"education\", \"amount\", \"possible\", \"currently\", \"individual_entity\", \"subject_access_received_responded\", \"branch\", \"event\", \"fly_tipping\", \"disposable\", \"hangar\", \"respect_site\", \"dispersal\", \"youth\", \"liable_pay_non_domestic\", \"fraudulent\", \"awareness\", \"elected\", \"legal_proceeding\", \"mass\", \"turned_away\", \"voice_risk_analysis\", \"watcher\", \"slimming_world\", \"drug_alcohol_substance_misuse\", \"active\", \"dog_breeding\", \"park\", \"cctv_camera\", \"suicide\", \"outdoor_power_equipment\", \"loan\", \"nicotine\", \"inhaling\", \"hip\", \"overseas\", \"weight\", \"disclosure\", \"purpose\", \"bridge\", \"individual\", \"claim\", \"month\", \"public\", \"green\", \"trust\", \"member\", \"used\", \"section\", \"budget\", \"rate\", \"employee\", \"location\", \"state\", \"financial\", \"received\", \"calendar\", \"provided\", \"case\", \"access\", \"officer\", \"cost\", \"currently\", \"road\", \"response\", \"working\", \"available\", \"school\", \"organization\", \"retailer\", \"vape\", \"interruption\", \"foreign_language\", \"student\", \"granted_applied\", \"pest_control\", \"box_junction\", \"old_purchased_grab\", \"climate_action\", \"penalty_charge_issued\", \"ant\", \"library\", \"illicit_noncompliant\", \"triple\", \"relief_exemption_category\", \"concrete_burial_chamber_installed\", \"trading_standard\", \"exploitation\", \"trading_standard_officer\", \"hush\", \"dismissal\", \"impairment\", \"gender\", \"diversity_champion\", \"style\", \"infestation\", \"imperial\", \"flooring\", \"parenting\", \"care_leaver\", \"tribunal\", \"programmed\", \"camera\", \"armed\", \"fine\", \"burial\", \"referred\", \"issued\", \"parking\", \"resident\", \"property\", \"course\", \"amount\", \"response\", \"road\", \"decision\", \"location\", \"tax\", \"rate\", \"appeal\", \"care\", \"allowance\", \"traffic\", \"assessment\", \"case\", \"public\", \"building\", \"cost\", \"provided\", \"child\", \"writing\", \"thanks\", \"received\", \"individual\", \"area\", \"home\", \"possible\", \"month\", \"currently\", \"empty\", \"account\", \"rateable_value\", \"investment\", \"sibling\", \"relief_applied\", \"commitment\", \"irr\", \"beam\", \"appliance\", \"private_debt\", \"real_estate\", \"unoccupied\", \"carpet_textile_flooring_material\", \"relief\", \"equity\", \"void\", \"business_rate\", \"involve\", \"ransom\", \"billing_reference\", \"musical_instrument\", \"venture_capital\", \"vintage\", \"relief_exemption\", \"occupied\", \"bulky\", \"exemption_applied\", \"pool\", \"credit\", \"property\", \"asset\", \"fund\", \"vacant\", \"record\", \"ratepayer\", \"capital\", \"value\", \"charging\", \"live\", \"owned\", \"rate\", \"road\", \"net\", \"current\", \"possible\", \"type\", \"start\", \"writing\", \"cost\", \"personal\", \"currently\", \"reference\", \"company\", \"known\", \"household\", \"include\", \"available\", \"month\", \"beg\", \"note\"], \"Freq\": [234.0, 203.0, 330.0, 84.0, 198.0, 90.0, 39.0, 206.0, 27.0, 75.0, 47.0, 52.0, 160.0, 26.0, 50.0, 53.0, 130.0, 64.0, 107.0, 64.0, 40.0, 38.0, 26.0, 87.0, 42.0, 33.0, 45.0, 40.0, 50.0, 37.0, 44.26770231084395, 20.04459949442859, 41.0646193497627, 31.602426255992935, 21.998742184009373, 12.166966184519314, 71.91352287163781, 12.890577280325989, 11.019476383823788, 16.052609647124093, 27.644335504937615, 57.26761579153553, 28.461730159576327, 18.965158852374717, 38.101198685034376, 11.242095797536022, 38.841917997643016, 11.806199242370186, 8.612369880035612, 8.591646506309864, 8.555195229570318, 16.04789936521135, 13.44478519235271, 29.888588833876018, 62.119737131352835, 16.390198517773925, 84.42228938758362, 8.770951445198332, 13.76270848045931, 10.377447951493929, 12.592681505275069, 115.30057461512844, 71.85980367236874, 26.937110839008366, 221.17680224571734, 138.89364870683445, 121.63268685811323, 91.46353654292726, 62.62102644684863, 68.64688532739042, 50.06867063778163, 80.63710601286289, 82.84869433526507, 114.12114159482122, 107.30047916073873, 72.1926387049983, 44.00888777178636, 52.02711086330394, 56.64577561503909, 76.99510193404727, 49.8007093161458, 54.93864168527884, 46.44146733911983, 57.29905500476026, 55.92961365066774, 55.62834227728437, 59.99593303249755, 52.47154908799027, 51.26509883642131, 50.49204015103262, 50.354228626853704, 188.48110317075196, 12.110277231584371, 9.582412239017243, 10.7660584760129, 7.892315222190293, 8.341262175929979, 9.480437043654035, 36.21136551815567, 64.51656485058835, 11.324120927598946, 7.934723417494165, 8.535611771333445, 6.646571377200434, 6.581737788687928, 6.588647855078755, 6.039230942804089, 5.94508675820101, 5.493876727882118, 7.082189501094138, 7.134104010387177, 16.481438237357718, 5.385353976087704, 11.953691825294223, 6.603593310272793, 24.123023868654787, 4.857825405229638, 25.70277166032423, 6.61192407756162, 8.980084785283386, 46.62394843913653, 32.461538626852374, 25.07903175273394, 11.831266891138815, 40.58687763798484, 23.592058663597886, 16.385601345069382, 13.91693537263001, 23.66193705806426, 23.00307396327499, 22.334718975331707, 39.86355639366731, 38.71874894663922, 38.99764193132281, 32.88745451230685, 18.47894767810594, 17.33860969543599, 20.666361616138197, 24.05858560993364, 19.89709061831044, 17.76930932000099, 26.821981627679452, 22.58070659780935, 24.491304151420543, 21.170392679284273, 17.34083746583257, 22.869352045220126, 20.08242719174112, 20.33619013071898, 20.929954591990974, 20.857384971322297, 18.892471590729432, 11.607916161649785, 14.122464175573722, 6.976944382067874, 6.09466707068855, 9.17276993354288, 17.244218771097923, 5.5762671480233665, 5.03178807815242, 29.013003322826393, 50.35184935199794, 4.07306886647436, 4.068872901618319, 13.77853203904899, 4.9484102191084025, 3.994859902625424, 4.56773887758385, 3.6484026171473793, 4.731391239877587, 3.5875784296826576, 4.206701695665307, 5.461797333587324, 4.5143917264631135, 3.113190357289682, 4.476042986834238, 3.065249295940941, 3.053111998973341, 3.04274284699018, 3.0362318919017093, 4.675616268885249, 3.030594735680167, 16.83540634774763, 21.277250418614738, 14.929643809416179, 4.959232131560565, 4.300891734253318, 57.58017889109308, 13.236886326890112, 17.377852321245033, 67.97938321086218, 13.363536695663406, 7.224028314639609, 26.78683777323511, 9.209378645477587, 16.05936481049149, 8.745679108647021, 9.572537240899377, 11.853892705558483, 18.303294719885667, 30.850567734080137, 17.72849079197782, 30.828581454999416, 26.600063986385422, 20.196495318070788, 18.226368697524933, 11.388822631066176, 23.307212074772657, 24.660628469606166, 20.28303312796773, 17.305821591216343, 17.16512555451773, 17.01032040575164, 13.968870233157828, 14.199615136256638, 14.537884883094197, 14.167855575459681, 8.910741352854489, 6.7614119454590655, 7.125188768232288, 14.533310465549688, 5.700851348565019, 5.70762164815694, 5.291015004615677, 5.224241671362478, 5.115237028610062, 10.69354813150651, 4.185270304019498, 5.603101155653458, 4.094778617428114, 4.397618818235147, 5.700894530592884, 4.684817489296024, 3.7150922508349633, 3.642820524992404, 3.572149389190948, 3.5691073759221936, 3.561478788916927, 10.18262480158333, 9.343478803498954, 14.01437098099925, 4.633632868102005, 3.3949153580308846, 3.113260759721075, 5.045149385499176, 3.0978412070107195, 3.092664003058371, 6.875770089037922, 4.034064329373988, 6.782469072501485, 12.109945054314348, 17.676612355366633, 16.469873813501348, 22.681457920064922, 13.42233610019045, 32.21066369603903, 23.75788380812224, 6.956992985317704, 6.458812279253527, 11.797465625634363, 18.34937121943906, 18.549730118711366, 14.062018244670991, 14.417604043447914, 10.131552239536001, 11.178041919118874, 14.029668125151277, 21.854444287429228, 17.66410027357375, 12.205891951467228, 16.424791776410533, 14.533770122176877, 9.47495772893553, 12.4438598988759, 16.175171105251113, 15.326947602532288, 13.009203290196588, 13.695576269963105, 11.203758422655527, 11.24919091223695, 11.439666480272171, 10.827241117280881, 8.006543411198885, 5.962168640274308, 6.063382750676853, 5.047133060437706, 12.608382425139512, 4.930636797145445, 4.035349521463912, 3.9877824515777114, 3.927772254369326, 3.5444481891041746, 3.538122563095035, 3.522050901112268, 10.710197852631328, 3.4930359301606386, 3.4771560158486987, 3.4566117200280777, 3.4327664300522023, 5.1280724135604725, 4.566711659496346, 4.291677603112895, 3.0381661005150953, 3.0257280910133058, 3.010365076561336, 6.076635858373671, 3.3099346462980366, 2.976857682866323, 2.9768969194893566, 3.483407604056113, 3.565558174672538, 5.048693995658408, 5.530137595926811, 4.98393002567843, 17.090311589583916, 8.518842691821254, 5.39359312420429, 17.819760671973743, 5.883410843392235, 10.974062436595082, 17.760743331922132, 13.988483897602086, 12.712936083944292, 35.43502961795883, 9.199183216821684, 17.3303632964343, 23.90503336404727, 19.172568467077788, 12.826013984400223, 10.967505485104056, 10.71708439175584, 13.358583928046054, 6.533979983586543, 23.886003260687737, 6.428639545192924, 9.341136542326453, 11.68331796445541, 14.087478921081034, 14.018294177843213, 10.585911243132665, 17.122252247861777, 14.736882562977218, 21.03719924431937, 13.101425053552829, 11.78415813278104, 12.662396583972244, 10.993987817335844, 11.675340988398577, 12.109265285104474, 11.206140579268899, 11.018389584982751, 10.84100524769022, 20.8351346637742, 26.65828350003693, 6.4408757252700095, 16.72346895655884, 5.1284559608100295, 5.153573333126515, 4.752931759038334, 4.288176060766166, 4.218349714783484, 6.429467073956193, 3.854621075273265, 3.8524758718491756, 5.2721392510872915, 3.8354107811576874, 9.895174892840421, 2.999055518297198, 4.282080748733579, 5.034000784444771, 2.890688868385269, 2.5951319510815654, 2.6015596652120445, 2.5755133500212226, 2.5784270263413553, 2.5514229855658055, 3.2524106143098312, 5.8177835352742475, 2.991306601345447, 2.7828619579717544, 2.981674836648402, 6.158368073772471, 82.11864382610517, 8.293385474954029, 19.16377106701387, 7.171409443017134, 14.094111815678577, 4.23173953354358, 5.134760138528648, 17.066947048951345, 4.411301363824449, 6.6087125491370005, 9.617274512719625, 12.91093355287807, 17.472215762127867, 6.33710564873627, 14.271233992860903, 14.000955681994732, 12.023123973549588, 9.217194838269716, 11.543471567006886, 13.603902012849762, 8.365952036851738, 11.66274813772867, 8.295397717538961, 7.795993239668258, 6.939440664968569, 8.921376838858475, 8.353642206516973, 8.068600148219424, 7.179095700263075, 6.832868731671, 6.727756311033135], \"Total\": [234.0, 203.0, 330.0, 84.0, 198.0, 90.0, 39.0, 206.0, 27.0, 75.0, 47.0, 52.0, 160.0, 26.0, 50.0, 53.0, 130.0, 64.0, 107.0, 64.0, 40.0, 38.0, 26.0, 87.0, 42.0, 33.0, 45.0, 40.0, 50.0, 37.0, 49.628875303873194, 23.364024837209335, 48.00846910515614, 37.72510228553773, 26.269292815596327, 14.705207500911584, 87.24351580672155, 16.039931855417116, 13.767790476873426, 20.177064710010956, 34.85337647481415, 72.27128365714137, 36.05546755384542, 24.19962161518404, 48.635577114604295, 14.371875404377954, 49.96389785140569, 15.495842725585211, 11.321895268678023, 11.3249873029481, 11.28561301526372, 21.209850786876295, 17.830934345817614, 39.947374460857986, 83.12414770994702, 21.95550399649067, 113.35270162810036, 11.812566133736802, 18.538541508421893, 13.988929321280644, 16.997652759862852, 160.52590201390342, 100.33949696814337, 36.970738567381936, 330.3792417552215, 206.3834584258373, 184.78320313823426, 140.41479543955114, 93.821915342375, 105.14098097984483, 75.57878956424277, 130.6808726391825, 135.4460052455435, 198.19755324257892, 190.33908459224358, 121.95806804270285, 67.70529968315843, 83.74180117620259, 97.1563085899718, 149.9236130894491, 81.92351036263156, 96.83816476658824, 79.50318586065151, 118.89044291350844, 116.55591376924245, 119.18019782051778, 203.96775164902817, 133.81985574993655, 124.31712930626685, 119.8087035922716, 127.33877929992427, 234.3891221039531, 15.185119317501721, 12.646366329589307, 14.63134301947306, 10.760995905288492, 11.394169844597375, 13.185945322229504, 50.45479794173876, 90.1640163991738, 15.935656493620177, 11.278830305223305, 12.228034862752322, 9.5286524340384, 9.491692123751355, 9.519872800477595, 8.883752755494315, 8.85564207339732, 8.2340966145791, 10.727124252992217, 10.82572830691106, 25.175395807050865, 8.234227197587357, 18.487890755638205, 10.30279324254751, 37.68798833924906, 7.598619267978181, 40.244329590604785, 10.572523119252038, 14.361626532155007, 75.36928582486013, 53.78024001455576, 45.565354094002956, 20.657051212465877, 91.89434649933114, 52.955269307940796, 35.030200825380554, 28.01588523572799, 59.22716932424205, 56.99070270633919, 55.75329451069963, 130.01994177047396, 127.33877929992427, 161.83486004200313, 121.95806804270285, 49.67460293358011, 44.952394228964806, 63.58968753238461, 88.92762088900827, 62.59143216004984, 50.29518198431157, 133.81985574993655, 97.1563085899718, 124.31712930626685, 88.66077822805791, 51.51002319606272, 135.4460052455435, 102.3727367393113, 118.89044291350844, 149.9236130894491, 184.78320313823426, 80.64908130924107, 15.112973116163777, 18.8110487438733, 10.308468805040519, 9.186104372828046, 13.914183773745592, 26.22040842055762, 8.577203929601822, 8.039865380675238, 47.084438841174645, 84.88475233550729, 6.951435241199177, 6.959103961086088, 23.609823919013685, 8.571340155220556, 6.98790714629689, 8.010828439077082, 6.406484188390793, 8.319320419124232, 6.437291670945741, 7.7865729147046485, 10.191846112193481, 8.505883443879096, 5.87034143893742, 8.505736171308808, 5.898885769697303, 5.87813991798725, 5.885871071033083, 5.900246757744234, 9.112333575245382, 5.912463656124979, 33.4150187265718, 45.81963498781378, 37.887762971076285, 10.451294502337106, 8.826041595324511, 198.19755324257892, 34.22972697798364, 50.253831854073425, 330.3792417552215, 38.38169382126746, 17.00343820572012, 119.8087035922716, 24.85242064595585, 58.6771383654893, 23.30508531577295, 26.794531588797536, 37.42775613156941, 77.1005401355542, 190.33908459224358, 76.92771146577368, 206.3834584258373, 161.83486004200313, 102.3727367393113, 90.79216438452157, 37.82209768508283, 160.52590201390342, 184.78320313823426, 140.41479543955114, 105.14098097984483, 119.18019782051778, 135.4460052455435, 67.70529968315843, 75.3576859217532, 124.31712930626685, 149.9236130894491, 11.87395188035446, 9.704216361271884, 10.292513684566174, 21.89339908902588, 8.623838405778526, 8.634963792092252, 8.081169526269168, 8.079387587789213, 8.05630323012901, 17.479396862987578, 6.9922719430126845, 9.442061745818737, 7.0002201474477665, 7.53096749152511, 9.776301603819627, 8.071762466172247, 6.445869835151025, 6.464291761557524, 6.477480338536018, 6.47773328094609, 6.47859636675367, 18.523752489221877, 17.359732848975792, 26.133982843574355, 8.696251823924305, 6.43484034316584, 5.912643250588242, 9.646388733216371, 5.924973025324166, 5.927044016099983, 13.303926935995376, 7.820078298249256, 13.514865729257156, 25.78024819345379, 45.17840514377127, 42.86936023084762, 74.30331420861972, 39.191546724464224, 130.01994177047396, 94.60647362642553, 16.094888608508615, 14.585910249857024, 39.09291337988179, 88.92762088900827, 96.52592495092821, 59.00019119175617, 64.84862838359516, 33.736662462309816, 42.63324357410803, 70.20597084528858, 190.33908459224358, 118.89044291350844, 55.1479044112064, 116.55591376924245, 95.38864826500554, 33.238264705146726, 72.4080479763366, 161.83486004200313, 149.9236130894491, 107.36165277500265, 133.81985574993655, 83.74180117620259, 119.8087035922716, 198.19755324257892, 91.89434649933114, 11.708161930160845, 9.070446025078047, 9.553028645101296, 7.972094853508932, 20.270579947159007, 7.953001215507476, 6.897362054625652, 6.915229900931637, 6.908793057225167, 6.356005087325, 6.3798094362589435, 6.36768451364028, 19.50297867278569, 6.36534901455008, 6.369929193380132, 6.367118113828706, 6.371253840177646, 9.545319322463188, 8.521521186067737, 8.145846905289662, 5.830454489144725, 5.86064656320747, 5.857991513844699, 11.882762716315131, 6.475020066276786, 5.843323447665927, 5.870127866925223, 6.944669957179843, 7.190696976395754, 10.193104507851434, 11.211728513259821, 10.138362805096774, 38.09047331347307, 18.43162458287193, 11.820688441982687, 51.874440439669364, 13.451948150419748, 29.83232210073027, 57.214148230949185, 44.42952901273234, 43.633912548221964, 203.96775164902817, 27.137467421467104, 75.3576859217532, 133.81985574993655, 107.36165277500265, 55.75329451069963, 42.63324357410803, 41.114344639247754, 64.84862838359516, 16.950140346655235, 206.3834584258373, 16.514511981694334, 36.39901936019053, 60.99532198721254, 95.38864826500554, 94.60647362642553, 51.18275579431702, 161.83486004200313, 116.55591376924245, 330.3792417552215, 98.41439668409329, 75.35273890656998, 118.89044291350844, 74.30331420861972, 119.18019782051778, 160.52590201390342, 124.31712930626685, 130.01994177047396, 149.9236130894491, 27.305413377154363, 39.6449477724314, 9.630705457878395, 26.554222576990522, 8.229224076009501, 8.28674150813005, 7.756218297556627, 7.310013200758129, 7.357784187603877, 11.22844154328751, 6.851778966804766, 6.85260770722965, 9.407821631680244, 6.855997971257178, 18.003633084967767, 5.951395661429719, 8.926378059627266, 10.497644249118311, 6.0553284367245315, 5.4757672780434845, 5.491796913060453, 5.472916399136998, 5.48499736304201, 5.478043295292226, 7.011308514975997, 12.57937215402739, 6.4787565637215145, 6.079655859335641, 6.579502114004339, 13.606160041600255, 203.96775164902817, 18.920148958146747, 52.95244081365796, 17.682648202511604, 40.11468942149587, 10.033606961325923, 13.162714672890608, 64.81574252325167, 11.378743822009188, 21.171051413401305, 39.12727277838294, 64.84862838359516, 107.36165277500265, 20.52987838480444, 127.33877929992427, 124.31712930626685, 88.66077822805791, 50.29518198431157, 98.41439668409329, 161.83486004200313, 44.10373985632471, 149.9236130894491, 62.91938365564642, 51.51002319606272, 31.215211726104478, 113.35270162810036, 102.3727367393113, 119.8087035922716, 130.01994177047396, 65.16539701460417, 52.082443672194564], \"Category\": [\"Default\", \"Default\", \"Default\", \"Default\", \"Default\", \"Default\", \"Default\", \"Default\", \"Default\", \"Default\", \"Default\", \"Default\", \"Default\", \"Default\", \"Default\", \"Default\", \"Default\", \"Default\", \"Default\", \"Default\", \"Default\", \"Default\", \"Default\", \"Default\", \"Default\", \"Default\", \"Default\", \"Default\", \"Default\", \"Default\", \"Topic1\", \"Topic1\", \"Topic1\", \"Topic1\", \"Topic1\", \"Topic1\", \"Topic1\", \"Topic1\", \"Topic1\", \"Topic1\", \"Topic1\", \"Topic1\", \"Topic1\", \"Topic1\", \"Topic1\", \"Topic1\", \"Topic1\", \"Topic1\", \"Topic1\", \"Topic1\", \"Topic1\", \"Topic1\", \"Topic1\", \"Topic1\", \"Topic1\", \"Topic1\", \"Topic1\", \"Topic1\", \"Topic1\", \"Topic1\", \"Topic1\", \"Topic1\", \"Topic1\", \"Topic1\", \"Topic1\", \"Topic1\", \"Topic1\", \"Topic1\", \"Topic1\", \"Topic1\", \"Topic1\", \"Topic1\", \"Topic1\", \"Topic1\", \"Topic1\", \"Topic1\", \"Topic1\", \"Topic1\", \"Topic1\", \"Topic1\", \"Topic1\", \"Topic1\", \"Topic1\", \"Topic1\", \"Topic1\", \"Topic1\", \"Topic1\", \"Topic1\", \"Topic1\", \"Topic1\", \"Topic1\", \"Topic2\", \"Topic2\", \"Topic2\", \"Topic2\", \"Topic2\", \"Topic2\", \"Topic2\", \"Topic2\", \"Topic2\", \"Topic2\", \"Topic2\", \"Topic2\", \"Topic2\", \"Topic2\", \"Topic2\", \"Topic2\", \"Topic2\", \"Topic2\", \"Topic2\", \"Topic2\", \"Topic2\", \"Topic2\", \"Topic2\", \"Topic2\", \"Topic2\", \"Topic2\", \"Topic2\", \"Topic2\", \"Topic2\", \"Topic2\", \"Topic2\", \"Topic2\", \"Topic2\", \"Topic2\", \"Topic2\", \"Topic2\", \"Topic2\", \"Topic2\", \"Topic2\", \"Topic2\", \"Topic2\", \"Topic2\", \"Topic2\", \"Topic2\", \"Topic2\", \"Topic2\", \"Topic2\", \"Topic2\", \"Topic2\", \"Topic2\", \"Topic2\", \"Topic2\", \"Topic2\", \"Topic2\", \"Topic2\", \"Topic2\", \"Topic2\", \"Topic2\", \"Topic2\", \"Topic2\", \"Topic2\", \"Topic3\", \"Topic3\", \"Topic3\", \"Topic3\", \"Topic3\", \"Topic3\", \"Topic3\", \"Topic3\", \"Topic3\", \"Topic3\", \"Topic3\", \"Topic3\", \"Topic3\", \"Topic3\", \"Topic3\", \"Topic3\", \"Topic3\", \"Topic3\", \"Topic3\", \"Topic3\", \"Topic3\", \"Topic3\", \"Topic3\", \"Topic3\", \"Topic3\", \"Topic3\", \"Topic3\", \"Topic3\", \"Topic3\", \"Topic3\", \"Topic3\", \"Topic3\", \"Topic3\", \"Topic3\", \"Topic3\", \"Topic3\", \"Topic3\", \"Topic3\", \"Topic3\", \"Topic3\", \"Topic3\", \"Topic3\", \"Topic3\", \"Topic3\", \"Topic3\", \"Topic3\", \"Topic3\", \"Topic3\", \"Topic3\", \"Topic3\", \"Topic3\", \"Topic3\", \"Topic3\", \"Topic3\", \"Topic3\", \"Topic3\", \"Topic3\", \"Topic3\", \"Topic3\", \"Topic3\", \"Topic3\", \"Topic3\", \"Topic3\", \"Topic3\", \"Topic3\", \"Topic4\", \"Topic4\", \"Topic4\", \"Topic4\", \"Topic4\", \"Topic4\", \"Topic4\", \"Topic4\", \"Topic4\", \"Topic4\", \"Topic4\", \"Topic4\", \"Topic4\", \"Topic4\", \"Topic4\", \"Topic4\", \"Topic4\", \"Topic4\", \"Topic4\", \"Topic4\", \"Topic4\", \"Topic4\", \"Topic4\", \"Topic4\", \"Topic4\", \"Topic4\", \"Topic4\", \"Topic4\", \"Topic4\", \"Topic4\", \"Topic4\", \"Topic4\", \"Topic4\", \"Topic4\", \"Topic4\", \"Topic4\", \"Topic4\", \"Topic4\", \"Topic4\", \"Topic4\", \"Topic4\", \"Topic4\", \"Topic4\", \"Topic4\", \"Topic4\", \"Topic4\", \"Topic4\", \"Topic4\", \"Topic4\", \"Topic4\", \"Topic4\", \"Topic4\", \"Topic4\", \"Topic4\", \"Topic4\", \"Topic4\", \"Topic4\", \"Topic4\", \"Topic4\", \"Topic4\", \"Topic4\", \"Topic4\", \"Topic4\", \"Topic4\", \"Topic4\", \"Topic5\", \"Topic5\", \"Topic5\", \"Topic5\", \"Topic5\", \"Topic5\", \"Topic5\", \"Topic5\", \"Topic5\", \"Topic5\", \"Topic5\", \"Topic5\", \"Topic5\", \"Topic5\", \"Topic5\", \"Topic5\", \"Topic5\", \"Topic5\", \"Topic5\", \"Topic5\", \"Topic5\", \"Topic5\", \"Topic5\", \"Topic5\", \"Topic5\", \"Topic5\", \"Topic5\", \"Topic5\", \"Topic5\", \"Topic5\", \"Topic5\", \"Topic5\", \"Topic5\", \"Topic5\", \"Topic5\", \"Topic5\", \"Topic5\", \"Topic5\", \"Topic5\", \"Topic5\", \"Topic5\", \"Topic5\", \"Topic5\", \"Topic5\", \"Topic5\", \"Topic5\", \"Topic5\", \"Topic5\", \"Topic5\", \"Topic5\", \"Topic5\", \"Topic5\", \"Topic5\", \"Topic5\", \"Topic5\", \"Topic5\", \"Topic5\", \"Topic5\", \"Topic5\", \"Topic5\", \"Topic5\", \"Topic5\", \"Topic5\", \"Topic5\", \"Topic5\", \"Topic5\", \"Topic5\", \"Topic5\", \"Topic5\", \"Topic5\", \"Topic6\", \"Topic6\", \"Topic6\", \"Topic6\", \"Topic6\", \"Topic6\", \"Topic6\", \"Topic6\", \"Topic6\", \"Topic6\", \"Topic6\", \"Topic6\", \"Topic6\", \"Topic6\", \"Topic6\", \"Topic6\", \"Topic6\", \"Topic6\", \"Topic6\", \"Topic6\", \"Topic6\", \"Topic6\", \"Topic6\", \"Topic6\", \"Topic6\", \"Topic6\", \"Topic6\", \"Topic6\", \"Topic6\", \"Topic6\", \"Topic6\", \"Topic6\", \"Topic6\", \"Topic6\", \"Topic6\", \"Topic6\", \"Topic6\", \"Topic6\", \"Topic6\", \"Topic6\", \"Topic6\", \"Topic6\", \"Topic6\", \"Topic6\", \"Topic6\", \"Topic6\", \"Topic6\", \"Topic6\", \"Topic6\", \"Topic6\", \"Topic6\", \"Topic6\", \"Topic6\", \"Topic6\", \"Topic6\", \"Topic6\", \"Topic6\", \"Topic6\", \"Topic6\", \"Topic6\", \"Topic6\"], \"logprob\": [30.0, 29.0, 28.0, 27.0, 26.0, 25.0, 24.0, 23.0, 22.0, 21.0, 20.0, 19.0, 18.0, 17.0, 16.0, 15.0, 14.0, 13.0, 12.0, 11.0, 10.0, 9.0, 8.0, 7.0, 6.0, 5.0, 4.0, 3.0, 2.0, 1.0, -5.9976, -6.7899, -6.0727, -6.3346, -6.6969, -7.2891, -5.5124, -7.2314, -7.3882, -7.012, -6.4685, -5.7401, -6.4393, -6.8453, -6.1476, -7.3682, -6.1284, -7.3192, -7.6347, -7.6371, -7.6413, -7.0123, -7.1893, -6.3904, -5.6588, -6.9912, -5.352, -7.6164, -7.1659, -7.4482, -7.2548, -5.0403, -5.5132, -6.4944, -4.3889, -4.8542, -4.9869, -5.2719, -5.6508, -5.5589, -5.8745, -5.3979, -5.3709, -5.0506, -5.1122, -5.5085, -6.0035, -5.8361, -5.7511, -5.4441, -5.8798, -5.7817, -5.9497, -5.7396, -5.7638, -5.7692, -5.6936, -5.8276, -5.8509, -5.8661, -5.8688, -3.8139, -6.5588, -6.7929, -6.6765, -6.987, -6.9317, -6.8036, -5.4635, -4.8859, -6.6259, -6.9816, -6.9086, -7.1588, -7.1686, -7.1675, -7.2546, -7.2703, -7.3492, -7.0953, -7.088, -6.2506, -7.3692, -6.5718, -7.1653, -5.8697, -7.4723, -5.8063, -7.164, -6.8579, -5.2108, -5.5728, -5.8308, -6.5821, -5.3494, -5.892, -6.2565, -6.4198, -5.889, -5.9172, -5.9467, -5.3674, -5.3965, -5.3894, -5.5598, -6.1362, -6.1999, -6.0244, -5.8724, -6.0623, -6.1754, -5.7637, -5.9358, -5.8546, -6.0003, -6.1998, -5.9231, -6.053, -6.0405, -6.0117, -6.0152, -6.1141, -6.2795, -6.0834, -6.7886, -6.9238, -6.5149, -5.8837, -7.0126, -7.1154, -5.3634, -4.8121, -7.3268, -7.3278, -6.1081, -7.1321, -7.3462, -7.2122, -7.4369, -7.177, -7.4537, -7.2945, -7.0334, -7.2239, -7.5955, -7.2324, -7.611, -7.615, -7.6184, -7.6206, -7.1888, -7.6224, -5.9077, -5.6735, -6.0278, -7.1299, -7.2723, -4.678, -6.1482, -5.876, -4.512, -6.1386, -6.7538, -5.4433, -6.5109, -5.9549, -6.5626, -6.4723, -6.2585, -5.8241, -5.302, -5.856, -5.3027, -5.4503, -5.7257, -5.8283, -6.2985, -5.5824, -5.526, -5.7214, -5.8801, -5.8883, -5.8973, -6.0943, -6.078, -6.0544, -6.0802, -6.5339, -6.8099, -6.7575, -6.0447, -6.9805, -6.9793, -7.0551, -7.0678, -7.0889, -6.3515, -7.2896, -6.9978, -7.3114, -7.2401, -6.9805, -7.1768, -7.4087, -7.4284, -7.448, -7.4488, -7.451, -6.4004, -6.4864, -6.081, -7.1878, -7.4988, -7.5855, -7.1027, -7.5904, -7.5921, -6.7931, -7.3264, -6.8068, -6.2271, -5.8489, -5.9196, -5.5996, -6.1242, -5.2488, -5.5532, -6.7814, -6.8557, -6.2532, -5.8115, -5.8007, -6.0777, -6.0527, -6.4055, -6.3072, -6.08, -5.6367, -5.8496, -6.2192, -5.9223, -6.0447, -6.4725, -6.1999, -5.9377, -5.9915, -6.1555, -6.1041, -6.3049, -6.3008, -6.284, -6.3391, -6.5959, -6.8907, -6.8739, -7.0574, -6.1418, -7.0807, -7.2811, -7.2929, -7.3081, -7.4108, -7.4126, -7.4171, -6.305, -7.4254, -7.43, -7.4359, -7.4428, -7.0414, -7.1574, -7.2195, -7.5649, -7.569, -7.5741, -6.8717, -7.4792, -7.5853, -7.5853, -7.4282, -7.4049, -7.057, -6.966, -7.07, -5.8377, -6.5339, -6.991, -5.7959, -6.904, -6.2806, -5.7992, -6.0379, -6.1336, -5.1085, -6.4571, -5.8237, -5.5021, -5.7227, -6.1247, -6.2812, -6.3043, -6.084, -6.7992, -5.5029, -6.8154, -6.4417, -6.218, -6.0309, -6.0358, -6.3166, -5.8358, -5.9858, -5.6299, -6.1035, -6.2094, -6.1375, -6.2788, -6.2187, -6.1822, -6.2597, -6.2766, -6.2928, -5.3472, -5.1008, -6.5212, -5.5671, -6.7491, -6.7442, -6.8251, -6.928, -6.9444, -6.523, -7.0346, -7.0352, -6.7214, -7.0396, -6.0918, -7.2856, -6.9294, -6.7677, -7.3224, -7.4302, -7.4278, -7.4378, -7.4367, -7.4472, -7.2045, -6.623, -7.2882, -7.3604, -7.2914, -6.5661, -3.9757, -6.2684, -5.4309, -6.4138, -5.7381, -6.9413, -6.7478, -5.5467, -6.8997, -6.4955, -6.1203, -5.8258, -5.5233, -6.5375, -5.7256, -5.7448, -5.897, -6.1628, -5.9378, -5.7735, -6.2597, -5.9275, -6.2682, -6.3303, -6.4467, -6.1954, -6.2612, -6.2959, -6.4127, -6.4621, -6.4776], \"loglift\": [30.0, 29.0, 28.0, 27.0, 26.0, 25.0, 24.0, 23.0, 22.0, 21.0, 20.0, 19.0, 18.0, 17.0, 16.0, 15.0, 14.0, 13.0, 12.0, 11.0, 10.0, 9.0, 8.0, 7.0, 6.0, 5.0, 4.0, 3.0, 2.0, 1.0, 0.8958, 0.8569, 0.8539, 0.833, 0.8327, 0.8206, 0.8168, 0.7915, 0.7874, 0.7814, 0.7784, 0.7774, 0.7736, 0.7664, 0.766, 0.7645, 0.7583, 0.7381, 0.7365, 0.7339, 0.7331, 0.7312, 0.7277, 0.72, 0.7188, 0.7178, 0.7154, 0.7124, 0.7122, 0.7115, 0.7101, 0.6792, 0.6762, 0.6935, 0.6088, 0.6141, 0.5919, 0.5814, 0.6058, 0.5838, 0.5983, 0.5273, 0.5185, 0.4581, 0.4369, 0.4857, 0.5793, 0.5341, 0.4706, 0.3437, 0.5123, 0.4433, 0.4725, 0.2802, 0.2758, 0.2481, -0.2136, 0.0739, 0.1243, 0.146, 0.0823, 1.5271, 1.5188, 1.4676, 1.4383, 1.4351, 1.4332, 1.4152, 1.4134, 1.4104, 1.4035, 1.3934, 1.3856, 1.3849, 1.379, 1.3771, 1.3591, 1.3466, 1.3404, 1.3299, 1.3281, 1.3215, 1.3205, 1.309, 1.3003, 1.2989, 1.2977, 1.2967, 1.2757, 1.2755, 1.2648, 1.2402, 1.148, 1.1878, 0.9279, 0.9366, 0.9853, 1.0454, 0.8276, 0.8378, 0.8303, 0.5629, 0.5546, 0.322, 0.4345, 0.7562, 0.7924, 0.6211, 0.4378, 0.599, 0.7047, 0.1378, 0.2859, 0.1206, 0.3129, 0.6564, -0.0337, 0.1163, -0.0207, -0.2239, -0.4364, 0.2937, 1.8029, 1.7801, 1.6764, 1.6565, 1.6501, 1.6477, 1.6362, 1.5982, 1.5826, 1.5445, 1.5322, 1.5301, 1.5282, 1.5174, 1.5076, 1.505, 1.5038, 1.5024, 1.4822, 1.4511, 1.443, 1.4333, 1.4325, 1.4248, 1.4122, 1.4117, 1.407, 1.4024, 1.3995, 1.3985, 1.3813, 1.2997, 1.1355, 1.3213, 1.3479, 0.8307, 1.1167, 1.0049, 0.4858, 1.0117, 1.2108, 0.5688, 1.0741, 0.771, 1.0867, 1.0375, 0.917, 0.6288, 0.2471, 0.5991, 0.1655, 0.2611, 0.4437, 0.4611, 0.8665, 0.1371, 0.0528, 0.132, 0.2625, 0.129, -0.008, 0.4885, 0.3978, -0.0793, -0.2924, 1.7897, 1.7155, 1.7091, 1.6671, 1.6629, 1.6628, 1.6533, 1.6408, 1.6226, 1.5855, 1.5636, 1.555, 1.5406, 1.5389, 1.5375, 1.5328, 1.5258, 1.5033, 1.4817, 1.4808, 1.4785, 1.4785, 1.4574, 1.4537, 1.4473, 1.4374, 1.4354, 1.4287, 1.4284, 1.4263, 1.4168, 1.4149, 1.3874, 1.3213, 1.1385, 1.1202, 0.8902, 1.0053, 0.6814, 0.695, 1.2381, 1.2622, 0.8788, 0.4986, 0.4275, 0.6428, 0.5732, 0.8739, 0.7382, 0.4666, -0.0876, 0.1702, 0.5687, 0.1173, 0.1953, 0.8218, 0.3157, -0.2263, -0.2037, -0.0337, -0.2026, 0.0653, -0.2888, -0.7753, -0.0617, 1.7418, 1.7022, 1.6672, 1.6647, 1.647, 1.6437, 1.5857, 1.5713, 1.5571, 1.5378, 1.5322, 1.5296, 1.5224, 1.5217, 1.5164, 1.5109, 1.5034, 1.5005, 1.498, 1.481, 1.4699, 1.4607, 1.456, 1.4512, 1.4508, 1.4474, 1.4428, 1.4318, 1.4203, 1.4192, 1.415, 1.4117, 1.3203, 1.35, 1.3372, 1.0533, 1.2948, 1.1217, 0.952, 0.9661, 0.8886, 0.3715, 1.04, 0.652, 0.3994, 0.3991, 0.6523, 0.7641, 0.7773, 0.5419, 1.1685, -0.0347, 1.1783, 0.7617, 0.4692, 0.2091, 0.2124, 0.5459, -0.1244, 0.0538, -0.6322, 0.1053, 0.2664, -0.1178, 0.211, -0.2014, -0.4627, -0.2846, -0.3463, -0.505, 2.1436, 2.0172, 2.0118, 1.9517, 1.9412, 1.9391, 1.9243, 1.8807, 1.8578, 1.8565, 1.8388, 1.8382, 1.835, 1.8332, 1.8156, 1.7288, 1.6795, 1.6791, 1.6746, 1.6674, 1.6669, 1.6603, 1.6592, 1.65, 1.646, 1.6429, 1.6413, 1.6326, 1.6226, 1.6214, 1.5043, 1.5893, 1.3977, 1.5116, 1.3681, 1.5508, 1.4727, 1.0797, 1.4665, 1.2498, 1.0108, 0.8001, 0.5985, 1.2386, 0.2255, 0.2304, 0.4161, 0.7172, 0.271, -0.0621, 0.7517, -0.1396, 0.3879, 0.5259, 0.9104, -0.128, -0.0918, -0.2838, -0.4824, 0.1589, 0.3675]}, \"token.table\": {\"Topic\": [1, 2, 3, 4, 5, 6, 1, 2, 3, 4, 5, 6, 1, 2, 3, 4, 5, 6, 1, 2, 3, 4, 5, 6, 1, 2, 3, 4, 5, 6, 1, 2, 3, 4, 5, 6, 1, 2, 3, 5, 6, 1, 2, 3, 4, 5, 6, 1, 2, 3, 4, 1, 2, 3, 4, 5, 6, 1, 2, 3, 4, 5, 6, 1, 2, 3, 4, 5, 6, 1, 2, 3, 4, 5, 6, 1, 2, 3, 4, 5, 6, 1, 2, 3, 4, 5, 1, 2, 3, 4, 5, 6, 1, 2, 3, 4, 5, 1, 2, 3, 4, 5, 6, 1, 2, 5, 1, 2, 3, 4, 5, 6, 1, 2, 3, 4, 5, 6, 1, 2, 3, 4, 5, 6, 1, 2, 3, 4, 5, 6, 1, 2, 3, 4, 5, 6, 1, 2, 3, 4, 5, 1, 2, 3, 4, 5, 6, 1, 2, 3, 4, 5, 6, 1, 2, 3, 4, 5, 6, 1, 2, 3, 4, 5, 1, 2, 3, 4, 5, 6, 1, 2, 3, 5, 6, 1, 2, 3, 4, 5, 6, 1, 2, 3, 4, 5, 1, 2, 6, 1, 2, 3, 4, 5, 1, 2, 3, 4, 5, 6, 1, 2, 3, 5, 1, 2, 3, 4, 5, 6, 1, 2, 3, 4, 5, 6, 1, 2, 3, 4, 5, 1, 2, 3, 4, 5, 6, 1, 2, 3, 4, 5, 6, 1, 2, 3, 4, 5, 6, 1, 2, 3, 1, 2, 3, 4, 5, 6, 1, 2, 3, 4, 5, 1, 2, 3, 4, 5, 1, 2, 3, 4, 5, 6, 1, 2, 4, 5, 6, 1, 2, 3, 4, 5, 6, 1, 2, 3, 4, 5, 6, 1, 2, 3, 4, 1, 2, 3, 4, 5, 6, 1, 2, 3, 4, 5, 6, 1, 2, 3, 4, 5, 1, 2, 3, 4, 5, 6, 1, 2, 3, 4, 5, 6, 1, 2, 3, 4, 5, 1, 2, 3, 4, 6, 1, 2, 3, 4, 5, 6, 1, 2, 3, 4, 5, 6, 1, 2, 3, 4, 5, 1, 2, 3, 5, 1, 2, 3, 4, 5, 1, 2, 3, 4, 5, 6, 1, 2, 3, 4, 5, 6, 1, 2, 3, 4, 5, 6, 1, 2, 3, 4, 5, 1, 2, 3, 4, 5, 1, 2, 3, 4, 5, 6, 1, 2, 3, 4, 5, 6, 1, 2, 3, 4, 5, 6, 1, 2, 3, 4, 5, 6, 1, 2, 3, 4, 5, 6, 1, 2, 3, 4, 5, 6, 1, 2, 3, 1, 2, 3, 4, 1, 2, 3, 4, 5, 6, 1, 2, 3, 4, 5, 1, 2, 3, 4, 5, 6, 1, 2, 3, 4, 1, 2, 3, 4, 5, 1, 2, 3, 4, 5, 6, 1, 2, 3, 4, 5, 1, 2, 5, 1, 2, 3, 4, 5, 6, 1, 2, 3, 4, 5, 1, 2, 3, 4, 5, 1, 2, 3, 4, 5, 1, 2, 3, 4, 5, 1, 2, 3, 4, 5, 1, 2, 4, 1, 2, 3, 4, 5, 1, 2, 3, 1, 2, 3, 4, 5, 6, 1, 2, 3, 4, 5, 1, 2, 3, 4, 5, 6, 1, 2, 3, 4, 5, 6, 1, 2, 3, 4, 5, 1, 2, 4, 5, 6, 1, 2, 3, 4, 5, 1, 2, 3, 4, 5, 1, 2, 3, 4, 5, 1, 2, 3, 4, 5, 6, 1, 2, 4, 5, 6, 1, 2, 3, 4, 5, 1, 2, 3, 4, 5, 1, 2, 3, 4, 5, 6, 1, 2, 3, 4, 5, 6, 1, 2, 3, 4, 5, 6, 1, 2, 5, 1, 2, 3, 4, 5, 1, 2, 4, 5, 1, 2, 3, 4, 5, 6, 1, 2, 4, 5, 6, 1, 2, 3, 4, 5, 6, 1, 2, 3, 4, 5, 6, 1, 2, 3, 4, 5, 6, 1, 2, 3, 4, 5, 6, 1, 2, 3, 4, 5, 6, 1, 2, 3, 4, 5, 1, 2, 3, 4, 5, 6, 1, 2, 3, 4, 5, 1, 2, 4, 1, 2, 3, 4, 5, 6, 1, 2, 3, 4, 5, 6, 1, 2, 3, 4, 5, 1, 2, 3, 4, 5, 6, 1, 2, 3, 4, 5, 6, 1, 2, 3, 4, 5, 6, 1, 2, 3, 4, 5, 6, 1, 2, 3, 4, 5, 6, 1, 2, 3, 5, 1, 2, 3, 4, 5, 6, 1, 2, 3, 4, 5, 6, 1, 2, 4, 5, 1, 2, 3, 4, 5, 1, 2, 3, 5, 1, 2, 3, 4, 5, 1, 2, 3, 4, 5, 6, 1, 2, 3, 4, 5, 6, 1, 2, 3, 4, 5, 1, 2, 4, 5, 1, 2, 4, 1, 2, 3, 4, 1, 2, 3, 4, 5, 1, 2, 3, 4, 5, 6, 1, 2, 3, 4, 5, 6, 1, 2, 3, 6, 1, 2, 3, 4, 5, 6, 1, 2, 3, 4, 5, 6, 1, 2, 3, 4, 5, 1, 2, 3, 4, 5, 6, 1, 2, 3, 4, 5, 1, 2, 3, 4, 5, 1, 2, 3, 4, 5, 6, 1, 2, 3, 4, 5, 6, 1, 2, 3, 4, 5, 6, 1, 2, 3, 4, 5, 6, 1, 2, 3, 4, 5, 6, 1, 2, 3, 5, 6, 1, 2, 3, 4, 5, 6, 1, 2, 3, 4, 5, 1, 2, 3, 4, 5, 6, 1, 2, 3, 4, 5, 6, 1, 2, 3, 4, 5, 6, 1, 2, 3, 4, 5, 1, 2, 3, 4, 5, 6, 1, 2, 3, 6, 1, 2, 3, 4, 5, 6, 1, 2, 3, 4, 5, 1, 2, 3, 4, 6, 1, 2, 3, 4, 5, 6, 1, 2, 3, 4, 5, 6, 1, 2, 3, 4, 5, 6, 1, 2, 4, 1, 2, 3, 4, 5, 6, 1, 2, 5, 1, 2, 3, 4, 5, 1, 2, 3, 4, 5, 6, 1, 2, 3, 4, 5, 6, 1, 2, 3, 1, 2, 3, 4, 5, 6, 1, 2, 3, 4, 5, 6, 1, 2, 3, 4, 5, 1, 2, 3, 4, 5, 1, 2, 3, 4, 5, 6, 1, 2, 3, 4, 5, 6, 1, 2, 3, 4, 1, 2, 3, 4, 5, 1, 2, 3, 4, 5, 6, 1, 2, 3, 4, 5, 1, 2, 3, 4, 5, 1, 2, 3, 4, 5, 6, 1, 2, 3, 4, 5, 6, 1, 2, 3, 4, 5, 1, 2, 3, 4, 5, 1, 2, 4, 5, 1, 2, 3, 4, 5, 6, 1, 2, 3, 4, 5, 6, 1, 2, 3, 4, 5, 6, 1, 2, 3, 5, 1, 2, 3, 4, 5, 6, 1, 2, 3, 4, 1, 2, 3, 4, 5, 6, 1, 2, 3, 4, 5, 6, 1, 2, 3, 4, 5, 6, 1, 2, 3, 4, 1, 2, 3, 4, 6, 1, 2, 3, 4, 5, 6, 1, 2, 3, 4, 5, 6, 1, 2, 3, 4, 5, 6, 1, 2, 3, 4, 5, 6, 1, 2, 3, 4, 5, 6, 1, 2, 3, 4, 5, 6, 1, 2, 3, 4, 5, 6, 1, 2, 3, 4, 5, 6, 1, 2, 3, 4, 5, 6, 1, 2, 3, 4, 5, 6, 1, 2, 3, 4, 5, 6, 1, 2, 3, 4, 5, 6, 1, 2, 3, 4, 5, 1, 2, 4, 6, 1, 2, 3, 4, 5, 6, 1, 2, 4, 5, 6, 1, 2, 3, 4, 5, 6, 1, 2, 3, 4, 5, 6, 1, 2, 3, 4, 5, 6, 1, 2, 3, 4, 5, 6, 1, 2, 3, 4, 5, 6, 1, 2, 3, 4, 5, 6, 1, 2, 3, 4, 5, 6, 1, 2, 3, 4, 5, 6, 1, 2, 3, 4, 5, 6, 1, 2, 3, 4, 5, 6, 1, 2, 3, 4, 5, 1, 2, 3, 4, 1, 2, 3, 4, 5, 6, 1, 2, 3, 4, 5, 6, 1, 2, 3, 4, 5, 6, 1, 2, 3, 4, 5, 1, 2, 3, 4, 5, 6, 1, 2, 3, 4, 5, 6, 1, 2, 3, 4, 5, 1, 2, 3, 4, 5, 6, 1, 2, 3, 4, 5, 1, 2, 3, 4, 5, 1, 2, 3, 4, 5, 6, 1, 2, 3, 4, 5, 6, 1, 2, 3, 4, 5, 6, 1, 2, 3, 4, 5, 6, 1, 2, 3, 4, 5, 1, 2, 3, 4, 5, 1, 2, 3, 5, 6, 1, 2, 3, 1, 2, 3, 4, 5, 6, 1, 2, 3, 4, 1, 2, 3, 4, 5, 6, 1, 2, 3, 4, 5, 6, 1, 2, 3, 4, 5, 6, 1, 2, 3, 4, 5, 6, 1, 2, 3, 4, 5, 6, 1, 2, 3, 4, 5, 6, 1, 2, 3, 4, 5, 6, 1, 2, 3, 4, 5, 6, 1, 2, 3, 4, 5, 1, 2, 3, 4, 5, 1, 2, 3, 4, 5, 1, 2, 3, 4, 5, 1, 2, 3, 4, 5, 6, 1, 2, 3, 4, 5, 6, 1, 2, 3, 4, 5, 6, 1, 2, 3, 4, 5, 6, 1, 2, 3, 4, 5, 6, 1, 2, 3, 4, 5, 6, 1, 2, 3, 4, 5, 6, 1, 2, 3, 4, 5, 6, 1, 2, 3, 4, 5, 6, 1, 2, 3, 4, 5, 6, 1, 2, 3, 4, 5, 6, 1, 2, 3, 4, 5, 6, 1, 2, 3, 4, 5, 1, 2, 3, 4, 5, 1, 2, 3, 4, 5, 6, 1, 2, 3, 4, 1, 2, 3, 4, 5, 1, 2, 3, 4, 5, 1, 2, 3, 4, 5, 6, 1, 2, 3, 4, 1, 2, 3, 4, 5, 1, 2, 3, 4, 5, 6, 1, 2, 3, 4, 5, 6, 1, 2, 3, 1, 2, 3, 4, 5, 6, 1, 2, 3, 4, 5, 6, 1, 2, 3, 4, 5, 6, 1, 2, 3, 4, 5, 6, 1, 2, 3, 4, 5, 1, 2, 3, 4, 6, 1, 2, 3, 4, 6, 1, 2, 3, 4, 5, 1, 2, 3, 4, 1, 2, 3, 4, 5, 6, 1, 2, 3, 4, 1, 2, 3, 4, 5, 1, 2, 3, 4, 5, 6, 1, 2, 3, 4, 5, 6, 1, 2, 3, 4, 5, 6, 1, 2, 3, 4, 5, 6, 1, 2, 3, 4, 5, 6, 1, 2, 3, 4, 5, 6], \"Freq\": [0.05316024713006482, 0.05316024713006482, 0.7442434598209074, 0.05316024713006482, 0.05316024713006482, 0.05316024713006482, 0.33094387139581094, 0.0902574194715848, 0.060171612981056534, 0.2707722584147544, 0.0902574194715848, 0.12034322596211307, 0.07583832448585628, 0.6825449203727066, 0.07583832448585628, 0.07583832448585628, 0.07583832448585628, 0.07583832448585628, 0.7458723091675176, 0.04812079413983984, 0.10827178681463964, 0.02406039706991992, 0.03609059560487988, 0.03609059560487988, 0.10089558001086711, 0.050447790005433556, 0.050447790005433556, 0.025223895002716778, 0.10089558001086711, 0.681045165073353, 0.21593896821539893, 0.10796948410769946, 0.05398474205384973, 0.5398474205384973, 0.05398474205384973, 0.05398474205384973, 0.7744012515167555, 0.0645334376263963, 0.0645334376263963, 0.0645334376263963, 0.0645334376263963, 0.7813210463290535, 0.04112216033310808, 0.08224432066621616, 0.02056108016655404, 0.061683240499662124, 0.02056108016655404, 0.7989662552228226, 0.0726332959293475, 0.0726332959293475, 0.0726332959293475, 0.3965935502809526, 0.05287914003746035, 0.29083527020603195, 0.05287914003746035, 0.15863742011238105, 0.026439570018730176, 0.395906193022034, 0.0791812386044068, 0.395906193022034, 0.0791812386044068, 0.05278749240293787, 0.026393746201468934, 0.4290908985959374, 0.08581817971918748, 0.38618180873634367, 0.04290908985959374, 0.04290908985959374, 0.04290908985959374, 0.7765812482721146, 0.02773504458114695, 0.0554700891622939, 0.0554700891622939, 0.02773504458114695, 0.02773504458114695, 0.42386962495526453, 0.0605528035650378, 0.0605528035650378, 0.0605528035650378, 0.36331682139022675, 0.0605528035650378, 0.1166678701219119, 0.1166678701219119, 0.5833393506095595, 0.1166678701219119, 0.1166678701219119, 0.35829125682063995, 0.03981013964673777, 0.18578065168477628, 0.09289032584238814, 0.22559079133151405, 0.07962027929347554, 0.7653837575469924, 0.06958034159518113, 0.06958034159518113, 0.06958034159518113, 0.06958034159518113, 0.21949385979989794, 0.40521943347673467, 0.1350731444922449, 0.10130485836918367, 0.06753657224612244, 0.06753657224612244, 0.15704295617314112, 0.15704295617314112, 0.6281718246925645, 0.11799312330736302, 0.05899656165368151, 0.11799312330736302, 0.2949828082684075, 0.41297593157577056, 0.05899656165368151, 0.17811910871955539, 0.08905955435977769, 0.08905955435977769, 0.08905955435977769, 0.08905955435977769, 0.5343573261586662, 0.750988028747551, 0.1501976057495102, 0.05006586858317006, 0.02503293429158503, 0.02503293429158503, 0.02503293429158503, 0.5866834673655291, 0.23673192542819596, 0.05146346204960782, 0.08234153927937252, 0.030878077229764694, 0.02058538481984313, 0.46987671630092875, 0.1426411460199248, 0.1426411460199248, 0.09229721213053958, 0.10068786777877045, 0.058734589537616094, 0.33838976635180473, 0.08459744158795118, 0.08459744158795118, 0.08459744158795118, 0.42298720793975586, 0.47544629744031436, 0.1475522992056148, 0.049184099735204934, 0.08197349955867489, 0.19673639894081973, 0.049184099735204934, 0.2642685325078834, 0.05285370650157668, 0.05285370650157668, 0.15856111950473004, 0.05285370650157668, 0.42282965201261347, 0.41733195085857944, 0.11685294624040224, 0.2253592534636329, 0.09181302918888748, 0.07511975115454429, 0.0667731121373727, 0.14285265019337903, 0.14285265019337903, 0.14285265019337903, 0.5714106007735161, 0.14285265019337903, 0.7543664573963001, 0.14144371076180628, 0.04714790358726876, 0.04714790358726876, 0.04714790358726876, 0.04714790358726876, 0.13591048262665315, 0.13591048262665315, 0.13591048262665315, 0.13591048262665315, 0.5436419305066126, 0.32225691796665806, 0.24552908035554902, 0.1074189726555527, 0.13811010769999632, 0.07672783761110906, 0.1074189726555527, 0.06585394418649333, 0.7902473302379199, 0.06585394418649333, 0.06585394418649333, 0.06585394418649333, 0.18208976330166637, 0.18208976330166637, 0.5462692899049991, 0.28704578168083805, 0.09568192722694602, 0.4784096361347301, 0.09568192722694602, 0.09568192722694602, 0.35286980947074237, 0.058811634911790395, 0.4116814443825328, 0.058811634911790395, 0.058811634911790395, 0.058811634911790395, 0.1446083520470198, 0.1446083520470198, 0.1446083520470198, 0.5784334081880792, 0.09715799567014612, 0.09715799567014612, 0.09715799567014612, 0.6801059696910228, 0.09715799567014612, 0.09715799567014612, 0.38910233245131026, 0.09079054423863907, 0.23346139947078617, 0.10376062198701608, 0.10376062198701608, 0.07782046649026206, 0.7949199128257671, 0.08832443475841857, 0.08832443475841857, 0.08832443475841857, 0.08832443475841857, 0.5131870380507662, 0.0233266835477621, 0.0233266835477621, 0.3732269367641936, 0.0466533670955242, 0.0233266835477621, 0.49152383092704344, 0.10169458570904348, 0.06779639047269564, 0.23728736665443478, 0.05084729285452174, 0.03389819523634782, 0.2930674553804603, 0.15630264286957885, 0.15630264286957885, 0.15630264286957885, 0.2149161339456709, 0.03907566071739471, 0.12144623105702006, 0.6072311552851003, 0.12144623105702006, 0.15435060573190945, 0.15435060573190945, 0.15435060573190945, 0.15435060573190945, 0.15435060573190945, 0.46305181719572835, 0.29735469950314863, 0.07433867487578716, 0.07433867487578716, 0.07433867487578716, 0.44603204925472295, 0.7947028777380736, 0.08830031974867485, 0.08830031974867485, 0.08830031974867485, 0.08830031974867485, 0.6615612698784951, 0.0661561269878495, 0.013231225397569902, 0.09261857778298932, 0.10584980318055921, 0.052924901590279606, 0.28577840216408246, 0.09525946738802749, 0.09525946738802749, 0.09525946738802749, 0.47629733694013743, 0.3807941611600507, 0.10879833176001448, 0.09066527646667874, 0.21759666352002896, 0.18133055293335748, 0.03626611058667149, 0.16276373178671558, 0.05425457726223852, 0.10850915452447704, 0.16276373178671558, 0.4882911953601467, 0.05425457726223852, 0.1698983868201654, 0.1698983868201654, 0.5096951604604962, 0.1698983868201654, 0.1519443404876897, 0.22791651073153457, 0.07597217024384485, 0.22791651073153457, 0.07597217024384485, 0.3798608512192243, 0.6735035891936507, 0.04360814606289824, 0.15020583643887173, 0.0048453495625442496, 0.11628838950106199, 0.014536048687632749, 0.17838462620947804, 0.08919231310473902, 0.08919231310473902, 0.08919231310473902, 0.5351538786284341, 0.14585768610089464, 0.14585768610089464, 0.14585768610089464, 0.14585768610089464, 0.14585768610089464, 0.5834307444035786, 0.4403039645065208, 0.1887016990742232, 0.041933710905382934, 0.15725141589518601, 0.14676798816884026, 0.031450283179037204, 0.11499207017543979, 0.11499207017543979, 0.11499207017543979, 0.574960350877199, 0.11499207017543979, 0.26364948951546735, 0.1757663263436449, 0.08788316317182245, 0.1757663263436449, 0.3515326526872898, 0.6689282257138275, 0.03934871915963691, 0.20582406945040846, 0.006053649101482601, 0.06356331556556731, 0.015134122753706503, 0.35721988974884966, 0.22964135769568905, 0.051031412821264235, 0.33170418333821755, 0.025515706410632118, 0.025515706410632118, 0.19412211357795547, 0.6794273975228442, 0.09706105678897774, 0.09706105678897774, 0.09706105678897774, 0.15733152920128668, 0.15733152920128668, 0.15733152920128668, 0.6293261168051467, 0.08776418235279834, 0.7021134588223867, 0.08776418235279834, 0.08776418235279834, 0.08776418235279834, 0.12892881061831654, 0.12892881061831654, 0.12892881061831654, 0.12892881061831654, 0.12892881061831654, 0.6446440530915828, 0.31061915734534157, 0.33003285467942545, 0.05824109200225155, 0.1164821840045031, 0.019413697334083848, 0.15530957867267078, 0.265360083767745, 0.6235961968542008, 0.01326800418838725, 0.03980401256516175, 0.03980401256516175, 0.03980401256516175, 0.07907409717052497, 0.7907409717052496, 0.07907409717052497, 0.07907409717052497, 0.07907409717052497, 0.15695497700843725, 0.15695497700843725, 0.15695497700843725, 0.15695497700843725, 0.4708649310253118, 0.09812742073328536, 0.8020850042546803, 0.04266409597099363, 0.021332047985496816, 0.017065638388397454, 0.017065638388397454, 0.30277778216190493, 0.2409863980472305, 0.1668367371096211, 0.09886621458347918, 0.10504535299494662, 0.08650793776054427, 0.3316448016398371, 0.07369884480885269, 0.07369884480885269, 0.14739768961770539, 0.3316448016398371, 0.036849422404426346, 0.2939844884794953, 0.07349612211987383, 0.07349612211987383, 0.07349612211987383, 0.07349612211987383, 0.44097673271924304, 0.39265336353063135, 0.3062696235538925, 0.07853067270612628, 0.07067760543551364, 0.03926533635306314, 0.10994294178857678, 0.5135948795074688, 0.14007133077476425, 0.09338088718317616, 0.10005095055340303, 0.07337069707249555, 0.08004076044272243, 0.15534483306285918, 0.15534483306285918, 0.6213793322514367, 0.2404042516985466, 0.1202021258492733, 0.6010106292463665, 0.1202021258492733, 0.2690423970752319, 0.3945955157103402, 0.05380847941504639, 0.03587231961003093, 0.23317007746520102, 0.017936159805015464, 0.09458480144432599, 0.6620936101102819, 0.09458480144432599, 0.09458480144432599, 0.09458480144432599, 0.24007175096278197, 0.13094822779788107, 0.45831879729258374, 0.06547411389894053, 0.04364940926596036, 0.04364940926596036, 0.11330107491559273, 0.22660214983118546, 0.4532042996623709, 0.11330107491559273, 0.8540159843504899, 0.041659316309779995, 0.020829658154889998, 0.041659316309779995, 0.041659316309779995, 0.11636815819181176, 0.11636815819181176, 0.03878938606393725, 0.46547263276724704, 0.11636815819181176, 0.0775787721278745, 0.10535529249812782, 0.7374870474868948, 0.10535529249812782, 0.10535529249812782, 0.10535529249812782, 0.17062963773961326, 0.17062963773961326, 0.5118889132188398, 0.12412641026968722, 0.12412641026968722, 0.12412641026968722, 0.6206320513484361, 0.12412641026968722, 0.12412641026968722, 0.11580824472197351, 0.11580824472197351, 0.11580824472197351, 0.6948494683318411, 0.11580824472197351, 0.15443967582559354, 0.15443967582559354, 0.15443967582559354, 0.15443967582559354, 0.4633190274767806, 0.23880287583901663, 0.6368076689040444, 0.02653365287100185, 0.0530673057420037, 0.02653365287100185, 0.3456274386361881, 0.057604573106031356, 0.057604573106031356, 0.5184411579542823, 0.057604573106031356, 0.7648114821298945, 0.05883165247153035, 0.1176633049430607, 0.05883165247153035, 0.05883165247153035, 0.15435442237638358, 0.15435442237638358, 0.6174176895055343, 0.11292235974667918, 0.677534158480075, 0.11292235974667918, 0.11292235974667918, 0.11292235974667918, 0.13160285635235902, 0.6580142817617951, 0.13160285635235902, 0.6498752712994035, 0.029539785059063794, 0.20677849541344656, 0.029539785059063794, 0.07384946264765949, 0.014769892529531897, 0.13278506395431117, 0.13278506395431117, 0.13278506395431117, 0.5311402558172447, 0.13278506395431117, 0.3556961217905373, 0.14820671741272387, 0.029641343482544776, 0.29641343482544774, 0.14820671741272387, 0.029641343482544776, 0.109868323858082, 0.036622774619360664, 0.036622774619360664, 0.036622774619360664, 0.07324554923872133, 0.769078267006574, 0.1694844370173964, 0.1694844370173964, 0.5084533110521893, 0.1694844370173964, 0.1694844370173964, 0.16802781345573778, 0.16802781345573778, 0.16802781345573778, 0.16802781345573778, 0.5040834403672134, 0.10494663405160887, 0.7346264383612621, 0.10494663405160887, 0.10494663405160887, 0.10494663405160887, 0.8104772587054072, 0.062344404515800554, 0.062344404515800554, 0.062344404515800554, 0.062344404515800554, 0.7974755104421494, 0.08860839004912771, 0.08860839004912771, 0.08860839004912771, 0.08860839004912771, 0.09135173537317487, 0.045675867686587435, 0.045675867686587435, 0.6851380152988116, 0.1370276030597623, 0.045675867686587435, 0.16448299429061364, 0.16448299429061364, 0.16448299429061364, 0.16448299429061364, 0.49344898287184097, 0.06834642579762404, 0.7518106837738644, 0.06834642579762404, 0.06834642579762404, 0.06834642579762404, 0.11734994001246517, 0.11734994001246517, 0.11734994001246517, 0.23469988002493034, 0.5867497000623259, 0.24046325321674086, 0.24046325321674086, 0.32061767095565447, 0.10687255698521815, 0.08015441773891362, 0.026718139246304538, 0.5621546422229684, 0.09456807065433112, 0.16286723279357027, 0.1155831974664047, 0.031522690218110376, 0.031522690218110376, 0.3855463274492619, 0.09638658186231548, 0.038554632744926196, 0.09638658186231548, 0.3469916947043357, 0.038554632744926196, 0.278137155072063, 0.1390685775360315, 0.556274310144126, 0.11595764588190054, 0.11595764588190054, 0.11595764588190054, 0.6957458752914032, 0.11595764588190054, 0.12543754413055536, 0.12543754413055536, 0.12543754413055536, 0.6271877206527768, 0.1987857688618979, 0.6460537488011681, 0.09939288443094894, 0.024848221107737236, 0.024848221107737236, 0.024848221107737236, 0.21181814457903406, 0.10590907228951703, 0.6354544337371022, 0.10590907228951703, 0.10590907228951703, 0.3145164062933083, 0.33024222660797375, 0.03145164062933083, 0.12580656251732333, 0.14153238283198874, 0.06290328125866167, 0.4154671562245638, 0.056654612212440524, 0.07553948294992069, 0.056654612212440524, 0.018884870737480172, 0.3588125440121233, 0.364757221637846, 0.10421634903938458, 0.33870313437799987, 0.10421634903938458, 0.026054087259846145, 0.05210817451969229, 0.16831102730461692, 0.08415551365230846, 0.08415551365230846, 0.08415551365230846, 0.5049330819138508, 0.08415551365230846, 0.7287466506146892, 0.04554666566341808, 0.09109333132683615, 0.04554666566341808, 0.04554666566341808, 0.04554666566341808, 0.12573869573289015, 0.12573869573289015, 0.12573869573289015, 0.12573869573289015, 0.6286934786644507, 0.12426305323683282, 0.24852610647366563, 0.06213152661841641, 0.43492068632891484, 0.06213152661841641, 0.12426305323683282, 0.16913423204962222, 0.16913423204962222, 0.5074026961488667, 0.16913423204962222, 0.16913423204962222, 0.1237444650491907, 0.1237444650491907, 0.6187223252459535, 0.054089458511919895, 0.6490735021430387, 0.16226837553575968, 0.054089458511919895, 0.054089458511919895, 0.054089458511919895, 0.7886949991148752, 0.04151026311130922, 0.02767350874087281, 0.02767350874087281, 0.06918377185218202, 0.04151026311130922, 0.07516577660197303, 0.15033155320394606, 0.07516577660197303, 0.5261604362138113, 0.07516577660197303, 0.716395289216563, 0.01245904850811414, 0.1432790578433126, 0.01245904850811414, 0.07475429104868483, 0.03114762127028535, 0.7805636004618236, 0.08005780517557165, 0.020014451293892913, 0.020014451293892913, 0.020014451293892913, 0.10007225646946458, 0.7851362431253247, 0.08264592032898155, 0.041322960164490774, 0.041322960164490774, 0.041322960164490774, 0.041322960164490774, 0.06275235666634436, 0.690275923329788, 0.06275235666634436, 0.06275235666634436, 0.06275235666634436, 0.12550471333268873, 0.7929795651624945, 0.049561222822655904, 0.049561222822655904, 0.049561222822655904, 0.049561222822655904, 0.09912244564531181, 0.11658811055532672, 0.11658811055532672, 0.6995286633319603, 0.11658811055532672, 0.7410498276044285, 0.08822021757195578, 0.052932130543173465, 0.008822021757195578, 0.026466065271586733, 0.0793981958147602, 0.6602331701585081, 0.1136466932240055, 0.13529368240953035, 0.03247048377828729, 0.03247048377828729, 0.0378822310746685, 0.1715132159700111, 0.1715132159700111, 0.1715132159700111, 0.5145396479100333, 0.15710057652992382, 0.15710057652992382, 0.15710057652992382, 0.15710057652992382, 0.4713017295897714, 0.17070697313859423, 0.17070697313859423, 0.17070697313859423, 0.5121209194157826, 0.14399532391976902, 0.14399532391976902, 0.14399532391976902, 0.14399532391976902, 0.4319859717593071, 0.39072902878291355, 0.19536451439145677, 0.19536451439145677, 0.04884112859786419, 0.08791403147615555, 0.07814580575658271, 0.32300039716419304, 0.08075009929104826, 0.08075009929104826, 0.3095420472823517, 0.14804184870025516, 0.05383339952736551, 0.08421795962088303, 0.08421795962088303, 0.08421795962088303, 0.7579616365879472, 0.08421795962088303, 0.17035404043486374, 0.17035404043486374, 0.17035404043486374, 0.5110621213045913, 0.16871816664152323, 0.16871816664152323, 0.5061544999245696, 0.1695235403840197, 0.1695235403840197, 0.5085706211520592, 0.1695235403840197, 0.10467884449533088, 0.10467884449533088, 0.10467884449533088, 0.10467884449533088, 0.6280730669719853, 0.1129763822421044, 0.03765879408070147, 0.03765879408070147, 0.15063517632280587, 0.03765879408070147, 0.640199499371925, 0.0932216292470986, 0.6525514047296902, 0.0932216292470986, 0.0932216292470986, 0.0932216292470986, 0.0932216292470986, 0.165143808539793, 0.165143808539793, 0.165143808539793, 0.495431425619379, 0.13679865857099807, 0.13679865857099807, 0.13679865857099807, 0.13679865857099807, 0.13679865857099807, 0.5471946342839923, 0.471911246340896, 0.10486916585353244, 0.03495638861784415, 0.05243458292676622, 0.31460749756059736, 0.017478194308922074, 0.8374797203120136, 0.03806726001418244, 0.03806726001418244, 0.07613452002836488, 0.03806726001418244, 0.25628530314628, 0.096106988679855, 0.224249640252995, 0.160178314466425, 0.032035662893285, 0.224249640252995, 0.10228816995675515, 0.10228816995675515, 0.10228816995675515, 0.613729019740531, 0.10228816995675515, 0.14301503261744433, 0.14301503261744433, 0.14301503261744433, 0.5720601304697773, 0.14301503261744433, 0.051274219019446114, 0.10254843803889223, 0.051274219019446114, 0.20509687607778446, 0.5640164092139073, 0.051274219019446114, 0.7148509918330569, 0.07148509918330569, 0.07148509918330569, 0.07148509918330569, 0.07148509918330569, 0.07148509918330569, 0.18893723896338915, 0.09446861948169458, 0.14170292922254188, 0.09446861948169458, 0.14170292922254188, 0.330640168185931, 0.10366573726773008, 0.10366573726773008, 0.20733147453546016, 0.5183286863386505, 0.10366573726773008, 0.10366573726773008, 0.16419111972637315, 0.09382349698649894, 0.14073524547974842, 0.25801461671287207, 0.25801461671287207, 0.09382349698649894, 0.12483103434371, 0.12483103434371, 0.62415517171855, 0.12483103434371, 0.12483103434371, 0.07627646251428857, 0.03813823125714429, 0.6483499313714529, 0.03813823125714429, 0.15255292502857715, 0.03813823125714429, 0.19623530202317405, 0.09811765101158702, 0.49058825505793513, 0.09811765101158702, 0.09811765101158702, 0.22660634450216205, 0.4532126890043241, 0.07553544816738735, 0.1510708963347747, 0.018883862041846836, 0.07553544816738735, 0.15362549329823597, 0.5486624760651284, 0.06583949712781542, 0.1097324952130257, 0.06583949712781542, 0.06583949712781542, 0.06962999614013406, 0.6266699652612064, 0.06962999614013406, 0.1392599922802681, 0.06962999614013406, 0.06962999614013406, 0.12388868034594373, 0.12388868034594373, 0.12388868034594373, 0.6194434017297187, 0.12388868034594373, 0.20464067035016642, 0.127900418968854, 0.17906058655639562, 0.30696100552524963, 0.15348050276262482, 0.025580083793770803, 0.7619004963109509, 0.08465561070121677, 0.08465561070121677, 0.08465561070121677, 0.23073383660607558, 0.3076451154747674, 0.06922015098182267, 0.24611609237981394, 0.08460240675556105, 0.0538378952080843, 0.09292820188775928, 0.7434256151020743, 0.09292820188775928, 0.09292820188775928, 0.09292820188775928, 0.18271793812850604, 0.18271793812850604, 0.18271793812850604, 0.18271793812850604, 0.5481538143855181, 0.7175638923410107, 0.05979699102841756, 0.06976315619982049, 0.06976315619982049, 0.05979699102841756, 0.02989849551420878, 0.29225696750551666, 0.09741898916850555, 0.14612848375275833, 0.04870949458425278, 0.14612848375275833, 0.29225696750551666, 0.6103254093809792, 0.09765206550095668, 0.1586846064390546, 0.04882603275047834, 0.08544555731333708, 0.012206508187619584, 0.1687771396976593, 0.1687771396976593, 0.506331419092978, 0.3264055754948351, 0.11520196782170651, 0.17280295173255977, 0.13440229579199092, 0.11520196782170651, 0.13440229579199092, 0.8160374479079002, 0.06800312065899168, 0.06800312065899168, 0.09700761761155365, 0.09700761761155365, 0.6790533232808755, 0.09700761761155365, 0.09700761761155365, 0.23848567029154355, 0.07949522343051452, 0.07949522343051452, 0.15899044686102903, 0.07949522343051452, 0.4769713405830871, 0.7303072929092418, 0.10819367302359137, 0.027048418255897842, 0.054096836511795685, 0.027048418255897842, 0.027048418255897842, 0.1703478426939691, 0.1703478426939691, 0.5110435280819073, 0.3728867267465043, 0.17953805361868724, 0.1242955755821681, 0.16572743410955745, 0.06905309754564894, 0.08286371705477873, 0.35911995435925154, 0.029926662863270958, 0.5087532686756063, 0.029926662863270958, 0.059853325726541916, 0.029926662863270958, 0.14474308199956967, 0.14474308199956967, 0.14474308199956967, 0.14474308199956967, 0.5789723279982787, 0.10886007380429302, 0.10886007380429302, 0.6531604428257581, 0.10886007380429302, 0.10886007380429302, 0.1609501165694661, 0.08047505828473304, 0.36213776228129874, 0.04023752914236652, 0.20118764571183262, 0.12071258742709957, 0.2720515565142189, 0.446164552683319, 0.06529237356341254, 0.11970268486625632, 0.08705649808455006, 0.021764124521137514, 0.1691290946566937, 0.1691290946566937, 0.1691290946566937, 0.5073872839700811, 0.25575191497094807, 0.12787595748547403, 0.12787595748547403, 0.5115038299418961, 0.12787595748547403, 0.4089219325513454, 0.07667286235337725, 0.10223048313783635, 0.10223048313783635, 0.07667286235337725, 0.25557620784459084, 0.19621107567958926, 0.09810553783979463, 0.09810553783979463, 0.09810553783979463, 0.4905276891989731, 0.11479306533399747, 0.07652871022266498, 0.11479306533399747, 0.5357009715586549, 0.15305742044532997, 0.4726586229167982, 0.04501510694445697, 0.06752266041668546, 0.06752266041668546, 0.3151057486111988, 0.022507553472228485, 0.5785931658213809, 0.0880467861032536, 0.1132030107041832, 0.062890561502324, 0.10062489840371841, 0.050312449201859205, 0.17012184363627955, 0.17012184363627955, 0.5103655309088386, 0.17012184363627955, 0.17012184363627955, 0.16355857849998262, 0.7360136032499218, 0.08177928924999131, 0.08177928924999131, 0.08177928924999131, 0.15674449370174134, 0.15674449370174134, 0.15674449370174134, 0.6269779748069654, 0.6714849059529467, 0.10658490570681693, 0.02131698114136339, 0.07460943399477185, 0.09592641513613524, 0.03197547171204508, 0.5703722752106434, 0.23558854845657007, 0.11159457558469109, 0.0247987945743758, 0.037198191861563694, 0.0247987945743758, 0.38545484023305815, 0.04534762826271273, 0.06802144239406908, 0.20406432718220727, 0.11336907065678181, 0.1813905130508509, 0.1449829648030959, 0.1449829648030959, 0.1449829648030959, 0.5799318592123835, 0.2827362905547502, 0.04712271509245837, 0.5890339386557296, 0.011780678773114592, 0.023561357546229185, 0.035342036319343774, 0.2194827464869385, 0.10974137324346925, 0.5487068662173462, 0.10974137324346925, 0.6198305717137788, 0.1377401270475064, 0.0994789806454213, 0.05356560496291916, 0.05356560496291916, 0.03826114640208511, 0.15198718423868576, 0.15198718423868576, 0.15198718423868576, 0.15198718423868576, 0.15198718423868576, 0.4559615527160573, 0.41024113317768734, 0.193054650907147, 0.12065915681696687, 0.07239549409018012, 0.08848338166577571, 0.11261521302916908, 0.0923725380547014, 0.6466077663829097, 0.0923725380547014, 0.0923725380547014, 0.08866167616130309, 0.7092934092904247, 0.08866167616130309, 0.08866167616130309, 0.08866167616130309, 0.14594749842993496, 0.14594749842993496, 0.14594749842993496, 0.14594749842993496, 0.14594749842993496, 0.5837899937197398, 0.44734557164952565, 0.3195325511782326, 0.06390651023564652, 0.04792988267673489, 0.04792988267673489, 0.07988313779455815, 0.21416421253569184, 0.49971649591661427, 0.1427761416904612, 0.0713880708452306, 0.0356940354226153, 0.0356940354226153, 0.36754597100393677, 0.10501313457255336, 0.02625328364313834, 0.02625328364313834, 0.4463058219333518, 0.02625328364313834, 0.14866907564965187, 0.08495375751408678, 0.6159147419771291, 0.10619219689260848, 0.021238439378521694, 0.021238439378521694, 0.2941641485720906, 0.04902735809534843, 0.03922188647627874, 0.03922188647627874, 0.17159575333371951, 0.40202433638185714, 0.48045610204617223, 0.13727317201319206, 0.06863658600659603, 0.13727317201319206, 0.12869359876236755, 0.04289786625412252, 0.5903668462080726, 0.27058480451203326, 0.08199539530667674, 0.016399079061335347, 0.016399079061335347, 0.016399079061335347, 0.545967105997771, 0.07799530085682442, 0.23398590257047328, 0.06499608404735369, 0.051996867237882945, 0.03899765042841221, 0.33824323826252145, 0.16912161913126073, 0.04228040478281518, 0.25368242869689106, 0.14798141673985313, 0.04228040478281518, 0.29648675161709676, 0.04235525023101382, 0.5929735032341935, 0.04235525023101382, 0.04235525023101382, 0.04235525023101382, 0.17707575056139307, 0.08853787528069654, 0.08853787528069654, 0.39842043876313443, 0.17707575056139307, 0.06640340646052241, 0.8560168951775886, 0.04280084475887943, 0.04280084475887943, 0.04280084475887943, 0.04280084475887943, 0.1826228086810337, 0.1826228086810337, 0.1826228086810337, 0.5478684260431012, 0.2775694790879106, 0.046261579847985096, 0.061682106463980126, 0.21588737262393046, 0.2004668460079354, 0.2004668460079354, 0.10383455338486657, 0.10383455338486657, 0.10383455338486657, 0.10383455338486657, 0.6230073203091994, 0.09966505603163987, 0.09966505603163987, 0.09966505603163987, 0.2989951680949196, 0.09966505603163987, 0.3986602241265595, 0.14592984783660945, 0.14592984783660945, 0.14592984783660945, 0.14592984783660945, 0.14592984783660945, 0.5837193913464378, 0.4794329855551712, 0.16822210019479691, 0.06728884007791877, 0.15139989017531724, 0.10934436512661799, 0.02523331502921954, 0.2742137645494405, 0.0747855721498474, 0.09971409619979656, 0.1495711442996948, 0.04985704809989828, 0.34899933669928795, 0.46090724853115317, 0.1112534737833818, 0.03178670679525194, 0.14304018057863374, 0.12714682718100775, 0.12714682718100775, 0.2681655143366854, 0.06704137858417135, 0.16760344646042838, 0.06704137858417135, 0.36872758221294244, 0.033520689292085674, 0.8033654937344002, 0.08607487432868574, 0.05738324955245716, 0.02869162477622858, 0.02869162477622858, 0.02869162477622858, 0.22217737837258092, 0.05554434459314523, 0.05554434459314523, 0.05554434459314523, 0.11108868918629046, 0.5554434459314523, 0.12067469451278393, 0.12067469451278393, 0.12067469451278393, 0.12067469451278393, 0.12067469451278393, 0.6033734725639196, 0.14262672907118873, 0.14262672907118873, 0.14262672907118873, 0.14262672907118873, 0.14262672907118873, 0.4278801872135662, 0.1570569262455028, 0.1570569262455028, 0.1570569262455028, 0.1570569262455028, 0.4711707787365084, 0.1431043628749319, 0.1431043628749319, 0.5724174514997276, 0.1431043628749319, 0.3358894321467739, 0.037321048016308214, 0.3732104801630821, 0.07464209603261643, 0.14928419206523286, 0.037321048016308214, 0.1604256779005082, 0.29793340181522954, 0.09167181594314755, 0.09167181594314755, 0.29793340181522954, 0.06875386195736066, 0.29848470149613365, 0.05969694029922673, 0.33828266169561816, 0.019898980099742246, 0.1790908208976802, 0.11939388059845346, 0.12377175734350837, 0.12377175734350837, 0.12377175734350837, 0.6188587867175419, 0.12377175734350837, 0.3885820957479597, 0.20176378048451754, 0.07472732610537687, 0.10461825654752761, 0.17934558265290448, 0.04483639566322612, 0.3860278774480332, 0.40357459915021654, 0.0701868868087333, 0.08773360851091663, 0.03509344340436665, 0.017546721702183327, 0.08541050302899783, 0.08541050302899783, 0.08541050302899783, 0.08541050302899783, 0.6832840242319826, 0.391201131078144, 0.05588587586830629, 0.08382881380245943, 0.1210860643813303, 0.17697194024963658, 0.15834331496020115, 0.7290700390610351, 0.0560823106970027, 0.1121646213940054, 0.0560823106970027, 0.0560823106970027, 0.7551834643323977, 0.053941676023742696, 0.053941676023742696, 0.053941676023742696, 0.10788335204748539, 0.5751836898837625, 0.03531829674724857, 0.29263731590577385, 0.05550018060281918, 0.03531829674724857, 0.005045470963892653, 0.47655590996289804, 0.1450387552060994, 0.09323919977534961, 0.1968383106368492, 0.06215946651689974, 0.04143964434459983, 0.12438019203699824, 0.12438019203699824, 0.6219009601849912, 0.12438019203699824, 0.12438019203699824, 0.12438019203699824, 0.14373821939694098, 0.07186910969847049, 0.6468219872862344, 0.07186910969847049, 0.07186910969847049, 0.07186910969847049, 0.11256504177038608, 0.6753902506223164, 0.11256504177038608, 0.11256504177038608, 0.11256504177038608, 0.10504342032278328, 0.735303942259483, 0.10504342032278328, 0.10504342032278328, 0.10504342032278328, 0.12151813959171202, 0.12151813959171202, 0.12151813959171202, 0.12151813959171202, 0.6075906979585601, 0.25685240758782024, 0.12842620379391012, 0.5137048151756405, 0.3422271945028064, 0.36235820594414797, 0.10065505720670778, 0.16104809153073243, 0.020131011441341554, 0.020131011441341554, 0.1543749883838915, 0.1543749883838915, 0.1543749883838915, 0.617499953535566, 0.656261710295694, 0.0951103927964774, 0.16168766775401155, 0.00951103927964774, 0.057066235677886434, 0.01902207855929548, 0.1673477098198916, 0.5950140793596146, 0.03718837995997591, 0.1673477098198916, 0.018594189979987956, 0.018594189979987956, 0.11756568339995398, 0.11756568339995398, 0.5878284169997698, 0.11756568339995398, 0.11756568339995398, 0.11756568339995398, 0.2669490736995689, 0.37817785440772256, 0.06673726842489222, 0.22245756141630738, 0.022245756141630737, 0.044491512283261474, 0.323805838683755, 0.23859377587224054, 0.2726786009968463, 0.08521206281151447, 0.06816965024921158, 0.017042412562302895, 0.5679578927643667, 0.14457109997638426, 0.12391808569404365, 0.09293856427053274, 0.06195904284702183, 0.02065301428234061, 0.3181219227915476, 0.357887163140491, 0.05964786052341517, 0.05964786052341517, 0.019882620174471725, 0.1789435815702455, 0.3133636603143191, 0.22790084386495935, 0.1424380274155996, 0.19941323838183944, 0.08546281644935975, 0.028487605483119918, 0.12144430509435078, 0.6072215254717539, 0.12144430509435078, 0.12144430509435078, 0.12144430509435078, 0.14799773898035218, 0.0493325796601174, 0.14799773898035218, 0.0493325796601174, 0.6413235355815261, 0.1711354863300341, 0.1711354863300341, 0.1711354863300341, 0.1711354863300341, 0.5134064589901023, 0.10304799097337262, 0.10304799097337262, 0.10304799097337262, 0.7213359368136083, 0.10304799097337262, 0.15540401108196195, 0.15540401108196195, 0.15540401108196195, 0.46621203324588584, 0.15540401108196195, 0.15540401108196195, 0.09909860318484691, 0.7135099429308978, 0.07927888254787753, 0.039639441273938765, 0.019819720636969382, 0.039639441273938765, 0.612790313376414, 0.16980936394768098, 0.12551126900480766, 0.05906412659049773, 0.022149047471436648, 0.014766031647624432, 0.8865806394078429, 0.020149559986541884, 0.04029911997308377, 0.020149559986541884, 0.020149559986541884, 0.020149559986541884, 0.34256155309579606, 0.4567487374610614, 0.02854679609131634, 0.08564038827394901, 0.05709359218263268, 0.02854679609131634, 0.13309078809082378, 0.720908435491962, 0.07763629305298053, 0.033272697022705945, 0.011090899007568648, 0.033272697022705945, 0.38915858054870706, 0.24322411284294193, 0.02432241128429419, 0.04864482256858838, 0.2675465241272361, 0.02432241128429419, 0.11756771899099787, 0.11756771899099787, 0.4702708759639915, 0.11756771899099787, 0.11756771899099787, 0.11756771899099787, 0.4625949858637828, 0.165212494951351, 0.1982549939416212, 0.0660849979805404, 0.07709916431063046, 0.0330424989902702, 0.8252762320985334, 0.05731084945128704, 0.011462169890257409, 0.022924339780514818, 0.011462169890257409, 0.06877301934154445, 0.3981275323939726, 0.2256056016899178, 0.06635458873232877, 0.09289642422526027, 0.15925101295758903, 0.053083670985863016, 0.11916396560326535, 0.6355411498840818, 0.07944264373551023, 0.07944264373551023, 0.039721321867755115, 0.039721321867755115, 0.20952677772584943, 0.10476338886292472, 0.10476338886292472, 0.10476338886292472, 0.5238169443146236, 0.12276194380115722, 0.12276194380115722, 0.12276194380115722, 0.12276194380115722, 0.4910477752046289, 0.10989307048131042, 0.24725940858294843, 0.21978614096262084, 0.137366338101638, 0.24725940858294843, 0.027473267620327604, 0.14369666060340516, 0.14369666060340516, 0.5747866424136207, 0.14369666060340516, 0.09863525494444511, 0.09863525494444511, 0.09863525494444511, 0.29590576483333536, 0.4931762747222256, 0.15698761628924185, 0.15698761628924185, 0.15698761628924185, 0.15698761628924185, 0.47096284886772555, 0.20567794183632845, 0.06855931394544282, 0.06855931394544282, 0.4113558836726569, 0.06855931394544282, 0.13711862789088564, 0.15513810014386836, 0.15513810014386836, 0.15513810014386836, 0.6205524005754735, 0.06616831726713455, 0.06616831726713455, 0.7940198072056147, 0.06616831726713455, 0.06616831726713455, 0.39476305869965594, 0.23685783521979356, 0.0676736672056553, 0.10151050080848295, 0.05639472267137942, 0.1353473344113106, 0.32135809926486225, 0.08764311798132607, 0.3797868445857463, 0.029214372660442023, 0.08764311798132607, 0.08764311798132607, 0.15609185484483093, 0.15609185484483093, 0.6243674193793237, 0.10629453226797618, 0.10629453226797618, 0.10629453226797618, 0.10629453226797618, 0.10629453226797618, 0.5314726613398809, 0.29237260302342893, 0.26988240279085746, 0.11245100116285728, 0.2024118020931431, 0.0787157008140001, 0.022490200232571457, 0.22621046091002642, 0.056552615227506604, 0.056552615227506604, 0.056552615227506604, 0.16965784568251982, 0.39586830659254624, 0.27771031078665454, 0.2005685577903616, 0.015428350599258584, 0.12342680479406867, 0.12342680479406867, 0.2622819601873959, 0.11024816169295219, 0.11024816169295219, 0.11024816169295219, 0.11024816169295219, 0.6614889701577131, 0.1823154933014215, 0.1823154933014215, 0.1823154933014215, 0.1823154933014215, 0.5469464799042645, 0.18254693256246984, 0.18254693256246984, 0.18254693256246984, 0.18254693256246984, 0.5476407976874095, 0.14385518462047733, 0.14385518462047733, 0.5754207384819093, 0.14385518462047733, 0.14385518462047733, 0.1546959878802032, 0.1546959878802032, 0.1546959878802032, 0.6187839515208128, 0.22405504076123714, 0.11202752038061857, 0.11202752038061857, 0.11202752038061857, 0.11202752038061857, 0.4481100815224743, 0.15438101665099166, 0.15438101665099166, 0.15438101665099166, 0.6175240666039666, 0.29597038402984266, 0.07399259600746066, 0.07399259600746066, 0.5179481720522247, 0.07399259600746066, 0.8482415702360467, 0.07952264720962939, 0.02650754906987646, 0.02650754906987646, 0.02650754906987646, 0.02650754906987646, 0.19363848009371862, 0.5809154402811559, 0.048409620023429654, 0.09681924004685931, 0.048409620023429654, 0.048409620023429654, 0.6480798530890977, 0.08546107952823266, 0.14243513254705442, 0.05697405301882177, 0.04273053976411633, 0.014243513254705442, 0.6209563117777451, 0.059707337670937034, 0.059707337670937034, 0.13135614287606148, 0.08359027273931185, 0.023882935068374814, 0.45725017391965933, 0.11177226473591673, 0.09145003478393186, 0.08128891980793944, 0.13209449468790158, 0.12193337971190915, 0.17163063597191192, 0.057210211990637305, 0.11442042398127461, 0.6293123318970103, 0.057210211990637305, 0.057210211990637305], \"Term\": [\"academic\", \"academic\", \"academic\", \"academic\", \"academic\", \"academic\", \"access\", \"access\", \"access\", \"access\", \"access\", \"access\", \"access_control\", \"access_control\", \"access_control\", \"access_control\", \"access_control\", \"access_control\", \"accommodation\", \"accommodation\", \"accommodation\", \"accommodation\", \"accommodation\", \"accommodation\", \"account\", \"account\", \"account\", \"account\", \"account\", \"account\", \"active\", \"active\", \"active\", \"active\", \"active\", \"active\", \"adoption\", \"adoption\", \"adoption\", \"adoption\", \"adoption\", \"adult\", \"adult\", \"adult\", \"adult\", \"adult\", \"adult\", \"adult_social\", \"adult_social\", \"adult_social\", \"adult_social\", \"age\", \"age\", \"age\", \"age\", \"age\", \"age\", \"aged\", \"aged\", \"aged\", \"aged\", \"aged\", \"aged\", \"agency\", \"agency\", \"agency\", \"agency\", \"agency\", \"agency\", \"allocated\", \"allocated\", \"allocated\", \"allocated\", \"allocated\", \"allocated\", \"allowance\", \"allowance\", \"allowance\", \"allowance\", \"allowance\", \"allowance\", \"alternative_provision\", \"alternative_provision\", \"alternative_provision\", \"alternative_provision\", \"alternative_provision\", \"amount\", \"amount\", \"amount\", \"amount\", \"amount\", \"amount\", \"animal_welfare\", \"animal_welfare\", \"animal_welfare\", \"animal_welfare\", \"animal_welfare\", \"annual\", \"annual\", \"annual\", \"annual\", \"annual\", \"annual\", \"ant\", \"ant\", \"ant\", \"appeal\", \"appeal\", \"appeal\", \"appeal\", \"appeal\", \"appeal\", \"appliance\", \"appliance\", \"appliance\", \"appliance\", \"appliance\", \"appliance\", \"applicant\", \"applicant\", \"applicant\", \"applicant\", \"applicant\", \"applicant\", \"application\", \"application\", \"application\", \"application\", \"application\", \"application\", \"area\", \"area\", \"area\", \"area\", \"area\", \"area\", \"armed\", \"armed\", \"armed\", \"armed\", \"armed\", \"assessment\", \"assessment\", \"assessment\", \"assessment\", \"assessment\", \"assessment\", \"asset\", \"asset\", \"asset\", \"asset\", \"asset\", \"asset\", \"available\", \"available\", \"available\", \"available\", \"available\", \"available\", \"awareness\", \"awareness\", \"awareness\", \"awareness\", \"awareness\", \"band\", \"band\", \"band\", \"band\", \"band\", \"band\", \"beam\", \"beam\", \"beam\", \"beam\", \"beam\", \"beg\", \"beg\", \"beg\", \"beg\", \"beg\", \"beg\", \"big\", \"big\", \"big\", \"big\", \"big\", \"billing_reference\", \"billing_reference\", \"billing_reference\", \"boarding\", \"boarding\", \"boarding\", \"boarding\", \"boarding\", \"boundary\", \"boundary\", \"boundary\", \"boundary\", \"boundary\", \"boundary\", \"box_junction\", \"box_junction\", \"box_junction\", \"box_junction\", \"branch\", \"branch\", \"branch\", \"branch\", \"branch\", \"branch\", \"breakdown\", \"breakdown\", \"breakdown\", \"breakdown\", \"breakdown\", \"breakdown\", \"breeder\", \"breeder\", \"breeder\", \"breeder\", \"breeder\", \"bridge\", \"bridge\", \"bridge\", \"bridge\", \"bridge\", \"bridge\", \"budget\", \"budget\", \"budget\", \"budget\", \"budget\", \"budget\", \"building\", \"building\", \"building\", \"building\", \"building\", \"building\", \"building_wood\", \"building_wood\", \"building_wood\", \"bulky\", \"bulky\", \"bulky\", \"bulky\", \"bulky\", \"bulky\", \"burial\", \"burial\", \"burial\", \"burial\", \"burial\", \"bus_stop\", \"bus_stop\", \"bus_stop\", \"bus_stop\", \"bus_stop\", \"business\", \"business\", \"business\", \"business\", \"business\", \"business\", \"business_rate\", \"business_rate\", \"business_rate\", \"business_rate\", \"business_rate\", \"calendar\", \"calendar\", \"calendar\", \"calendar\", \"calendar\", \"calendar\", \"camera\", \"camera\", \"camera\", \"camera\", \"camera\", \"camera\", \"campus\", \"campus\", \"campus\", \"campus\", \"capital\", \"capital\", \"capital\", \"capital\", \"capital\", \"capital\", \"care\", \"care\", \"care\", \"care\", \"care\", \"care\", \"care_leaver\", \"care_leaver\", \"care_leaver\", \"care_leaver\", \"care_leaver\", \"carpet_textile_flooring_material\", \"carpet_textile_flooring_material\", \"carpet_textile_flooring_material\", \"carpet_textile_flooring_material\", \"carpet_textile_flooring_material\", \"carpet_textile_flooring_material\", \"case\", \"case\", \"case\", \"case\", \"case\", \"case\", \"cctv_camera\", \"cctv_camera\", \"cctv_camera\", \"cctv_camera\", \"cctv_camera\", \"charging\", \"charging\", \"charging\", \"charging\", \"charging\", \"child\", \"child\", \"child\", \"child\", \"child\", \"child\", \"claim\", \"claim\", \"claim\", \"claim\", \"claim\", \"claim\", \"claimed\", \"claimed\", \"claimed\", \"claimed\", \"claimed\", \"climate_action\", \"climate_action\", \"climate_action\", \"climate_action\", \"cloud\", \"cloud\", \"cloud\", \"cloud\", \"cloud\", \"commitment\", \"commitment\", \"commitment\", \"commitment\", \"commitment\", \"commitment\", \"company\", \"company\", \"company\", \"company\", \"company\", \"company\", \"complaint\", \"complaint\", \"complaint\", \"complaint\", \"complaint\", \"complaint\", \"compliance_activity\", \"compliance_activity\", \"compliance_activity\", \"compliance_activity\", \"compliance_activity\", \"concrete_burial_chamber_installed\", \"concrete_burial_chamber_installed\", \"concrete_burial_chamber_installed\", \"concrete_burial_chamber_installed\", \"concrete_burial_chamber_installed\", \"contract\", \"contract\", \"contract\", \"contract\", \"contract\", \"contract\", \"cost\", \"cost\", \"cost\", \"cost\", \"cost\", \"cost\", \"course\", \"course\", \"course\", \"course\", \"course\", \"course\", \"credit\", \"credit\", \"credit\", \"credit\", \"credit\", \"credit\", \"current\", \"current\", \"current\", \"current\", \"current\", \"current\", \"currently\", \"currently\", \"currently\", \"currently\", \"currently\", \"currently\", \"cut\", \"cut\", \"cut\", \"deaf\", \"deaf\", \"deaf\", \"deaf\", \"decision\", \"decision\", \"decision\", \"decision\", \"decision\", \"decision\", \"design\", \"design\", \"design\", \"design\", \"design\", \"development\", \"development\", \"development\", \"development\", \"development\", \"development\", \"device\", \"device\", \"device\", \"device\", \"director\", \"director\", \"director\", \"director\", \"director\", \"disclosure\", \"disclosure\", \"disclosure\", \"disclosure\", \"disclosure\", \"disclosure\", \"discrimination\", \"discrimination\", \"discrimination\", \"discrimination\", \"discrimination\", \"dismissal\", \"dismissal\", \"dismissal\", \"dispersal\", \"dispersal\", \"dispersal\", \"dispersal\", \"dispersal\", \"dispersal\", \"disposable\", \"disposable\", \"disposable\", \"disposable\", \"disposable\", \"diversity_champion\", \"diversity_champion\", \"diversity_champion\", \"diversity_champion\", \"diversity_champion\", \"dog\", \"dog\", \"dog\", \"dog\", \"dog\", \"dog_breeding\", \"dog_breeding\", \"dog_breeding\", \"dog_breeding\", \"dog_breeding\", \"domiciliary_care\", \"domiciliary_care\", \"domiciliary_care\", \"domiciliary_care\", \"domiciliary_care\", \"drug_alcohol_substance_misuse\", \"drug_alcohol_substance_misuse\", \"drug_alcohol_substance_misuse\", \"duration_extension\", \"duration_extension\", \"duration_extension\", \"duration_extension\", \"duration_extension\", \"east_office_scale_space\", \"east_office_scale_space\", \"east_office_scale_space\", \"education\", \"education\", \"education\", \"education\", \"education\", \"education\", \"elected\", \"elected\", \"elected\", \"elected\", \"elected\", \"employee\", \"employee\", \"employee\", \"employee\", \"employee\", \"employee\", \"empty\", \"empty\", \"empty\", \"empty\", \"empty\", \"empty\", \"enrolled\", \"enrolled\", \"enrolled\", \"enrolled\", \"enrolled\", \"equity\", \"equity\", \"equity\", \"equity\", \"equity\", \"era\", \"era\", \"era\", \"era\", \"era\", \"establishment\", \"establishment\", \"establishment\", \"establishment\", \"establishment\", \"estimate_financial_saving\", \"estimate_financial_saving\", \"estimate_financial_saving\", \"estimate_financial_saving\", \"estimate_financial_saving\", \"event\", \"event\", \"event\", \"event\", \"event\", \"event\", \"exemption_applied\", \"exemption_applied\", \"exemption_applied\", \"exemption_applied\", \"exemption_applied\", \"expiry\", \"expiry\", \"expiry\", \"expiry\", \"expiry\", \"exploitation\", \"exploitation\", \"exploitation\", \"exploitation\", \"exploitation\", \"fee\", \"fee\", \"fee\", \"fee\", \"fee\", \"fee\", \"financial\", \"financial\", \"financial\", \"financial\", \"financial\", \"financial\", \"fine\", \"fine\", \"fine\", \"fine\", \"fine\", \"fine\", \"flooring\", \"flooring\", \"flooring\", \"fly_tipping\", \"fly_tipping\", \"fly_tipping\", \"fly_tipping\", \"fly_tipping\", \"foreign_language\", \"foreign_language\", \"foreign_language\", \"foreign_language\", \"framework\", \"framework\", \"framework\", \"framework\", \"framework\", \"framework\", \"fraudulent\", \"fraudulent\", \"fraudulent\", \"fraudulent\", \"fraudulent\", \"full\", \"full\", \"full\", \"full\", \"full\", \"full\", \"fund\", \"fund\", \"fund\", \"fund\", \"fund\", \"fund\", \"funded\", \"funded\", \"funded\", \"funded\", \"funded\", \"funded\", \"gender\", \"gender\", \"gender\", \"gender\", \"gender\", \"gender\", \"get\", \"get\", \"get\", \"get\", \"get\", \"get\", \"granted_applied\", \"granted_applied\", \"granted_applied\", \"granted_applied\", \"granted_applied\", \"green\", \"green\", \"green\", \"green\", \"green\", \"green\", \"gross_expenditure\", \"gross_expenditure\", \"gross_expenditure\", \"gross_expenditure\", \"gross_expenditure\", \"hangar\", \"hangar\", \"hangar\", \"hardware\", \"hardware\", \"hardware\", \"hardware\", \"hardware\", \"hardware\", \"health\", \"health\", \"health\", \"health\", \"health\", \"health\", \"hip\", \"hip\", \"hip\", \"hip\", \"hip\", \"home\", \"home\", \"home\", \"home\", \"home\", \"home\", \"homeless\", \"homeless\", \"homeless\", \"homeless\", \"homeless\", \"homeless\", \"homelessness\", \"homelessness\", \"homelessness\", \"homelessness\", \"homelessness\", \"homelessness\", \"hosting\", \"hosting\", \"hosting\", \"hosting\", \"hosting\", \"hosting\", \"hotel\", \"hotel\", \"hotel\", \"hotel\", \"hotel\", \"hotel\", \"hour_hour_hour_hour\", \"hour_hour_hour_hour\", \"hour_hour_hour_hour\", \"hour_hour_hour_hour\", \"household\", \"household\", \"household\", \"household\", \"household\", \"household\", \"housing\", \"housing\", \"housing\", \"housing\", \"housing\", \"housing\", \"hush\", \"hush\", \"hush\", \"hush\", \"illicit_noncompliant\", \"illicit_noncompliant\", \"illicit_noncompliant\", \"illicit_noncompliant\", \"illicit_noncompliant\", \"impairment\", \"impairment\", \"impairment\", \"impairment\", \"imperial\", \"imperial\", \"imperial\", \"imperial\", \"imperial\", \"include\", \"include\", \"include\", \"include\", \"include\", \"include\", \"individual\", \"individual\", \"individual\", \"individual\", \"individual\", \"individual\", \"individual_entity\", \"individual_entity\", \"individual_entity\", \"individual_entity\", \"individual_entity\", \"infestation\", \"infestation\", \"infestation\", \"infestation\", \"inhaling\", \"inhaling\", \"inhaling\", \"intermediate\", \"intermediate\", \"intermediate\", \"intermediate\", \"interruption\", \"interruption\", \"interruption\", \"interruption\", \"interruption\", \"investment\", \"investment\", \"investment\", \"investment\", \"investment\", \"investment\", \"invoice\", \"invoice\", \"invoice\", \"invoice\", \"invoice\", \"invoice\", \"involve\", \"involve\", \"involve\", \"involve\", \"irr\", \"irr\", \"irr\", \"irr\", \"irr\", \"irr\", \"issued\", \"issued\", \"issued\", \"issued\", \"issued\", \"issued\", \"job\", \"job\", \"job\", \"job\", \"job\", \"known\", \"known\", \"known\", \"known\", \"known\", \"known\", \"legal_proceeding\", \"legal_proceeding\", \"legal_proceeding\", \"legal_proceeding\", \"legal_proceeding\", \"liable_pay_non_domestic\", \"liable_pay_non_domestic\", \"liable_pay_non_domestic\", \"liable_pay_non_domestic\", \"liable_pay_non_domestic\", \"library\", \"library\", \"library\", \"library\", \"library\", \"library\", \"life\", \"life\", \"life\", \"life\", \"life\", \"life\", \"live\", \"live\", \"live\", \"live\", \"live\", \"live\", \"loan\", \"loan\", \"loan\", \"loan\", \"loan\", \"loan\", \"location\", \"location\", \"location\", \"location\", \"location\", \"location\", \"looked\", \"looked\", \"looked\", \"looked\", \"looked\", \"looked_child\", \"looked_child\", \"looked_child\", \"looked_child\", \"looked_child\", \"looked_child\", \"mainstream\", \"mainstream\", \"mainstream\", \"mainstream\", \"mainstream\", \"maintenance\", \"maintenance\", \"maintenance\", \"maintenance\", \"maintenance\", \"maintenance\", \"management\", \"management\", \"management\", \"management\", \"management\", \"management\", \"management_system\", \"management_system\", \"management_system\", \"management_system\", \"management_system\", \"management_system\", \"mass\", \"mass\", \"mass\", \"mass\", \"mass\", \"member\", \"member\", \"member\", \"member\", \"member\", \"member\", \"men\", \"men\", \"men\", \"men\", \"month\", \"month\", \"month\", \"month\", \"month\", \"month\", \"month_stage\", \"month_stage\", \"month_stage\", \"month_stage\", \"month_stage\", \"musical_instrument\", \"musical_instrument\", \"musical_instrument\", \"musical_instrument\", \"musical_instrument\", \"need\", \"need\", \"need\", \"need\", \"need\", \"need\", \"net\", \"net\", \"net\", \"net\", \"net\", \"net\", \"new\", \"new\", \"new\", \"new\", \"new\", \"new\", \"nicotine\", \"nicotine\", \"nicotine\", \"note\", \"note\", \"note\", \"note\", \"note\", \"note\", \"notice_served\", \"notice_served\", \"notice_served\", \"nursing\", \"nursing\", \"nursing\", \"nursing\", \"nursing\", \"occupied\", \"occupied\", \"occupied\", \"occupied\", \"occupied\", \"occupied\", \"office\", \"office\", \"office\", \"office\", \"office\", \"office\", \"office_flr\", \"office_flr\", \"office_flr\", \"officer\", \"officer\", \"officer\", \"officer\", \"officer\", \"officer\", \"old\", \"old\", \"old\", \"old\", \"old\", \"old\", \"old_purchased_grab\", \"old_purchased_grab\", \"old_purchased_grab\", \"old_purchased_grab\", \"old_purchased_grab\", \"older_person\", \"older_person\", \"older_person\", \"older_person\", \"older_person\", \"option\", \"option\", \"option\", \"option\", \"option\", \"option\", \"organization\", \"organization\", \"organization\", \"organization\", \"organization\", \"organization\", \"outdoor_power_equipment\", \"outdoor_power_equipment\", \"outdoor_power_equipment\", \"outdoor_power_equipment\", \"overseas\", \"overseas\", \"overseas\", \"overseas\", \"overseas\", \"owned\", \"owned\", \"owned\", \"owned\", \"owned\", \"owned\", \"parenting\", \"parenting\", \"parenting\", \"parenting\", \"parenting\", \"park\", \"park\", \"park\", \"park\", \"park\", \"parking\", \"parking\", \"parking\", \"parking\", \"parking\", \"parking\", \"part\", \"part\", \"part\", \"part\", \"part\", \"part\", \"partnership_trust\", \"partnership_trust\", \"partnership_trust\", \"partnership_trust\", \"partnership_trust\", \"payroll\", \"payroll\", \"payroll\", \"payroll\", \"payroll\", \"penalty_charge_issued\", \"penalty_charge_issued\", \"penalty_charge_issued\", \"penalty_charge_issued\", \"people\", \"people\", \"people\", \"people\", \"people\", \"people\", \"person\", \"person\", \"person\", \"person\", \"person\", \"person\", \"personal\", \"personal\", \"personal\", \"personal\", \"personal\", \"personal\", \"pest_control\", \"pest_control\", \"pest_control\", \"pest_control\", \"placement\", \"placement\", \"placement\", \"placement\", \"placement\", \"placement\", \"placing\", \"placing\", \"placing\", \"placing\", \"plan\", \"plan\", \"plan\", \"plan\", \"plan\", \"plan\", \"pool\", \"pool\", \"pool\", \"pool\", \"pool\", \"pool\", \"possible\", \"possible\", \"possible\", \"possible\", \"possible\", \"possible\", \"presently\", \"presently\", \"presently\", \"presently\", \"priority_need\", \"priority_need\", \"priority_need\", \"priority_need\", \"priority_need\", \"private_debt\", \"private_debt\", \"private_debt\", \"private_debt\", \"private_debt\", \"private_debt\", \"process\", \"process\", \"process\", \"process\", \"process\", \"process\", \"procurement\", \"procurement\", \"procurement\", \"procurement\", \"procurement\", \"procurement\", \"programmed\", \"programmed\", \"programmed\", \"programmed\", \"programmed\", \"programmed\", \"project\", \"project\", \"project\", \"project\", \"project\", \"project\", \"property\", \"property\", \"property\", \"property\", \"property\", \"property\", \"provided\", \"provided\", \"provided\", \"provided\", \"provided\", \"provided\", \"provider\", \"provider\", \"provider\", \"provider\", \"provider\", \"provider\", \"provision\", \"provision\", \"provision\", \"provision\", \"provision\", \"provision\", \"public\", \"public\", \"public\", \"public\", \"public\", \"public\", \"pupil\", \"pupil\", \"pupil\", \"pupil\", \"pupil\", \"pupil\", \"purpose\", \"purpose\", \"purpose\", \"purpose\", \"purpose\", \"purpose\", \"rabbit\", \"rabbit\", \"rabbit\", \"rabbit\", \"rabbit\", \"ransom\", \"ransom\", \"ransom\", \"ransom\", \"rate\", \"rate\", \"rate\", \"rate\", \"rate\", \"rate\", \"rateable_value\", \"rateable_value\", \"rateable_value\", \"rateable_value\", \"rateable_value\", \"ratepayer\", \"ratepayer\", \"ratepayer\", \"ratepayer\", \"ratepayer\", \"ratepayer\", \"real_estate\", \"real_estate\", \"real_estate\", \"real_estate\", \"real_estate\", \"real_estate\", \"received\", \"received\", \"received\", \"received\", \"received\", \"received\", \"record\", \"record\", \"record\", \"record\", \"record\", \"record\", \"reference\", \"reference\", \"reference\", \"reference\", \"reference\", \"reference\", \"referred\", \"referred\", \"referred\", \"referred\", \"referred\", \"referred\", \"register\", \"register\", \"register\", \"register\", \"register\", \"register\", \"relief\", \"relief\", \"relief\", \"relief\", \"relief\", \"relief\", \"relief_applied\", \"relief_applied\", \"relief_applied\", \"relief_applied\", \"relief_applied\", \"relief_applied\", \"relief_exemption\", \"relief_exemption\", \"relief_exemption\", \"relief_exemption\", \"relief_exemption\", \"relief_exemption\", \"relief_exemption_category\", \"relief_exemption_category\", \"relief_exemption_category\", \"relief_exemption_category\", \"relief_exemption_category\", \"renewal_expiry_recently_reviewed\", \"renewal_expiry_recently_reviewed\", \"renewal_expiry_recently_reviewed\", \"renewal_expiry_recently_reviewed\", \"rent\", \"rent\", \"rent\", \"rent\", \"rent\", \"rent\", \"resident\", \"resident\", \"resident\", \"resident\", \"resident\", \"resident\", \"residential\", \"residential\", \"residential\", \"residential\", \"residential\", \"residential\", \"respect_site\", \"respect_site\", \"respect_site\", \"respect_site\", \"respect_site\", \"response\", \"response\", \"response\", \"response\", \"response\", \"response\", \"responsible\", \"responsible\", \"responsible\", \"responsible\", \"responsible\", \"responsible\", \"retailer\", \"retailer\", \"retailer\", \"retailer\", \"retailer\", \"road\", \"road\", \"road\", \"road\", \"road\", \"road\", \"safeguarding\", \"safeguarding\", \"safeguarding\", \"safeguarding\", \"safeguarding\", \"salary\", \"salary\", \"salary\", \"salary\", \"salary\", \"school\", \"school\", \"school\", \"school\", \"school\", \"school\", \"section\", \"section\", \"section\", \"section\", \"section\", \"section\", \"selective\", \"selective\", \"selective\", \"selective\", \"selective\", \"selective\", \"semi_independent\", \"semi_independent\", \"semi_independent\", \"semi_independent\", \"semi_independent\", \"semi_independent\", \"shed\", \"shed\", \"shed\", \"shed\", \"shed\", \"shelter_pound\", \"shelter_pound\", \"shelter_pound\", \"shelter_pound\", \"shelter_pound\", \"sibling\", \"sibling\", \"sibling\", \"sibling\", \"sibling\", \"sign_language\", \"sign_language\", \"sign_language\", \"site\", \"site\", \"site\", \"site\", \"site\", \"site\", \"slimming_world\", \"slimming_world\", \"slimming_world\", \"slimming_world\", \"social\", \"social\", \"social\", \"social\", \"social\", \"social\", \"software\", \"software\", \"software\", \"software\", \"software\", \"software\", \"solar\", \"solar\", \"solar\", \"solar\", \"solar\", \"solar\", \"space\", \"space\", \"space\", \"space\", \"space\", \"space\", \"spend\", \"spend\", \"spend\", \"spend\", \"spend\", \"spend\", \"staff\", \"staff\", \"staff\", \"staff\", \"staff\", \"staff\", \"start\", \"start\", \"start\", \"start\", \"start\", \"start\", \"state\", \"state\", \"state\", \"state\", \"state\", \"state\", \"statutory_nuisance\", \"statutory_nuisance\", \"statutory_nuisance\", \"statutory_nuisance\", \"statutory_nuisance\", \"student\", \"student\", \"student\", \"student\", \"student\", \"style\", \"style\", \"style\", \"style\", \"style\", \"subject_access_received_responded\", \"subject_access_received_responded\", \"subject_access_received_responded\", \"subject_access_received_responded\", \"subject_access_received_responded\", \"suicide\", \"suicide\", \"suicide\", \"suicide\", \"suicide\", \"suicide\", \"supplier\", \"supplier\", \"supplier\", \"supplier\", \"supplier\", \"supplier\", \"support\", \"support\", \"support\", \"support\", \"support\", \"support\", \"supported_living\", \"supported_living\", \"supported_living\", \"supported_living\", \"supported_living\", \"supported_living\", \"survey\", \"survey\", \"survey\", \"survey\", \"survey\", \"survey\", \"system\", \"system\", \"system\", \"system\", \"system\", \"system\", \"tax\", \"tax\", \"tax\", \"tax\", \"tax\", \"tax\", \"taxi\", \"taxi\", \"taxi\", \"taxi\", \"taxi\", \"taxi\", \"team\", \"team\", \"team\", \"team\", \"team\", \"team\", \"temporary_accommodation\", \"temporary_accommodation\", \"temporary_accommodation\", \"temporary_accommodation\", \"temporary_accommodation\", \"temporary_accommodation\", \"thanks\", \"thanks\", \"thanks\", \"thanks\", \"thanks\", \"thanks\", \"tool\", \"tool\", \"tool\", \"tool\", \"tool\", \"tool\", \"trading_standard\", \"trading_standard\", \"trading_standard\", \"trading_standard\", \"trading_standard\", \"trading_standard_officer\", \"trading_standard_officer\", \"trading_standard_officer\", \"trading_standard_officer\", \"trading_standard_officer\", \"traffic\", \"traffic\", \"traffic\", \"traffic\", \"traffic\", \"traffic\", \"tree_planting\", \"tree_planting\", \"tree_planting\", \"tree_planting\", \"tribunal\", \"tribunal\", \"tribunal\", \"tribunal\", \"tribunal\", \"triple\", \"triple\", \"triple\", \"triple\", \"triple\", \"trust\", \"trust\", \"trust\", \"trust\", \"trust\", \"trust\", \"turned_away\", \"turned_away\", \"turned_away\", \"turned_away\", \"tutoring\", \"tutoring\", \"tutoring\", \"tutoring\", \"tutoring\", \"type\", \"type\", \"type\", \"type\", \"type\", \"type\", \"unit\", \"unit\", \"unit\", \"unit\", \"unit\", \"unit\", \"unit_westmoreland\", \"unit_westmoreland\", \"unit_westmoreland\", \"unoccupied\", \"unoccupied\", \"unoccupied\", \"unoccupied\", \"unoccupied\", \"unoccupied\", \"used\", \"used\", \"used\", \"used\", \"used\", \"used\", \"vacant\", \"vacant\", \"vacant\", \"vacant\", \"vacant\", \"vacant\", \"value\", \"value\", \"value\", \"value\", \"value\", \"value\", \"vape\", \"vape\", \"vape\", \"vape\", \"vape\", \"venture_capital\", \"venture_capital\", \"venture_capital\", \"venture_capital\", \"venture_capital\", \"vintage\", \"vintage\", \"vintage\", \"vintage\", \"vintage\", \"vital_regeneration\", \"vital_regeneration\", \"vital_regeneration\", \"vital_regeneration\", \"vital_regeneration\", \"voice_risk_analysis\", \"voice_risk_analysis\", \"voice_risk_analysis\", \"voice_risk_analysis\", \"void\", \"void\", \"void\", \"void\", \"void\", \"void\", \"watcher\", \"watcher\", \"watcher\", \"watcher\", \"weight\", \"weight\", \"weight\", \"weight\", \"weight\", \"welfare\", \"welfare\", \"welfare\", \"welfare\", \"welfare\", \"welfare\", \"window\", \"window\", \"window\", \"window\", \"window\", \"window\", \"work\", \"work\", \"work\", \"work\", \"work\", \"work\", \"working\", \"working\", \"working\", \"working\", \"working\", \"working\", \"writing\", \"writing\", \"writing\", \"writing\", \"writing\", \"writing\", \"youth\", \"youth\", \"youth\", \"youth\", \"youth\", \"youth\"]}, \"R\": 30, \"lambda.step\": 0.01, \"plot.opts\": {\"xlab\": \"PC1\", \"ylab\": \"PC2\"}, \"topic.order\": [4, 6, 1, 3, 5, 2]};\n",
       "\n",
       "function LDAvis_load_lib(url, callback){\n",
       "  var s = document.createElement('script');\n",
       "  s.src = url;\n",
       "  s.async = true;\n",
       "  s.onreadystatechange = s.onload = callback;\n",
       "  s.onerror = function(){console.warn(\"failed to load library \" + url);};\n",
       "  document.getElementsByTagName(\"head\")[0].appendChild(s);\n",
       "}\n",
       "\n",
       "if(typeof(LDAvis) !== \"undefined\"){\n",
       "   // already loaded: just create the visualization\n",
       "   !function(LDAvis){\n",
       "       new LDAvis(\"#\" + \"ldavis_el3404818166017214247641469919\", ldavis_el3404818166017214247641469919_data);\n",
       "   }(LDAvis);\n",
       "}else if(typeof define === \"function\" && define.amd){\n",
       "   // require.js is available: use it to load d3/LDAvis\n",
       "   require.config({paths: {d3: \"https://d3js.org/d3.v5\"}});\n",
       "   require([\"d3\"], function(d3){\n",
       "      window.d3 = d3;\n",
       "      LDAvis_load_lib(\"https://cdn.jsdelivr.net/gh/bmabey/pyLDAvis@3.4.0/pyLDAvis/js/ldavis.v3.0.0.js\", function(){\n",
       "        new LDAvis(\"#\" + \"ldavis_el3404818166017214247641469919\", ldavis_el3404818166017214247641469919_data);\n",
       "      });\n",
       "    });\n",
       "}else{\n",
       "    // require.js not available: dynamically load d3 & LDAvis\n",
       "    LDAvis_load_lib(\"https://d3js.org/d3.v5.js\", function(){\n",
       "         LDAvis_load_lib(\"https://cdn.jsdelivr.net/gh/bmabey/pyLDAvis@3.4.0/pyLDAvis/js/ldavis.v3.0.0.js\", function(){\n",
       "                 new LDAvis(\"#\" + \"ldavis_el3404818166017214247641469919\", ldavis_el3404818166017214247641469919_data);\n",
       "            })\n",
       "         });\n",
       "}\n",
       "</script>"
      ],
      "text/plain": [
       "PreparedData(topic_coordinates=              x         y  topics  cluster       Freq\n",
       "topic                                                \n",
       "3      0.063599 -0.010010       1        1  36.418688\n",
       "5     -0.001962  0.067715       2        1  17.462923\n",
       "0      0.029713 -0.015203       3        1  12.659116\n",
       "2     -0.031875  0.003332       4        1  12.532629\n",
       "4     -0.014223 -0.024064       5        1  11.981696\n",
       "1     -0.045252 -0.021770       6        1   8.944947, topic_info=          Term        Freq       Total Category  logprob  loglift\n",
       "409   contract  234.000000  234.000000  Default  30.0000  30.0000\n",
       "502   property  203.000000  203.000000  Default  29.0000  29.0000\n",
       "309      child  330.000000  330.000000  Default  28.0000  28.0000\n",
       "599  placement   84.000000   84.000000  Default  27.0000  27.0000\n",
       "301     school  198.000000  198.000000  Default  26.0000  26.0000\n",
       "..         ...         ...         ...      ...      ...      ...\n",
       "24     include    8.353642  102.372737   Topic6  -6.2612  -0.0918\n",
       "248  available    8.068600  119.808704   Topic6  -6.2959  -0.2838\n",
       "395      month    7.179096  130.019942   Topic6  -6.4127  -0.4824\n",
       "63         beg    6.832869   65.165397   Topic6  -6.4621   0.1589\n",
       "115       note    6.727756   52.082444   Topic6  -6.4776   0.3675\n",
       "\n",
       "[413 rows x 6 columns], token_table=      Topic      Freq      Term\n",
       "term                           \n",
       "917       1  0.053160  academic\n",
       "917       2  0.053160  academic\n",
       "917       3  0.744243  academic\n",
       "917       4  0.053160  academic\n",
       "917       5  0.053160  academic\n",
       "...     ...       ...       ...\n",
       "2138      2  0.057210     youth\n",
       "2138      3  0.114420     youth\n",
       "2138      4  0.629312     youth\n",
       "2138      5  0.057210     youth\n",
       "2138      6  0.057210     youth\n",
       "\n",
       "[1682 rows x 3 columns], R=30, lambda_step=0.01, plot_opts={'xlab': 'PC1', 'ylab': 'PC2'}, topic_order=[4, 6, 1, 3, 5, 2])"
      ]
     },
     "execution_count": 14,
     "metadata": {},
     "output_type": "execute_result"
    }
   ],
   "source": [
    "# Visualize the topics\n",
    "pyLDAvis.enable_notebook()\n",
    "path = 'C:/Users/jf79/OneDrive - Office Shared Service/Documents/H&F Analysis/FOI Sentiment Analysis/Data'\n",
    "LDAvis_data_filepath = os.path.join(path+str(num_topics))\n",
    "\n",
    "# # this is a bit time consuming - make the if statement True\n",
    "# # if you want to execute visualization prep yourself\n",
    "if 1 == 1:\n",
    "    LDAvis_prepared = gensimvis.prepare(lda_model, corpus, id2words)\n",
    "    with open(LDAvis_data_filepath, 'wb') as f:\n",
    "        pickle.dump(LDAvis_prepared, f)\n",
    "\n",
    "# load the pre-prepared pyLDAvis data from disk\n",
    "with open(LDAvis_data_filepath, 'rb') as f:\n",
    "    LDAvis_prepared = pickle.load(f)\n",
    "\n",
    "pyLDAvis.save_html(LDAvis_prepared,path+str(num_topics)+'.html')\n",
    "\n",
    "LDAvis_prepared"
   ]
  },
  {
   "cell_type": "code",
   "execution_count": 16,
   "metadata": {},
   "outputs": [
    {
     "name": "stdout",
     "output_type": "stream",
     "text": [
      "Successfully exported output_data to CSV\n"
     ]
    }
   ],
   "source": [
    "lambd = 0.2  # A specific relevance metric value\n",
    " \n",
    "all_topics = {}\n",
    "all_topics_with_docs = {}\n",
    "num_topics = lda_model.num_topics\n",
    "num_terms = 30\n",
    "num_docs = 5  # Number of most related documents to retrieve for each topic\n",
    " \n",
    "topic_doc_matrix = lda_model.get_document_topics(corpus, minimum_probability=0)  # Get the topic-document distribution\n",
    "print\n",
    "for i in range(1, num_topics + 1):  # Indices are 1-based, not 0-based\n",
    "    # Extract the term information\n",
    "    topic = LDAvis_prepared.topic_info[LDAvis_prepared.topic_info.Category == 'Topic' + str(i)].copy()\n",
    "    topic['relevance'] = topic['loglift'] * (1 - lambd) + topic['logprob'] * lambd\n",
    "    all_topics['Topic ' + str(i)] = topic.sort_values(by='relevance', ascending=False).Term[:num_terms].values\n",
    " \n",
    "    # Find the most related documents for the topic\n",
    "    topic_index = i - 1  # Convert to 0-based index\n",
    "    doc_relevance = [doc[topic_index][1] for doc in topic_doc_matrix]  # Extract the relevance of documents for this topic\n",
    "    top_doc_indices = sorted(range(len(doc_relevance)), key=lambda x: doc_relevance[x], reverse=True)\n",
    "    sorted_doc_relevance = [doc_relevance[i] for i in top_doc_indices]\n",
    "    \n",
    "    # Retrieve the actual document texts\n",
    "    top_docs_content = [FOI_final['details'][idx] for idx in top_doc_indices]  # Assuming `documents` contains the original texts\n",
    "    all_topics_with_docs['Topic ' + str(i)] = {\n",
    "        'terms': all_topics['Topic ' + str(i)],\n",
    "        'top_docs_indices': top_doc_indices,  # Indice of most relevant doc\n",
    "        'top_doc_relevance': sorted_doc_relevance,  # relevance of doc\n",
    "        # 'top_docs': top_docs_content  # Contents of the most relevant documents\n",
    "    }\n",
    " \n",
    "# Create a DataFrame to display terms and documents for each topic\n",
    "output_data = {\n",
    "    'Topic': [],\n",
    "    'Top Terms': [],\n",
    "    'Top Doc Indices': [],\n",
    "    'Top Doc Relevance': [],\n",
    "    # 'Top Documents': []\n",
    "}\n",
    "\n",
    "for topic, data in all_topics_with_docs.items():\n",
    "    output_data['Topic'].append(topic)\n",
    "    output_data['Top Terms'].append(\", \".join(data['terms']))\n",
    "    output_data['Top Doc Indices'].append(\", \".join(map(str,data['top_docs_indices'])))\n",
    "    output_data['Top Doc Relevance'].append(\", \".join(map(str,data['top_doc_relevance'])))\n",
    "    # output_data['Top Documents'].append(\" || \".join(data['top_docs']))  # Separate documents with '||'\n",
    "\n",
    "output_data = pd.DataFrame(output_data)\n",
    "export_to_csv(output_data)"
   ]
  },
  {
   "cell_type": "code",
   "execution_count": 17,
   "metadata": {},
   "outputs": [
    {
     "data": {
      "application/vnd.plotly.v1+json": {
       "config": {
        "plotlyServerURL": "https://plot.ly"
       },
       "data": [
        {
         "link": {
          "source": [
           15,
           15,
           15,
           15,
           15,
           15,
           15,
           15,
           15,
           15,
           15,
           15,
           15,
           15,
           15,
           15,
           15,
           15,
           15,
           15,
           15,
           15,
           15,
           15,
           15,
           15,
           15,
           15,
           15,
           15,
           15,
           15,
           15,
           15,
           15,
           15,
           18,
           18,
           18,
           18,
           18,
           18,
           18,
           18,
           18,
           18,
           18,
           18,
           18,
           18,
           18,
           18,
           18,
           18,
           18,
           18,
           18,
           18,
           18,
           18,
           18,
           18,
           18,
           18,
           18,
           18,
           18,
           18,
           18,
           18,
           18,
           18,
           18,
           18,
           18,
           18,
           18,
           18,
           4,
           4,
           4,
           4,
           4,
           4,
           4,
           4,
           4,
           4,
           4,
           4,
           4,
           4,
           4,
           4,
           4,
           4,
           4,
           4,
           4,
           4,
           4,
           4,
           4,
           4,
           4,
           4,
           4,
           4,
           4,
           4,
           4,
           4,
           4,
           4,
           4,
           4,
           4,
           4,
           4,
           4,
           14,
           14,
           14,
           14,
           14,
           14,
           14,
           14,
           14,
           14,
           14,
           14,
           14,
           14,
           14,
           14,
           14,
           14,
           14,
           14,
           14,
           14,
           14,
           14,
           14,
           14,
           14,
           14,
           14,
           14,
           14,
           14,
           14,
           14,
           14,
           14,
           14,
           14,
           14,
           14,
           14,
           14,
           10,
           10,
           10,
           10,
           10,
           10,
           10,
           10,
           10,
           10,
           10,
           10,
           10,
           10,
           10,
           10,
           10,
           10,
           10,
           10,
           10,
           10,
           10,
           10,
           10,
           10,
           10,
           10,
           10,
           10,
           22,
           22,
           22,
           22,
           22,
           22,
           22,
           22,
           22,
           22,
           22,
           22,
           22,
           22,
           22,
           22,
           22,
           22,
           5,
           5,
           5,
           5,
           5,
           5,
           5,
           5,
           5,
           5,
           5,
           5,
           5,
           5,
           5,
           5,
           5,
           5,
           5,
           5,
           5,
           5,
           5,
           5,
           5,
           5,
           5,
           5,
           5,
           5,
           5,
           5,
           5,
           5,
           5,
           5,
           5,
           5,
           5,
           5,
           5,
           5,
           5,
           5,
           5,
           5,
           5,
           5,
           3,
           3,
           3,
           3,
           3,
           3,
           3,
           3,
           3,
           3,
           3,
           3,
           3,
           3,
           3,
           3,
           3,
           3,
           3,
           3,
           3,
           3,
           3,
           3,
           3,
           3,
           3,
           3,
           3,
           3,
           3,
           3,
           3,
           3,
           3,
           3,
           19,
           19,
           19,
           19,
           19,
           19,
           19,
           19,
           19,
           19,
           19,
           19,
           19,
           19,
           19,
           19,
           19,
           19,
           19,
           19,
           19,
           19,
           19,
           19,
           20,
           20,
           20,
           20,
           20,
           20,
           9,
           9,
           9,
           9,
           9,
           9,
           21,
           21,
           21,
           21,
           21,
           21,
           1,
           1,
           1,
           1,
           1,
           1,
           17,
           17,
           17,
           17,
           17,
           17,
           0,
           0,
           0,
           0,
           0,
           0,
           20,
           20,
           20,
           20,
           20,
           20,
           20,
           9,
           9,
           9,
           9,
           9,
           9,
           9,
           21,
           21,
           21,
           21,
           21,
           21,
           21,
           1,
           1,
           1,
           1,
           1,
           1,
           1,
           17,
           17,
           17,
           17,
           17,
           17,
           17,
           0,
           0,
           0,
           0,
           0,
           0,
           0,
           20,
           20,
           20,
           20,
           20,
           20,
           20,
           9,
           9,
           9,
           9,
           9,
           9,
           9,
           21,
           21,
           21,
           21,
           21,
           21,
           21,
           1,
           1,
           1,
           1,
           1,
           1,
           1,
           17,
           17,
           17,
           17,
           17,
           17,
           17,
           0,
           0,
           0,
           0,
           0,
           0,
           0,
           20,
           20,
           20,
           20,
           20,
           20,
           20,
           9,
           9,
           9,
           9,
           9,
           9,
           9,
           21,
           21,
           21,
           21,
           21,
           21,
           21,
           1,
           1,
           1,
           1,
           1,
           1,
           1,
           17,
           17,
           17,
           17,
           17,
           17,
           17,
           0,
           0,
           0,
           0,
           0,
           0,
           0,
           20,
           20,
           20,
           20,
           20,
           9,
           9,
           9,
           9,
           9,
           21,
           21,
           21,
           21,
           21,
           1,
           1,
           1,
           1,
           1,
           17,
           17,
           17,
           17,
           17,
           0,
           0,
           0,
           0,
           0,
           20,
           20,
           20,
           9,
           9,
           9,
           21,
           21,
           21,
           1,
           1,
           1,
           17,
           17,
           17,
           0,
           0,
           0,
           20,
           20,
           20,
           20,
           20,
           20,
           20,
           20,
           9,
           9,
           9,
           9,
           9,
           9,
           9,
           9,
           21,
           21,
           21,
           21,
           21,
           21,
           21,
           21,
           1,
           1,
           1,
           1,
           1,
           1,
           1,
           1,
           17,
           17,
           17,
           17,
           17,
           17,
           17,
           17,
           0,
           0,
           0,
           0,
           0,
           0,
           0,
           0,
           20,
           20,
           20,
           20,
           20,
           20,
           9,
           9,
           9,
           9,
           9,
           9,
           21,
           21,
           21,
           21,
           21,
           21,
           1,
           1,
           1,
           1,
           1,
           1,
           17,
           17,
           17,
           17,
           17,
           17,
           0,
           0,
           0,
           0,
           0,
           0,
           20,
           20,
           20,
           20,
           9,
           9,
           9,
           9,
           21,
           21,
           21,
           21,
           1,
           1,
           1,
           1,
           17,
           17,
           17,
           17,
           0,
           0,
           0,
           0
          ],
          "target": [
           20,
           20,
           20,
           20,
           20,
           20,
           9,
           9,
           9,
           9,
           9,
           9,
           21,
           21,
           21,
           21,
           21,
           21,
           1,
           1,
           1,
           1,
           1,
           1,
           17,
           17,
           17,
           17,
           17,
           17,
           0,
           0,
           0,
           0,
           0,
           0,
           20,
           20,
           20,
           20,
           20,
           20,
           20,
           9,
           9,
           9,
           9,
           9,
           9,
           9,
           21,
           21,
           21,
           21,
           21,
           21,
           21,
           1,
           1,
           1,
           1,
           1,
           1,
           1,
           17,
           17,
           17,
           17,
           17,
           17,
           17,
           0,
           0,
           0,
           0,
           0,
           0,
           0,
           20,
           20,
           20,
           20,
           20,
           20,
           20,
           9,
           9,
           9,
           9,
           9,
           9,
           9,
           21,
           21,
           21,
           21,
           21,
           21,
           21,
           1,
           1,
           1,
           1,
           1,
           1,
           1,
           17,
           17,
           17,
           17,
           17,
           17,
           17,
           0,
           0,
           0,
           0,
           0,
           0,
           0,
           20,
           20,
           20,
           20,
           20,
           20,
           20,
           9,
           9,
           9,
           9,
           9,
           9,
           9,
           21,
           21,
           21,
           21,
           21,
           21,
           21,
           1,
           1,
           1,
           1,
           1,
           1,
           1,
           17,
           17,
           17,
           17,
           17,
           17,
           17,
           0,
           0,
           0,
           0,
           0,
           0,
           0,
           20,
           20,
           20,
           20,
           20,
           9,
           9,
           9,
           9,
           9,
           21,
           21,
           21,
           21,
           21,
           1,
           1,
           1,
           1,
           1,
           17,
           17,
           17,
           17,
           17,
           0,
           0,
           0,
           0,
           0,
           20,
           20,
           20,
           9,
           9,
           9,
           21,
           21,
           21,
           1,
           1,
           1,
           17,
           17,
           17,
           0,
           0,
           0,
           20,
           20,
           20,
           20,
           20,
           20,
           20,
           20,
           9,
           9,
           9,
           9,
           9,
           9,
           9,
           9,
           21,
           21,
           21,
           21,
           21,
           21,
           21,
           21,
           1,
           1,
           1,
           1,
           1,
           1,
           1,
           1,
           17,
           17,
           17,
           17,
           17,
           17,
           17,
           17,
           0,
           0,
           0,
           0,
           0,
           0,
           0,
           0,
           20,
           20,
           20,
           20,
           20,
           20,
           9,
           9,
           9,
           9,
           9,
           9,
           21,
           21,
           21,
           21,
           21,
           21,
           1,
           1,
           1,
           1,
           1,
           1,
           17,
           17,
           17,
           17,
           17,
           17,
           0,
           0,
           0,
           0,
           0,
           0,
           20,
           20,
           20,
           20,
           9,
           9,
           9,
           9,
           21,
           21,
           21,
           21,
           1,
           1,
           1,
           1,
           17,
           17,
           17,
           17,
           0,
           0,
           0,
           0,
           2,
           7,
           11,
           16,
           13,
           12,
           2,
           7,
           11,
           16,
           13,
           12,
           2,
           7,
           11,
           16,
           13,
           12,
           2,
           7,
           11,
           16,
           13,
           12,
           2,
           7,
           11,
           16,
           13,
           12,
           2,
           7,
           11,
           16,
           13,
           12,
           2,
           7,
           11,
           16,
           13,
           12,
           8,
           2,
           7,
           11,
           16,
           13,
           12,
           8,
           2,
           7,
           11,
           16,
           13,
           12,
           8,
           2,
           7,
           11,
           16,
           13,
           12,
           8,
           2,
           7,
           11,
           16,
           13,
           12,
           8,
           2,
           7,
           11,
           16,
           13,
           12,
           8,
           2,
           7,
           11,
           16,
           13,
           12,
           8,
           2,
           7,
           11,
           16,
           13,
           12,
           8,
           2,
           7,
           11,
           16,
           13,
           12,
           8,
           2,
           7,
           11,
           16,
           13,
           12,
           8,
           2,
           7,
           11,
           16,
           13,
           12,
           8,
           2,
           7,
           11,
           16,
           13,
           12,
           8,
           2,
           7,
           11,
           16,
           13,
           12,
           8,
           2,
           7,
           11,
           16,
           13,
           12,
           8,
           2,
           7,
           11,
           16,
           13,
           12,
           8,
           2,
           7,
           11,
           16,
           13,
           12,
           8,
           2,
           7,
           11,
           16,
           13,
           12,
           8,
           2,
           7,
           11,
           16,
           13,
           12,
           8,
           7,
           11,
           16,
           13,
           8,
           7,
           11,
           16,
           13,
           8,
           7,
           11,
           16,
           13,
           8,
           7,
           11,
           16,
           13,
           8,
           7,
           11,
           16,
           13,
           8,
           7,
           11,
           16,
           13,
           8,
           16,
           13,
           8,
           16,
           13,
           8,
           16,
           13,
           8,
           16,
           13,
           8,
           16,
           13,
           8,
           16,
           13,
           8,
           2,
           7,
           11,
           16,
           13,
           12,
           8,
           6,
           2,
           7,
           11,
           16,
           13,
           12,
           8,
           6,
           2,
           7,
           11,
           16,
           13,
           12,
           8,
           6,
           2,
           7,
           11,
           16,
           13,
           12,
           8,
           6,
           2,
           7,
           11,
           16,
           13,
           12,
           8,
           6,
           2,
           7,
           11,
           16,
           13,
           12,
           8,
           6,
           2,
           7,
           11,
           16,
           13,
           8,
           2,
           7,
           11,
           16,
           13,
           8,
           2,
           7,
           11,
           16,
           13,
           8,
           2,
           7,
           11,
           16,
           13,
           8,
           2,
           7,
           11,
           16,
           13,
           8,
           2,
           7,
           11,
           16,
           13,
           8,
           2,
           16,
           13,
           8,
           2,
           16,
           13,
           8,
           2,
           16,
           13,
           8,
           2,
           16,
           13,
           8,
           2,
           16,
           13,
           8,
           2,
           16,
           13,
           8
          ],
          "value": [
           0.012749401,
           0.7815091895,
           0.0054209633,
           0.8271946573,
           1.3665526895,
           1.9773786273999998,
           0.0129663795,
           0.0641391563,
           0.0054262904,
           1.6964026798,
           1.0675018358,
           1.9203727260999999,
           0.012942291,
           4.6247221832,
           0.0054541226,
           0.6396696546999999,
           0.0975564681,
           0.0160432383,
           0.9354268,
           2.0215277312,
           0.97281593,
           3.7752885364,
           3.7793345498999997,
           0.061596293899999995,
           0.012897444,
           0.44314596720000005,
           0.00546332,
           0.0306426878,
           1.0818794755,
           0.016026034,
           0.013007717,
           0.0648664451,
           0.005423133,
           0.0302533466,
           2.607136785,
           0.0161582304,
           1.0798473241,
           0.5783977516,
           7.8383715876,
           5.3330801622,
           4.1315481705,
           1.1734816879999999,
           3.6503486785,
           0.1115353288,
           1.7059718721000001,
           5.6502946579,
           7.6346616016,
           15.9625229149,
           0.9516696964,
           3.9726341814,
           2.0170071992,
           16.3799172483,
           5.5706996229,
           10.9590772142,
           7.7250307491,
           0.0557197007,
           2.7758461502,
           8.6968048545,
           17.6002843096,
           18.7869887997,
           22.5482614528,
           20.4083099231,
           1.3401158238,
           6.6713695853,
           3.6675791333,
           4.7721944040999995,
           10.442670400799999,
           6.9498286079,
           9.3659827103,
           1.275748042,
           6.5685203914,
           1.4221925904000001,
           4.0191723054,
           11.7318332665,
           1.5767898789,
           14.4028007333,
           3.1982461649,
           0.3672499802,
           0.14242275715,
           0.5486622976000001,
           15.6033646432,
           5.1761716635,
           3.8422118076,
           3.9315782884,
           1.0424055944000001,
           0.37595818280000004,
           1.002022194,
           6.2137755869,
           2.1685933227,
           15.0609909737,
           0.039985518899999996,
           2.9559033666,
           3.8524029505,
           2.587068735,
           3.0541632583,
           6.0263409186,
           6.272940456,
           0.0397721472,
           0.0529750555,
           7.1387466103,
           2.8917677319,
           12.8940663381,
           13.3750436818,
           22.3518054315,
           0.518563688,
           1.4309826019,
           3.50845340746,
           0.2795131856,
           7.8799185657,
           8.4489924301,
           8.5068451219,
           3.4306472173,
           1.4933190217,
           0.9827833558000001,
           0.6909792062,
           3.3551796505,
           1.8032733987,
           11.969217257,
           0.0394717781,
           1.0245271861,
           0.353981361,
           0.1147157623,
           0.0747888926,
           1.5039883557,
           2.0344409322,
           0.997232058,
           0.003575595,
           0.042465439,
           0.1156117186,
           2.666128333,
           0.9941304938,
           2.5808242098,
           1.0037445997,
           0.003617158,
           0.579759592,
           4.9381455851,
           0.0737706699,
           1.7986073521000001,
           3.4823877044,
           0.018783675200000002,
           0.0035729343,
           0.042710635,
           8.0465497404,
           2.1149567187,
           8.6476077503,
           5.5027260874,
           1.9424869466999999,
           0.18319614,
           0.985824822,
           0.7672956625,
           1.2284965362,
           1.0068892813,
           1.3296598185,
           0.0186899925,
           0.8023877,
           0.9906232960000001,
           2.0198067624,
           2.8405693118,
           1.0490122288000001,
           3.0710284823,
           0.0190818322,
           0.0036609743,
           0.124677266,
           5.2639158697,
           0.0914361598,
           0.0067830756,
           0.020004863,
           0.125643965,
           3.5441472835,
           0.0906729079,
           0.0067786924,
           0.02029425,
           1.57928516,
           0.0659815971,
           1.8717840217000001,
           0.0067876973,
           0.020188058,
           0.351527829,
           1.0338339124,
           0.9667461679999999,
           0.006950677,
           0.020858485,
           0.684989327,
           0.0666469316,
           2.9771850865,
           0.0068316837,
           0.21710332,
           0.127773749,
           1.0253421844000001,
           1.0021703063,
           0.9658665,
           0.7016078,
           0.038725045,
           0.004712055,
           0.014150211,
           0.038661335,
           0.5278368,
           0.014425888,
           0.038586807,
           0.029414132,
           0.01441782,
           0.80578226,
           0.43890056,
           0.9280402,
           0.039043922,
           0.004745598,
           0.014528945,
           0.03921486,
           0.004781081,
           0.014442985,
           0.20226352290000002,
           1.041737407,
           5.6466962373000005,
           6.8409305785,
           11.039874844,
           1.8191867372,
           3.3943705822,
           0.20894004,
           1.6932838387,
           3.2049945809000002,
           8.576441801,
           8.2750060355,
           12.0130493997,
           4.7725915871,
           2.157964075,
           0.017819414,
           3.0052089746,
           10.7493917835,
           2.2509935327,
           11.1627972229,
           15.8674040557,
           1.0774215059,
           3.8572021291,
           0.01765408,
           7.5372667945,
           23.807132128,
           11.4173277936,
           49.1436580103,
           25.6379507888,
           4.9939133768,
           5.9942128132,
           0.017466735,
           1.7780432425,
           1.9530471,
           17.2151053425,
           15.1599873262,
           15.6672921316,
           2.1046063052,
           2.6751760436,
           0.71925867,
           1.7842899922,
           3.2436156519,
           4.8930309112,
           12.4927172292,
           29.1120444054,
           0.2331086342,
           4.9179270622,
           0.01784738,
           0.019674895300000002,
           0.0115477268,
           0.055610044,
           0.0124221956,
           0.8083611481999999,
           0.0092876265,
           0.0197743682,
           0.957790197,
           1.1009012166,
           0.0124552033,
           3.2949153318,
           0.009566051,
           0.0198243702,
           0.3757209389,
           0.0561977504,
           0.9771764030000001,
           2.5827045307,
           0.009545043,
           0.910273576,
           0.1410826255,
           3.339898867,
           0.2344263459,
           6.0711447079,
           0.009961142,
           0.13573762979999998,
           1.5059195346,
           1.6730358849999998,
           1.7509910716,
           2.1056331237999997,
           0.9522595,
           1.893679466,
           0.011617978,
           0.7755562478,
           0.0124844056,
           1.1304450268,
           0.009373692,
           0.0109990557,
           0.005975773,
           0.044477378,
           0.08484259159999999,
           0.011139666699999998,
           0.00605987,
           0.9248554508,
           0.0861768516,
           0.9630804215,
           0.0059514674,
           0.0442254037,
           0.086159243,
           0.992583259,
           0.0061245756,
           0.0440688803,
           2.01009439,
           0.011035988600000001,
           0.9699225,
           1.8542362300000002,
           0.6455339525,
           0.0111563516,
           0.005965118,
           0.06645406,
           0.087271448,
           0.012749401,
           0.7815091895,
           0.0054209633,
           0.8271946573,
           1.3665526895,
           1.9773786273999998,
           0.0129663795,
           0.0641391563,
           0.0054262904,
           1.6964026798,
           1.0675018358,
           1.9203727260999999,
           0.012942291,
           4.6247221832,
           0.0054541226,
           0.6396696546999999,
           0.0975564681,
           0.0160432383,
           0.9354268,
           2.0215277312,
           0.97281593,
           3.7752885364,
           3.7793345498999997,
           0.061596293899999995,
           0.012897444,
           0.44314596720000005,
           0.00546332,
           0.0306426878,
           1.0818794755,
           0.016026034,
           0.013007717,
           0.0648664451,
           0.005423133,
           0.0302533466,
           2.607136785,
           0.0161582304,
           1.0798473241,
           0.5783977516,
           7.8383715876,
           5.3330801622,
           4.1315481705,
           1.1734816879999999,
           3.6503486785,
           0.1115353288,
           1.7059718721000001,
           5.6502946579,
           7.6346616016,
           15.9625229149,
           0.9516696964,
           3.9726341814,
           2.0170071992,
           16.3799172483,
           5.5706996229,
           10.9590772142,
           7.7250307491,
           0.0557197007,
           2.7758461502,
           8.6968048545,
           17.6002843096,
           18.7869887997,
           22.5482614528,
           20.4083099231,
           1.3401158238,
           6.6713695853,
           3.6675791333,
           4.7721944040999995,
           10.442670400799999,
           6.9498286079,
           9.3659827103,
           1.275748042,
           6.5685203914,
           1.4221925904000001,
           4.0191723054,
           11.7318332665,
           1.5767898789,
           14.4028007333,
           3.1982461649,
           0.3672499802,
           0.14242275715,
           0.5486622976000001,
           15.6033646432,
           5.1761716635,
           3.8422118076,
           3.9315782884,
           1.0424055944000001,
           0.37595818280000004,
           1.002022194,
           6.2137755869,
           2.1685933227,
           15.0609909737,
           0.039985518899999996,
           2.9559033666,
           3.8524029505,
           2.587068735,
           3.0541632583,
           6.0263409186,
           6.272940456,
           0.0397721472,
           0.0529750555,
           7.1387466103,
           2.8917677319,
           12.8940663381,
           13.3750436818,
           22.3518054315,
           0.518563688,
           1.4309826019,
           3.50845340746,
           0.2795131856,
           7.8799185657,
           8.4489924301,
           8.5068451219,
           3.4306472173,
           1.4933190217,
           0.9827833558000001,
           0.6909792062,
           3.3551796505,
           1.8032733987,
           11.969217257,
           0.0394717781,
           1.0245271861,
           0.353981361,
           0.1147157623,
           0.0747888926,
           1.5039883557,
           2.0344409322,
           0.997232058,
           0.003575595,
           0.042465439,
           0.1156117186,
           2.666128333,
           0.9941304938,
           2.5808242098,
           1.0037445997,
           0.003617158,
           0.579759592,
           4.9381455851,
           0.0737706699,
           1.7986073521000001,
           3.4823877044,
           0.018783675200000002,
           0.0035729343,
           0.042710635,
           8.0465497404,
           2.1149567187,
           8.6476077503,
           5.5027260874,
           1.9424869466999999,
           0.18319614,
           0.985824822,
           0.7672956625,
           1.2284965362,
           1.0068892813,
           1.3296598185,
           0.0186899925,
           0.8023877,
           0.9906232960000001,
           2.0198067624,
           2.8405693118,
           1.0490122288000001,
           3.0710284823,
           0.0190818322,
           0.0036609743,
           0.124677266,
           5.2639158697,
           0.0914361598,
           0.0067830756,
           0.020004863,
           0.125643965,
           3.5441472835,
           0.0906729079,
           0.0067786924,
           0.02029425,
           1.57928516,
           0.0659815971,
           1.8717840217000001,
           0.0067876973,
           0.020188058,
           0.351527829,
           1.0338339124,
           0.9667461679999999,
           0.006950677,
           0.020858485,
           0.684989327,
           0.0666469316,
           2.9771850865,
           0.0068316837,
           0.21710332,
           0.127773749,
           1.0253421844000001,
           1.0021703063,
           0.9658665,
           0.7016078,
           0.038725045,
           0.004712055,
           0.014150211,
           0.038661335,
           0.5278368,
           0.014425888,
           0.038586807,
           0.029414132,
           0.01441782,
           0.80578226,
           0.43890056,
           0.9280402,
           0.039043922,
           0.004745598,
           0.014528945,
           0.03921486,
           0.004781081,
           0.014442985,
           0.20226352290000002,
           1.041737407,
           5.6466962373000005,
           6.8409305785,
           11.039874844,
           1.8191867372,
           3.3943705822,
           0.20894004,
           1.6932838387,
           3.2049945809000002,
           8.576441801,
           8.2750060355,
           12.0130493997,
           4.7725915871,
           2.157964075,
           0.017819414,
           3.0052089746,
           10.7493917835,
           2.2509935327,
           11.1627972229,
           15.8674040557,
           1.0774215059,
           3.8572021291,
           0.01765408,
           7.5372667945,
           23.807132128,
           11.4173277936,
           49.1436580103,
           25.6379507888,
           4.9939133768,
           5.9942128132,
           0.017466735,
           1.7780432425,
           1.9530471,
           17.2151053425,
           15.1599873262,
           15.6672921316,
           2.1046063052,
           2.6751760436,
           0.71925867,
           1.7842899922,
           3.2436156519,
           4.8930309112,
           12.4927172292,
           29.1120444054,
           0.2331086342,
           4.9179270622,
           0.01784738,
           0.019674895300000002,
           0.0115477268,
           0.055610044,
           0.0124221956,
           0.8083611481999999,
           0.0092876265,
           0.0197743682,
           0.957790197,
           1.1009012166,
           0.0124552033,
           3.2949153318,
           0.009566051,
           0.0198243702,
           0.3757209389,
           0.0561977504,
           0.9771764030000001,
           2.5827045307,
           0.009545043,
           0.910273576,
           0.1410826255,
           3.339898867,
           0.2344263459,
           6.0711447079,
           0.009961142,
           0.13573762979999998,
           1.5059195346,
           1.6730358849999998,
           1.7509910716,
           2.1056331237999997,
           0.9522595,
           1.893679466,
           0.011617978,
           0.7755562478,
           0.0124844056,
           1.1304450268,
           0.009373692,
           0.0109990557,
           0.005975773,
           0.044477378,
           0.08484259159999999,
           0.011139666699999998,
           0.00605987,
           0.9248554508,
           0.0861768516,
           0.9630804215,
           0.0059514674,
           0.0442254037,
           0.086159243,
           0.992583259,
           0.0061245756,
           0.0440688803,
           2.01009439,
           0.011035988600000001,
           0.9699225,
           1.8542362300000002,
           0.6455339525,
           0.0111563516,
           0.005965118,
           0.06645406,
           0.087271448
          ]
         },
         "node": {
          "label": [
           "Retail and Consumer Issues",
           "Legal and Regulatory",
           "Adult social care",
           "Public (Government)",
           "Company",
           "Public",
           "Unallocated requests",
           "Childrens Services",
           "Resident experience",
           "Education and Schools",
           "Law Firm",
           "Corporate Services",
           "Finance",
           "Environment services",
           "Journalist",
           "Academic",
           "Economy",
           "Property and Business",
           "Charity",
           "Unknown",
           "Contract Management",
           "Housing and Support",
           "Police"
          ],
          "line": {
           "color": "black",
           "width": 0.01
          },
          "pad": 15,
          "thickness": 20
         },
         "type": "sankey"
        }
       ],
       "layout": {
        "font": {
         "size": 10
        },
        "height": 1000,
        "template": {
         "data": {
          "bar": [
           {
            "error_x": {
             "color": "#2a3f5f"
            },
            "error_y": {
             "color": "#2a3f5f"
            },
            "marker": {
             "line": {
              "color": "#E5ECF6",
              "width": 0.5
             },
             "pattern": {
              "fillmode": "overlay",
              "size": 10,
              "solidity": 0.2
             }
            },
            "type": "bar"
           }
          ],
          "barpolar": [
           {
            "marker": {
             "line": {
              "color": "#E5ECF6",
              "width": 0.5
             },
             "pattern": {
              "fillmode": "overlay",
              "size": 10,
              "solidity": 0.2
             }
            },
            "type": "barpolar"
           }
          ],
          "carpet": [
           {
            "aaxis": {
             "endlinecolor": "#2a3f5f",
             "gridcolor": "white",
             "linecolor": "white",
             "minorgridcolor": "white",
             "startlinecolor": "#2a3f5f"
            },
            "baxis": {
             "endlinecolor": "#2a3f5f",
             "gridcolor": "white",
             "linecolor": "white",
             "minorgridcolor": "white",
             "startlinecolor": "#2a3f5f"
            },
            "type": "carpet"
           }
          ],
          "choropleth": [
           {
            "colorbar": {
             "outlinewidth": 0,
             "ticks": ""
            },
            "type": "choropleth"
           }
          ],
          "contour": [
           {
            "colorbar": {
             "outlinewidth": 0,
             "ticks": ""
            },
            "colorscale": [
             [
              0,
              "#0d0887"
             ],
             [
              0.1111111111111111,
              "#46039f"
             ],
             [
              0.2222222222222222,
              "#7201a8"
             ],
             [
              0.3333333333333333,
              "#9c179e"
             ],
             [
              0.4444444444444444,
              "#bd3786"
             ],
             [
              0.5555555555555556,
              "#d8576b"
             ],
             [
              0.6666666666666666,
              "#ed7953"
             ],
             [
              0.7777777777777778,
              "#fb9f3a"
             ],
             [
              0.8888888888888888,
              "#fdca26"
             ],
             [
              1,
              "#f0f921"
             ]
            ],
            "type": "contour"
           }
          ],
          "contourcarpet": [
           {
            "colorbar": {
             "outlinewidth": 0,
             "ticks": ""
            },
            "type": "contourcarpet"
           }
          ],
          "heatmap": [
           {
            "colorbar": {
             "outlinewidth": 0,
             "ticks": ""
            },
            "colorscale": [
             [
              0,
              "#0d0887"
             ],
             [
              0.1111111111111111,
              "#46039f"
             ],
             [
              0.2222222222222222,
              "#7201a8"
             ],
             [
              0.3333333333333333,
              "#9c179e"
             ],
             [
              0.4444444444444444,
              "#bd3786"
             ],
             [
              0.5555555555555556,
              "#d8576b"
             ],
             [
              0.6666666666666666,
              "#ed7953"
             ],
             [
              0.7777777777777778,
              "#fb9f3a"
             ],
             [
              0.8888888888888888,
              "#fdca26"
             ],
             [
              1,
              "#f0f921"
             ]
            ],
            "type": "heatmap"
           }
          ],
          "heatmapgl": [
           {
            "colorbar": {
             "outlinewidth": 0,
             "ticks": ""
            },
            "colorscale": [
             [
              0,
              "#0d0887"
             ],
             [
              0.1111111111111111,
              "#46039f"
             ],
             [
              0.2222222222222222,
              "#7201a8"
             ],
             [
              0.3333333333333333,
              "#9c179e"
             ],
             [
              0.4444444444444444,
              "#bd3786"
             ],
             [
              0.5555555555555556,
              "#d8576b"
             ],
             [
              0.6666666666666666,
              "#ed7953"
             ],
             [
              0.7777777777777778,
              "#fb9f3a"
             ],
             [
              0.8888888888888888,
              "#fdca26"
             ],
             [
              1,
              "#f0f921"
             ]
            ],
            "type": "heatmapgl"
           }
          ],
          "histogram": [
           {
            "marker": {
             "pattern": {
              "fillmode": "overlay",
              "size": 10,
              "solidity": 0.2
             }
            },
            "type": "histogram"
           }
          ],
          "histogram2d": [
           {
            "colorbar": {
             "outlinewidth": 0,
             "ticks": ""
            },
            "colorscale": [
             [
              0,
              "#0d0887"
             ],
             [
              0.1111111111111111,
              "#46039f"
             ],
             [
              0.2222222222222222,
              "#7201a8"
             ],
             [
              0.3333333333333333,
              "#9c179e"
             ],
             [
              0.4444444444444444,
              "#bd3786"
             ],
             [
              0.5555555555555556,
              "#d8576b"
             ],
             [
              0.6666666666666666,
              "#ed7953"
             ],
             [
              0.7777777777777778,
              "#fb9f3a"
             ],
             [
              0.8888888888888888,
              "#fdca26"
             ],
             [
              1,
              "#f0f921"
             ]
            ],
            "type": "histogram2d"
           }
          ],
          "histogram2dcontour": [
           {
            "colorbar": {
             "outlinewidth": 0,
             "ticks": ""
            },
            "colorscale": [
             [
              0,
              "#0d0887"
             ],
             [
              0.1111111111111111,
              "#46039f"
             ],
             [
              0.2222222222222222,
              "#7201a8"
             ],
             [
              0.3333333333333333,
              "#9c179e"
             ],
             [
              0.4444444444444444,
              "#bd3786"
             ],
             [
              0.5555555555555556,
              "#d8576b"
             ],
             [
              0.6666666666666666,
              "#ed7953"
             ],
             [
              0.7777777777777778,
              "#fb9f3a"
             ],
             [
              0.8888888888888888,
              "#fdca26"
             ],
             [
              1,
              "#f0f921"
             ]
            ],
            "type": "histogram2dcontour"
           }
          ],
          "mesh3d": [
           {
            "colorbar": {
             "outlinewidth": 0,
             "ticks": ""
            },
            "type": "mesh3d"
           }
          ],
          "parcoords": [
           {
            "line": {
             "colorbar": {
              "outlinewidth": 0,
              "ticks": ""
             }
            },
            "type": "parcoords"
           }
          ],
          "pie": [
           {
            "automargin": true,
            "type": "pie"
           }
          ],
          "scatter": [
           {
            "fillpattern": {
             "fillmode": "overlay",
             "size": 10,
             "solidity": 0.2
            },
            "type": "scatter"
           }
          ],
          "scatter3d": [
           {
            "line": {
             "colorbar": {
              "outlinewidth": 0,
              "ticks": ""
             }
            },
            "marker": {
             "colorbar": {
              "outlinewidth": 0,
              "ticks": ""
             }
            },
            "type": "scatter3d"
           }
          ],
          "scattercarpet": [
           {
            "marker": {
             "colorbar": {
              "outlinewidth": 0,
              "ticks": ""
             }
            },
            "type": "scattercarpet"
           }
          ],
          "scattergeo": [
           {
            "marker": {
             "colorbar": {
              "outlinewidth": 0,
              "ticks": ""
             }
            },
            "type": "scattergeo"
           }
          ],
          "scattergl": [
           {
            "marker": {
             "colorbar": {
              "outlinewidth": 0,
              "ticks": ""
             }
            },
            "type": "scattergl"
           }
          ],
          "scattermapbox": [
           {
            "marker": {
             "colorbar": {
              "outlinewidth": 0,
              "ticks": ""
             }
            },
            "type": "scattermapbox"
           }
          ],
          "scatterpolar": [
           {
            "marker": {
             "colorbar": {
              "outlinewidth": 0,
              "ticks": ""
             }
            },
            "type": "scatterpolar"
           }
          ],
          "scatterpolargl": [
           {
            "marker": {
             "colorbar": {
              "outlinewidth": 0,
              "ticks": ""
             }
            },
            "type": "scatterpolargl"
           }
          ],
          "scatterternary": [
           {
            "marker": {
             "colorbar": {
              "outlinewidth": 0,
              "ticks": ""
             }
            },
            "type": "scatterternary"
           }
          ],
          "surface": [
           {
            "colorbar": {
             "outlinewidth": 0,
             "ticks": ""
            },
            "colorscale": [
             [
              0,
              "#0d0887"
             ],
             [
              0.1111111111111111,
              "#46039f"
             ],
             [
              0.2222222222222222,
              "#7201a8"
             ],
             [
              0.3333333333333333,
              "#9c179e"
             ],
             [
              0.4444444444444444,
              "#bd3786"
             ],
             [
              0.5555555555555556,
              "#d8576b"
             ],
             [
              0.6666666666666666,
              "#ed7953"
             ],
             [
              0.7777777777777778,
              "#fb9f3a"
             ],
             [
              0.8888888888888888,
              "#fdca26"
             ],
             [
              1,
              "#f0f921"
             ]
            ],
            "type": "surface"
           }
          ],
          "table": [
           {
            "cells": {
             "fill": {
              "color": "#EBF0F8"
             },
             "line": {
              "color": "white"
             }
            },
            "header": {
             "fill": {
              "color": "#C8D4E3"
             },
             "line": {
              "color": "white"
             }
            },
            "type": "table"
           }
          ]
         },
         "layout": {
          "annotationdefaults": {
           "arrowcolor": "#2a3f5f",
           "arrowhead": 0,
           "arrowwidth": 1
          },
          "autotypenumbers": "strict",
          "coloraxis": {
           "colorbar": {
            "outlinewidth": 0,
            "ticks": ""
           }
          },
          "colorscale": {
           "diverging": [
            [
             0,
             "#8e0152"
            ],
            [
             0.1,
             "#c51b7d"
            ],
            [
             0.2,
             "#de77ae"
            ],
            [
             0.3,
             "#f1b6da"
            ],
            [
             0.4,
             "#fde0ef"
            ],
            [
             0.5,
             "#f7f7f7"
            ],
            [
             0.6,
             "#e6f5d0"
            ],
            [
             0.7,
             "#b8e186"
            ],
            [
             0.8,
             "#7fbc41"
            ],
            [
             0.9,
             "#4d9221"
            ],
            [
             1,
             "#276419"
            ]
           ],
           "sequential": [
            [
             0,
             "#0d0887"
            ],
            [
             0.1111111111111111,
             "#46039f"
            ],
            [
             0.2222222222222222,
             "#7201a8"
            ],
            [
             0.3333333333333333,
             "#9c179e"
            ],
            [
             0.4444444444444444,
             "#bd3786"
            ],
            [
             0.5555555555555556,
             "#d8576b"
            ],
            [
             0.6666666666666666,
             "#ed7953"
            ],
            [
             0.7777777777777778,
             "#fb9f3a"
            ],
            [
             0.8888888888888888,
             "#fdca26"
            ],
            [
             1,
             "#f0f921"
            ]
           ],
           "sequentialminus": [
            [
             0,
             "#0d0887"
            ],
            [
             0.1111111111111111,
             "#46039f"
            ],
            [
             0.2222222222222222,
             "#7201a8"
            ],
            [
             0.3333333333333333,
             "#9c179e"
            ],
            [
             0.4444444444444444,
             "#bd3786"
            ],
            [
             0.5555555555555556,
             "#d8576b"
            ],
            [
             0.6666666666666666,
             "#ed7953"
            ],
            [
             0.7777777777777778,
             "#fb9f3a"
            ],
            [
             0.8888888888888888,
             "#fdca26"
            ],
            [
             1,
             "#f0f921"
            ]
           ]
          },
          "colorway": [
           "#636efa",
           "#EF553B",
           "#00cc96",
           "#ab63fa",
           "#FFA15A",
           "#19d3f3",
           "#FF6692",
           "#B6E880",
           "#FF97FF",
           "#FECB52"
          ],
          "font": {
           "color": "#2a3f5f"
          },
          "geo": {
           "bgcolor": "white",
           "lakecolor": "white",
           "landcolor": "#E5ECF6",
           "showlakes": true,
           "showland": true,
           "subunitcolor": "white"
          },
          "hoverlabel": {
           "align": "left"
          },
          "hovermode": "closest",
          "mapbox": {
           "style": "light"
          },
          "paper_bgcolor": "white",
          "plot_bgcolor": "#E5ECF6",
          "polar": {
           "angularaxis": {
            "gridcolor": "white",
            "linecolor": "white",
            "ticks": ""
           },
           "bgcolor": "#E5ECF6",
           "radialaxis": {
            "gridcolor": "white",
            "linecolor": "white",
            "ticks": ""
           }
          },
          "scene": {
           "xaxis": {
            "backgroundcolor": "#E5ECF6",
            "gridcolor": "white",
            "gridwidth": 2,
            "linecolor": "white",
            "showbackground": true,
            "ticks": "",
            "zerolinecolor": "white"
           },
           "yaxis": {
            "backgroundcolor": "#E5ECF6",
            "gridcolor": "white",
            "gridwidth": 2,
            "linecolor": "white",
            "showbackground": true,
            "ticks": "",
            "zerolinecolor": "white"
           },
           "zaxis": {
            "backgroundcolor": "#E5ECF6",
            "gridcolor": "white",
            "gridwidth": 2,
            "linecolor": "white",
            "showbackground": true,
            "ticks": "",
            "zerolinecolor": "white"
           }
          },
          "shapedefaults": {
           "line": {
            "color": "#2a3f5f"
           }
          },
          "ternary": {
           "aaxis": {
            "gridcolor": "white",
            "linecolor": "white",
            "ticks": ""
           },
           "baxis": {
            "gridcolor": "white",
            "linecolor": "white",
            "ticks": ""
           },
           "bgcolor": "#E5ECF6",
           "caxis": {
            "gridcolor": "white",
            "linecolor": "white",
            "ticks": ""
           }
          },
          "title": {
           "x": 0.05
          },
          "xaxis": {
           "automargin": true,
           "gridcolor": "white",
           "linecolor": "white",
           "ticks": "",
           "title": {
            "standoff": 15
           },
           "zerolinecolor": "white",
           "zerolinewidth": 2
          },
          "yaxis": {
           "automargin": true,
           "gridcolor": "white",
           "linecolor": "white",
           "ticks": "",
           "title": {
            "standoff": 15
           },
           "zerolinecolor": "white",
           "zerolinewidth": 2
          }
         }
        },
        "title": {
         "text": "Sankey Diagram"
        },
        "width": 1200
       }
      }
     },
     "metadata": {},
     "output_type": "display_data"
    }
   ],
   "source": [
    "output = output_data.copy()\n",
    "FOI_topics = FOI_final.copy()\n",
    "# Step 1: Convert 'col1' and 'col2' into lists\n",
    "output['Top Doc Indices List'] = output['Top Doc Indices'].str.split(',')\n",
    "output['Top Doc Relevance List'] = output['Top Doc Relevance'].str.split(',')\n",
    "\n",
    "# Step 2: Create a new column that combines both lists into a dictionary\n",
    "output['combined_dict'] = output.apply(lambda row: dict(zip(row['Top Doc Indices List'], row['Top Doc Relevance List'])), axis=1)\n",
    "output.drop(['Top Doc Indices List','Top Doc Relevance List','Top Doc Indices','Top Doc Relevance', 'Top Terms'],axis=1,inplace=True)\n",
    "output.set_index('Topic',inplace=True)\n",
    "\n",
    "expanded_rows = output['combined_dict'].apply(pd.Series).stack().reset_index()\n",
    "expanded_rows['index'] = expanded_rows['level_1'].astype('Int64')\n",
    "\n",
    "columns = [\n",
    "    'caseid',\n",
    "    'directorate',\n",
    "    'category'\n",
    "]\n",
    "FOI_topics = FOI_topics[columns]\n",
    "FOI_topics.reset_index(inplace=True)\n",
    "FOI_merged = pd.merge(\n",
    "    expanded_rows, FOI_topics,\n",
    "    how='left', on='index',\n",
    "    suffixes=('', '_drop')\n",
    ")\n",
    "FOI_merged.drop(columns=['level_1','index'],inplace=True)\n",
    "FOI_merged.rename(columns={0:'Relevance'},inplace=True)\n",
    "FOI_merged['Relevance'] = FOI_merged['Relevance'].astype(float)\n",
    "\n",
    "topic_names = {\n",
    "    'Topic 1' : 'Housing and Support',\n",
    "    'Topic 2' : 'Contract Management',\n",
    "    'Topic 3' : 'Education and Schools',\n",
    "    'Topic 4' : 'Legal and Regulatory',\n",
    "    'Topic 5' : 'Retail and Consumer Issues',\n",
    "    'Topic 6' : 'Property and Business'\n",
    "}\n",
    "FOI_merged['Topic'] = FOI_merged['Topic'].map(topic_names)\n",
    "FOI_merged\n",
    "sankey3_diagram(FOI_merged,source='category',intermediate='Topic',target='directorate', value='Relevance', name='DIRECTORATE')"
   ]
  },
  {
   "cell_type": "code",
   "execution_count": null,
   "metadata": {},
   "outputs": [],
   "source": [
    "topic_doc_matrix = lda_model.get_document_topics(corpus, minimum_probability=0)  # Get the topic-document distribution\n",
    "for i in range(1, num_topics + 1):  # Indices are 1-based, not 0-based\n",
    "    # Find the most related documents for the topic\n",
    "    topic_index = i - 1  # Convert to 0-based index\n",
    "    doc_relevance = [doc[topic_index][1] for doc in topic_doc_matrix]  # Extract the relevance of documents for this topic\n",
    "    top_doc_indices = sorted(range(len(doc_relevance)), key=lambda x: doc_relevance[x], reverse=True)[:num_docs]\n",
    "    print(doc_relevance[0])\n",
    "    print(f'{topic_index}: {topic_doc_matrix[0][topic_index][1]}')"
   ]
  },
  {
   "cell_type": "code",
   "execution_count": null,
   "metadata": {},
   "outputs": [],
   "source": [
    "doc_relevance = [doc[topic_index][1] for doc in topic_doc_matrix]\n",
    "topic_doc_matrix[0][0][1]"
   ]
  }
 ],
 "metadata": {
  "kernelspec": {
   "display_name": "Python 3",
   "language": "python",
   "name": "python3"
  },
  "language_info": {
   "codemirror_mode": {
    "name": "ipython",
    "version": 3
   },
   "file_extension": ".py",
   "mimetype": "text/x-python",
   "name": "python",
   "nbconvert_exporter": "python",
   "pygments_lexer": "ipython3",
   "version": "3.12.8"
  }
 },
 "nbformat": 4,
 "nbformat_minor": 2
}
